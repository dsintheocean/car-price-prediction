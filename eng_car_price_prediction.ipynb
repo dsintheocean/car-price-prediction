{
  "cells": [
    {
      "cell_type": "markdown",
      "metadata": {
        "id": "309lZqL5ym6w"
      },
      "source": [
        "# Determining the market value of a car"
      ]
    },
    {
      "cell_type": "markdown",
      "metadata": {
        "id": "3VeQFlFeym6x"
      },
      "source": [
        "A used car sales service is developing an app to attract new customers. There you can find out the market value of your car.\n",
        "The task is to build a model that can determine the market value of a car based on its characteristics. We have at our disposal data on the technical characteristics, equipment and prices of other cars.\n",
        "\n",
        "Criteria that are important to the customer:\n",
        "quality of prediction;\n",
        "model training time;\n",
        "model prediction time.\n",
        "The data is in the autos.csv file.\n",
        "To assess the quality of models, the target RMSE metric, the target RMSE value is not lower than 2500."
      ]
    },
    {
      "cell_type": "markdown",
      "metadata": {
        "id": "vxTKJhJKym6x"
      },
      "source": [
        "## Data preprocessing"
      ]
    },
    {
      "cell_type": "code",
      "execution_count": 1,
      "metadata": {
        "id": "x71WVh7Iym6y",
        "outputId": "27f4b7a6-378c-4c85-9c41-e4a5e0a65f65",
        "colab": {
          "base_uri": "https://localhost:8080/"
        }
      },
      "outputs": [
        {
          "output_type": "stream",
          "name": "stdout",
          "text": [
            "Mounted at /content/drive\n"
          ]
        }
      ],
      "source": [
        "import pandas as pd\n",
        "import numpy as np\n",
        "import matplotlib.pyplot as plt\n",
        "\n",
        "from datetime import datetime\n",
        "import time\n",
        "\n",
        "from sklearn.model_selection import train_test_split\n",
        "from sklearn.preprocessing import StandardScaler\n",
        "from sklearn.preprocessing import OneHotEncoder\n",
        "from sklearn.preprocessing import OrdinalEncoder\n",
        "from sklearn.compose import ColumnTransformer\n",
        "\n",
        "from sklearn.model_selection import cross_validate\n",
        "from sklearn.model_selection import GridSearchCV\n",
        "from sklearn.linear_model import LinearRegression\n",
        "from sklearn.tree import DecisionTreeRegressor\n",
        "import lightgbm as lgb\n",
        "from sklearn.dummy import DummyRegressor\n",
        "\n",
        "from sklearn.metrics import mean_squared_error\n",
        "\n",
        "from google.colab import drive\n",
        "drive.mount('/content/drive')"
      ]
    },
    {
      "cell_type": "markdown",
      "metadata": {
        "id": "JJWqyPC4ym6z"
      },
      "source": [
        "**Let's examine the dataset data for gaps and duplicates. Let's evaluate the types of variables, anomalies and the usefulness of features for subsequent predictions of the target feature - the cost of a car.**"
      ]
    },
    {
      "cell_type": "code",
      "execution_count": 2,
      "metadata": {
        "id": "7dybXa-Yym6z",
        "outputId": "b0fde0d2-3124-4643-9175-e47c27b77a69",
        "colab": {
          "base_uri": "https://localhost:8080/"
        }
      },
      "outputs": [
        {
          "output_type": "stream",
          "name": "stdout",
          "text": [
            "<class 'pandas.core.frame.DataFrame'>\n",
            "RangeIndex: 354369 entries, 0 to 354368\n",
            "Data columns (total 16 columns):\n",
            " #   Column             Non-Null Count   Dtype \n",
            "---  ------             --------------   ----- \n",
            " 0   DateCrawled        354369 non-null  object\n",
            " 1   Price              354369 non-null  int64 \n",
            " 2   VehicleType        316879 non-null  object\n",
            " 3   RegistrationYear   354369 non-null  int64 \n",
            " 4   Gearbox            334536 non-null  object\n",
            " 5   Power              354369 non-null  int64 \n",
            " 6   Model              334664 non-null  object\n",
            " 7   Kilometer          354369 non-null  int64 \n",
            " 8   RegistrationMonth  354369 non-null  int64 \n",
            " 9   FuelType           321474 non-null  object\n",
            " 10  Brand              354369 non-null  object\n",
            " 11  Repaired           283215 non-null  object\n",
            " 12  DateCreated        354369 non-null  object\n",
            " 13  NumberOfPictures   354369 non-null  int64 \n",
            " 14  PostalCode         354369 non-null  int64 \n",
            " 15  LastSeen           354369 non-null  object\n",
            "dtypes: int64(7), object(9)\n",
            "memory usage: 43.3+ MB\n"
          ]
        }
      ],
      "source": [
        "data = pd.read_csv('/content/drive/My Drive/projects/car_price_prediction/autos.csv')\n",
        "data.info()"
      ]
    },
    {
      "cell_type": "code",
      "execution_count": 3,
      "metadata": {
        "id": "Ckohl5LEym6z",
        "outputId": "fd35aa06-dd9c-432f-f958-784e98f6c379",
        "colab": {
          "base_uri": "https://localhost:8080/",
          "height": 394
        }
      },
      "outputs": [
        {
          "output_type": "execute_result",
          "data": {
            "text/plain": [
              "           DateCrawled  Price VehicleType  RegistrationYear Gearbox  Power  \\\n",
              "0  2016-03-24 11:52:17    480         NaN              1993  manual      0   \n",
              "1  2016-03-24 10:58:45  18300       coupe              2011  manual    190   \n",
              "2  2016-03-14 12:52:21   9800         suv              2004    auto    163   \n",
              "3  2016-03-17 16:54:04   1500       small              2001  manual     75   \n",
              "4  2016-03-31 17:25:20   3600       small              2008  manual     69   \n",
              "\n",
              "   Model  Kilometer  RegistrationMonth  FuelType       Brand Repaired  \\\n",
              "0   golf     150000                  0    petrol  volkswagen      NaN   \n",
              "1    NaN     125000                  5  gasoline        audi      yes   \n",
              "2  grand     125000                  8  gasoline        jeep      NaN   \n",
              "3   golf     150000                  6    petrol  volkswagen       no   \n",
              "4  fabia      90000                  7  gasoline       skoda       no   \n",
              "\n",
              "           DateCreated  NumberOfPictures  PostalCode             LastSeen  \n",
              "0  2016-03-24 00:00:00                 0       70435  2016-04-07 03:16:57  \n",
              "1  2016-03-24 00:00:00                 0       66954  2016-04-07 01:46:50  \n",
              "2  2016-03-14 00:00:00                 0       90480  2016-04-05 12:47:46  \n",
              "3  2016-03-17 00:00:00                 0       91074  2016-03-17 17:40:17  \n",
              "4  2016-03-31 00:00:00                 0       60437  2016-04-06 10:17:21  "
            ],
            "text/html": [
              "\n",
              "  <div id=\"df-db243830-8493-4eb2-ad8d-1e499b61933b\" class=\"colab-df-container\">\n",
              "    <div>\n",
              "<style scoped>\n",
              "    .dataframe tbody tr th:only-of-type {\n",
              "        vertical-align: middle;\n",
              "    }\n",
              "\n",
              "    .dataframe tbody tr th {\n",
              "        vertical-align: top;\n",
              "    }\n",
              "\n",
              "    .dataframe thead th {\n",
              "        text-align: right;\n",
              "    }\n",
              "</style>\n",
              "<table border=\"1\" class=\"dataframe\">\n",
              "  <thead>\n",
              "    <tr style=\"text-align: right;\">\n",
              "      <th></th>\n",
              "      <th>DateCrawled</th>\n",
              "      <th>Price</th>\n",
              "      <th>VehicleType</th>\n",
              "      <th>RegistrationYear</th>\n",
              "      <th>Gearbox</th>\n",
              "      <th>Power</th>\n",
              "      <th>Model</th>\n",
              "      <th>Kilometer</th>\n",
              "      <th>RegistrationMonth</th>\n",
              "      <th>FuelType</th>\n",
              "      <th>Brand</th>\n",
              "      <th>Repaired</th>\n",
              "      <th>DateCreated</th>\n",
              "      <th>NumberOfPictures</th>\n",
              "      <th>PostalCode</th>\n",
              "      <th>LastSeen</th>\n",
              "    </tr>\n",
              "  </thead>\n",
              "  <tbody>\n",
              "    <tr>\n",
              "      <th>0</th>\n",
              "      <td>2016-03-24 11:52:17</td>\n",
              "      <td>480</td>\n",
              "      <td>NaN</td>\n",
              "      <td>1993</td>\n",
              "      <td>manual</td>\n",
              "      <td>0</td>\n",
              "      <td>golf</td>\n",
              "      <td>150000</td>\n",
              "      <td>0</td>\n",
              "      <td>petrol</td>\n",
              "      <td>volkswagen</td>\n",
              "      <td>NaN</td>\n",
              "      <td>2016-03-24 00:00:00</td>\n",
              "      <td>0</td>\n",
              "      <td>70435</td>\n",
              "      <td>2016-04-07 03:16:57</td>\n",
              "    </tr>\n",
              "    <tr>\n",
              "      <th>1</th>\n",
              "      <td>2016-03-24 10:58:45</td>\n",
              "      <td>18300</td>\n",
              "      <td>coupe</td>\n",
              "      <td>2011</td>\n",
              "      <td>manual</td>\n",
              "      <td>190</td>\n",
              "      <td>NaN</td>\n",
              "      <td>125000</td>\n",
              "      <td>5</td>\n",
              "      <td>gasoline</td>\n",
              "      <td>audi</td>\n",
              "      <td>yes</td>\n",
              "      <td>2016-03-24 00:00:00</td>\n",
              "      <td>0</td>\n",
              "      <td>66954</td>\n",
              "      <td>2016-04-07 01:46:50</td>\n",
              "    </tr>\n",
              "    <tr>\n",
              "      <th>2</th>\n",
              "      <td>2016-03-14 12:52:21</td>\n",
              "      <td>9800</td>\n",
              "      <td>suv</td>\n",
              "      <td>2004</td>\n",
              "      <td>auto</td>\n",
              "      <td>163</td>\n",
              "      <td>grand</td>\n",
              "      <td>125000</td>\n",
              "      <td>8</td>\n",
              "      <td>gasoline</td>\n",
              "      <td>jeep</td>\n",
              "      <td>NaN</td>\n",
              "      <td>2016-03-14 00:00:00</td>\n",
              "      <td>0</td>\n",
              "      <td>90480</td>\n",
              "      <td>2016-04-05 12:47:46</td>\n",
              "    </tr>\n",
              "    <tr>\n",
              "      <th>3</th>\n",
              "      <td>2016-03-17 16:54:04</td>\n",
              "      <td>1500</td>\n",
              "      <td>small</td>\n",
              "      <td>2001</td>\n",
              "      <td>manual</td>\n",
              "      <td>75</td>\n",
              "      <td>golf</td>\n",
              "      <td>150000</td>\n",
              "      <td>6</td>\n",
              "      <td>petrol</td>\n",
              "      <td>volkswagen</td>\n",
              "      <td>no</td>\n",
              "      <td>2016-03-17 00:00:00</td>\n",
              "      <td>0</td>\n",
              "      <td>91074</td>\n",
              "      <td>2016-03-17 17:40:17</td>\n",
              "    </tr>\n",
              "    <tr>\n",
              "      <th>4</th>\n",
              "      <td>2016-03-31 17:25:20</td>\n",
              "      <td>3600</td>\n",
              "      <td>small</td>\n",
              "      <td>2008</td>\n",
              "      <td>manual</td>\n",
              "      <td>69</td>\n",
              "      <td>fabia</td>\n",
              "      <td>90000</td>\n",
              "      <td>7</td>\n",
              "      <td>gasoline</td>\n",
              "      <td>skoda</td>\n",
              "      <td>no</td>\n",
              "      <td>2016-03-31 00:00:00</td>\n",
              "      <td>0</td>\n",
              "      <td>60437</td>\n",
              "      <td>2016-04-06 10:17:21</td>\n",
              "    </tr>\n",
              "  </tbody>\n",
              "</table>\n",
              "</div>\n",
              "    <div class=\"colab-df-buttons\">\n",
              "\n",
              "  <div class=\"colab-df-container\">\n",
              "    <button class=\"colab-df-convert\" onclick=\"convertToInteractive('df-db243830-8493-4eb2-ad8d-1e499b61933b')\"\n",
              "            title=\"Convert this dataframe to an interactive table.\"\n",
              "            style=\"display:none;\">\n",
              "\n",
              "  <svg xmlns=\"http://www.w3.org/2000/svg\" height=\"24px\" viewBox=\"0 -960 960 960\">\n",
              "    <path d=\"M120-120v-720h720v720H120Zm60-500h600v-160H180v160Zm220 220h160v-160H400v160Zm0 220h160v-160H400v160ZM180-400h160v-160H180v160Zm440 0h160v-160H620v160ZM180-180h160v-160H180v160Zm440 0h160v-160H620v160Z\"/>\n",
              "  </svg>\n",
              "    </button>\n",
              "\n",
              "  <style>\n",
              "    .colab-df-container {\n",
              "      display:flex;\n",
              "      gap: 12px;\n",
              "    }\n",
              "\n",
              "    .colab-df-convert {\n",
              "      background-color: #E8F0FE;\n",
              "      border: none;\n",
              "      border-radius: 50%;\n",
              "      cursor: pointer;\n",
              "      display: none;\n",
              "      fill: #1967D2;\n",
              "      height: 32px;\n",
              "      padding: 0 0 0 0;\n",
              "      width: 32px;\n",
              "    }\n",
              "\n",
              "    .colab-df-convert:hover {\n",
              "      background-color: #E2EBFA;\n",
              "      box-shadow: 0px 1px 2px rgba(60, 64, 67, 0.3), 0px 1px 3px 1px rgba(60, 64, 67, 0.15);\n",
              "      fill: #174EA6;\n",
              "    }\n",
              "\n",
              "    .colab-df-buttons div {\n",
              "      margin-bottom: 4px;\n",
              "    }\n",
              "\n",
              "    [theme=dark] .colab-df-convert {\n",
              "      background-color: #3B4455;\n",
              "      fill: #D2E3FC;\n",
              "    }\n",
              "\n",
              "    [theme=dark] .colab-df-convert:hover {\n",
              "      background-color: #434B5C;\n",
              "      box-shadow: 0px 1px 3px 1px rgba(0, 0, 0, 0.15);\n",
              "      filter: drop-shadow(0px 1px 2px rgba(0, 0, 0, 0.3));\n",
              "      fill: #FFFFFF;\n",
              "    }\n",
              "  </style>\n",
              "\n",
              "    <script>\n",
              "      const buttonEl =\n",
              "        document.querySelector('#df-db243830-8493-4eb2-ad8d-1e499b61933b button.colab-df-convert');\n",
              "      buttonEl.style.display =\n",
              "        google.colab.kernel.accessAllowed ? 'block' : 'none';\n",
              "\n",
              "      async function convertToInteractive(key) {\n",
              "        const element = document.querySelector('#df-db243830-8493-4eb2-ad8d-1e499b61933b');\n",
              "        const dataTable =\n",
              "          await google.colab.kernel.invokeFunction('convertToInteractive',\n",
              "                                                    [key], {});\n",
              "        if (!dataTable) return;\n",
              "\n",
              "        const docLinkHtml = 'Like what you see? Visit the ' +\n",
              "          '<a target=\"_blank\" href=https://colab.research.google.com/notebooks/data_table.ipynb>data table notebook</a>'\n",
              "          + ' to learn more about interactive tables.';\n",
              "        element.innerHTML = '';\n",
              "        dataTable['output_type'] = 'display_data';\n",
              "        await google.colab.output.renderOutput(dataTable, element);\n",
              "        const docLink = document.createElement('div');\n",
              "        docLink.innerHTML = docLinkHtml;\n",
              "        element.appendChild(docLink);\n",
              "      }\n",
              "    </script>\n",
              "  </div>\n",
              "\n",
              "\n",
              "<div id=\"df-0da77a5d-e5e1-44b2-8087-ab908a614849\">\n",
              "  <button class=\"colab-df-quickchart\" onclick=\"quickchart('df-0da77a5d-e5e1-44b2-8087-ab908a614849')\"\n",
              "            title=\"Suggest charts.\"\n",
              "            style=\"display:none;\">\n",
              "\n",
              "<svg xmlns=\"http://www.w3.org/2000/svg\" height=\"24px\"viewBox=\"0 0 24 24\"\n",
              "     width=\"24px\">\n",
              "    <g>\n",
              "        <path d=\"M19 3H5c-1.1 0-2 .9-2 2v14c0 1.1.9 2 2 2h14c1.1 0 2-.9 2-2V5c0-1.1-.9-2-2-2zM9 17H7v-7h2v7zm4 0h-2V7h2v10zm4 0h-2v-4h2v4z\"/>\n",
              "    </g>\n",
              "</svg>\n",
              "  </button>\n",
              "\n",
              "<style>\n",
              "  .colab-df-quickchart {\n",
              "      --bg-color: #E8F0FE;\n",
              "      --fill-color: #1967D2;\n",
              "      --hover-bg-color: #E2EBFA;\n",
              "      --hover-fill-color: #174EA6;\n",
              "      --disabled-fill-color: #AAA;\n",
              "      --disabled-bg-color: #DDD;\n",
              "  }\n",
              "\n",
              "  [theme=dark] .colab-df-quickchart {\n",
              "      --bg-color: #3B4455;\n",
              "      --fill-color: #D2E3FC;\n",
              "      --hover-bg-color: #434B5C;\n",
              "      --hover-fill-color: #FFFFFF;\n",
              "      --disabled-bg-color: #3B4455;\n",
              "      --disabled-fill-color: #666;\n",
              "  }\n",
              "\n",
              "  .colab-df-quickchart {\n",
              "    background-color: var(--bg-color);\n",
              "    border: none;\n",
              "    border-radius: 50%;\n",
              "    cursor: pointer;\n",
              "    display: none;\n",
              "    fill: var(--fill-color);\n",
              "    height: 32px;\n",
              "    padding: 0;\n",
              "    width: 32px;\n",
              "  }\n",
              "\n",
              "  .colab-df-quickchart:hover {\n",
              "    background-color: var(--hover-bg-color);\n",
              "    box-shadow: 0 1px 2px rgba(60, 64, 67, 0.3), 0 1px 3px 1px rgba(60, 64, 67, 0.15);\n",
              "    fill: var(--button-hover-fill-color);\n",
              "  }\n",
              "\n",
              "  .colab-df-quickchart-complete:disabled,\n",
              "  .colab-df-quickchart-complete:disabled:hover {\n",
              "    background-color: var(--disabled-bg-color);\n",
              "    fill: var(--disabled-fill-color);\n",
              "    box-shadow: none;\n",
              "  }\n",
              "\n",
              "  .colab-df-spinner {\n",
              "    border: 2px solid var(--fill-color);\n",
              "    border-color: transparent;\n",
              "    border-bottom-color: var(--fill-color);\n",
              "    animation:\n",
              "      spin 1s steps(1) infinite;\n",
              "  }\n",
              "\n",
              "  @keyframes spin {\n",
              "    0% {\n",
              "      border-color: transparent;\n",
              "      border-bottom-color: var(--fill-color);\n",
              "      border-left-color: var(--fill-color);\n",
              "    }\n",
              "    20% {\n",
              "      border-color: transparent;\n",
              "      border-left-color: var(--fill-color);\n",
              "      border-top-color: var(--fill-color);\n",
              "    }\n",
              "    30% {\n",
              "      border-color: transparent;\n",
              "      border-left-color: var(--fill-color);\n",
              "      border-top-color: var(--fill-color);\n",
              "      border-right-color: var(--fill-color);\n",
              "    }\n",
              "    40% {\n",
              "      border-color: transparent;\n",
              "      border-right-color: var(--fill-color);\n",
              "      border-top-color: var(--fill-color);\n",
              "    }\n",
              "    60% {\n",
              "      border-color: transparent;\n",
              "      border-right-color: var(--fill-color);\n",
              "    }\n",
              "    80% {\n",
              "      border-color: transparent;\n",
              "      border-right-color: var(--fill-color);\n",
              "      border-bottom-color: var(--fill-color);\n",
              "    }\n",
              "    90% {\n",
              "      border-color: transparent;\n",
              "      border-bottom-color: var(--fill-color);\n",
              "    }\n",
              "  }\n",
              "</style>\n",
              "\n",
              "  <script>\n",
              "    async function quickchart(key) {\n",
              "      const quickchartButtonEl =\n",
              "        document.querySelector('#' + key + ' button');\n",
              "      quickchartButtonEl.disabled = true;  // To prevent multiple clicks.\n",
              "      quickchartButtonEl.classList.add('colab-df-spinner');\n",
              "      try {\n",
              "        const charts = await google.colab.kernel.invokeFunction(\n",
              "            'suggestCharts', [key], {});\n",
              "      } catch (error) {\n",
              "        console.error('Error during call to suggestCharts:', error);\n",
              "      }\n",
              "      quickchartButtonEl.classList.remove('colab-df-spinner');\n",
              "      quickchartButtonEl.classList.add('colab-df-quickchart-complete');\n",
              "    }\n",
              "    (() => {\n",
              "      let quickchartButtonEl =\n",
              "        document.querySelector('#df-0da77a5d-e5e1-44b2-8087-ab908a614849 button');\n",
              "      quickchartButtonEl.style.display =\n",
              "        google.colab.kernel.accessAllowed ? 'block' : 'none';\n",
              "    })();\n",
              "  </script>\n",
              "</div>\n",
              "    </div>\n",
              "  </div>\n"
            ]
          },
          "metadata": {},
          "execution_count": 3
        }
      ],
      "source": [
        "data.head()"
      ]
    },
    {
      "cell_type": "code",
      "execution_count": 4,
      "metadata": {
        "id": "cYuL4FL8ym60",
        "outputId": "64ade103-fc81-4f38-9187-69dee440e9dc",
        "colab": {
          "base_uri": "https://localhost:8080/",
          "height": 297
        }
      },
      "outputs": [
        {
          "output_type": "execute_result",
          "data": {
            "text/plain": [
              "               Price  RegistrationYear          Power      Kilometer  \\\n",
              "count  354369.000000     354369.000000  354369.000000  354369.000000   \n",
              "mean     4416.656776       2004.234448     110.094337  128211.172535   \n",
              "std      4514.158514         90.227958     189.850405   37905.341530   \n",
              "min         0.000000       1000.000000       0.000000    5000.000000   \n",
              "25%      1050.000000       1999.000000      69.000000  125000.000000   \n",
              "50%      2700.000000       2003.000000     105.000000  150000.000000   \n",
              "75%      6400.000000       2008.000000     143.000000  150000.000000   \n",
              "max     20000.000000       9999.000000   20000.000000  150000.000000   \n",
              "\n",
              "       RegistrationMonth  NumberOfPictures     PostalCode  \n",
              "count      354369.000000          354369.0  354369.000000  \n",
              "mean            5.714645               0.0   50508.689087  \n",
              "std             3.726421               0.0   25783.096248  \n",
              "min             0.000000               0.0    1067.000000  \n",
              "25%             3.000000               0.0   30165.000000  \n",
              "50%             6.000000               0.0   49413.000000  \n",
              "75%             9.000000               0.0   71083.000000  \n",
              "max            12.000000               0.0   99998.000000  "
            ],
            "text/html": [
              "\n",
              "  <div id=\"df-0cbf8504-3393-4ef9-b4e9-8418c3bfe2ab\" class=\"colab-df-container\">\n",
              "    <div>\n",
              "<style scoped>\n",
              "    .dataframe tbody tr th:only-of-type {\n",
              "        vertical-align: middle;\n",
              "    }\n",
              "\n",
              "    .dataframe tbody tr th {\n",
              "        vertical-align: top;\n",
              "    }\n",
              "\n",
              "    .dataframe thead th {\n",
              "        text-align: right;\n",
              "    }\n",
              "</style>\n",
              "<table border=\"1\" class=\"dataframe\">\n",
              "  <thead>\n",
              "    <tr style=\"text-align: right;\">\n",
              "      <th></th>\n",
              "      <th>Price</th>\n",
              "      <th>RegistrationYear</th>\n",
              "      <th>Power</th>\n",
              "      <th>Kilometer</th>\n",
              "      <th>RegistrationMonth</th>\n",
              "      <th>NumberOfPictures</th>\n",
              "      <th>PostalCode</th>\n",
              "    </tr>\n",
              "  </thead>\n",
              "  <tbody>\n",
              "    <tr>\n",
              "      <th>count</th>\n",
              "      <td>354369.000000</td>\n",
              "      <td>354369.000000</td>\n",
              "      <td>354369.000000</td>\n",
              "      <td>354369.000000</td>\n",
              "      <td>354369.000000</td>\n",
              "      <td>354369.0</td>\n",
              "      <td>354369.000000</td>\n",
              "    </tr>\n",
              "    <tr>\n",
              "      <th>mean</th>\n",
              "      <td>4416.656776</td>\n",
              "      <td>2004.234448</td>\n",
              "      <td>110.094337</td>\n",
              "      <td>128211.172535</td>\n",
              "      <td>5.714645</td>\n",
              "      <td>0.0</td>\n",
              "      <td>50508.689087</td>\n",
              "    </tr>\n",
              "    <tr>\n",
              "      <th>std</th>\n",
              "      <td>4514.158514</td>\n",
              "      <td>90.227958</td>\n",
              "      <td>189.850405</td>\n",
              "      <td>37905.341530</td>\n",
              "      <td>3.726421</td>\n",
              "      <td>0.0</td>\n",
              "      <td>25783.096248</td>\n",
              "    </tr>\n",
              "    <tr>\n",
              "      <th>min</th>\n",
              "      <td>0.000000</td>\n",
              "      <td>1000.000000</td>\n",
              "      <td>0.000000</td>\n",
              "      <td>5000.000000</td>\n",
              "      <td>0.000000</td>\n",
              "      <td>0.0</td>\n",
              "      <td>1067.000000</td>\n",
              "    </tr>\n",
              "    <tr>\n",
              "      <th>25%</th>\n",
              "      <td>1050.000000</td>\n",
              "      <td>1999.000000</td>\n",
              "      <td>69.000000</td>\n",
              "      <td>125000.000000</td>\n",
              "      <td>3.000000</td>\n",
              "      <td>0.0</td>\n",
              "      <td>30165.000000</td>\n",
              "    </tr>\n",
              "    <tr>\n",
              "      <th>50%</th>\n",
              "      <td>2700.000000</td>\n",
              "      <td>2003.000000</td>\n",
              "      <td>105.000000</td>\n",
              "      <td>150000.000000</td>\n",
              "      <td>6.000000</td>\n",
              "      <td>0.0</td>\n",
              "      <td>49413.000000</td>\n",
              "    </tr>\n",
              "    <tr>\n",
              "      <th>75%</th>\n",
              "      <td>6400.000000</td>\n",
              "      <td>2008.000000</td>\n",
              "      <td>143.000000</td>\n",
              "      <td>150000.000000</td>\n",
              "      <td>9.000000</td>\n",
              "      <td>0.0</td>\n",
              "      <td>71083.000000</td>\n",
              "    </tr>\n",
              "    <tr>\n",
              "      <th>max</th>\n",
              "      <td>20000.000000</td>\n",
              "      <td>9999.000000</td>\n",
              "      <td>20000.000000</td>\n",
              "      <td>150000.000000</td>\n",
              "      <td>12.000000</td>\n",
              "      <td>0.0</td>\n",
              "      <td>99998.000000</td>\n",
              "    </tr>\n",
              "  </tbody>\n",
              "</table>\n",
              "</div>\n",
              "    <div class=\"colab-df-buttons\">\n",
              "\n",
              "  <div class=\"colab-df-container\">\n",
              "    <button class=\"colab-df-convert\" onclick=\"convertToInteractive('df-0cbf8504-3393-4ef9-b4e9-8418c3bfe2ab')\"\n",
              "            title=\"Convert this dataframe to an interactive table.\"\n",
              "            style=\"display:none;\">\n",
              "\n",
              "  <svg xmlns=\"http://www.w3.org/2000/svg\" height=\"24px\" viewBox=\"0 -960 960 960\">\n",
              "    <path d=\"M120-120v-720h720v720H120Zm60-500h600v-160H180v160Zm220 220h160v-160H400v160Zm0 220h160v-160H400v160ZM180-400h160v-160H180v160Zm440 0h160v-160H620v160ZM180-180h160v-160H180v160Zm440 0h160v-160H620v160Z\"/>\n",
              "  </svg>\n",
              "    </button>\n",
              "\n",
              "  <style>\n",
              "    .colab-df-container {\n",
              "      display:flex;\n",
              "      gap: 12px;\n",
              "    }\n",
              "\n",
              "    .colab-df-convert {\n",
              "      background-color: #E8F0FE;\n",
              "      border: none;\n",
              "      border-radius: 50%;\n",
              "      cursor: pointer;\n",
              "      display: none;\n",
              "      fill: #1967D2;\n",
              "      height: 32px;\n",
              "      padding: 0 0 0 0;\n",
              "      width: 32px;\n",
              "    }\n",
              "\n",
              "    .colab-df-convert:hover {\n",
              "      background-color: #E2EBFA;\n",
              "      box-shadow: 0px 1px 2px rgba(60, 64, 67, 0.3), 0px 1px 3px 1px rgba(60, 64, 67, 0.15);\n",
              "      fill: #174EA6;\n",
              "    }\n",
              "\n",
              "    .colab-df-buttons div {\n",
              "      margin-bottom: 4px;\n",
              "    }\n",
              "\n",
              "    [theme=dark] .colab-df-convert {\n",
              "      background-color: #3B4455;\n",
              "      fill: #D2E3FC;\n",
              "    }\n",
              "\n",
              "    [theme=dark] .colab-df-convert:hover {\n",
              "      background-color: #434B5C;\n",
              "      box-shadow: 0px 1px 3px 1px rgba(0, 0, 0, 0.15);\n",
              "      filter: drop-shadow(0px 1px 2px rgba(0, 0, 0, 0.3));\n",
              "      fill: #FFFFFF;\n",
              "    }\n",
              "  </style>\n",
              "\n",
              "    <script>\n",
              "      const buttonEl =\n",
              "        document.querySelector('#df-0cbf8504-3393-4ef9-b4e9-8418c3bfe2ab button.colab-df-convert');\n",
              "      buttonEl.style.display =\n",
              "        google.colab.kernel.accessAllowed ? 'block' : 'none';\n",
              "\n",
              "      async function convertToInteractive(key) {\n",
              "        const element = document.querySelector('#df-0cbf8504-3393-4ef9-b4e9-8418c3bfe2ab');\n",
              "        const dataTable =\n",
              "          await google.colab.kernel.invokeFunction('convertToInteractive',\n",
              "                                                    [key], {});\n",
              "        if (!dataTable) return;\n",
              "\n",
              "        const docLinkHtml = 'Like what you see? Visit the ' +\n",
              "          '<a target=\"_blank\" href=https://colab.research.google.com/notebooks/data_table.ipynb>data table notebook</a>'\n",
              "          + ' to learn more about interactive tables.';\n",
              "        element.innerHTML = '';\n",
              "        dataTable['output_type'] = 'display_data';\n",
              "        await google.colab.output.renderOutput(dataTable, element);\n",
              "        const docLink = document.createElement('div');\n",
              "        docLink.innerHTML = docLinkHtml;\n",
              "        element.appendChild(docLink);\n",
              "      }\n",
              "    </script>\n",
              "  </div>\n",
              "\n",
              "\n",
              "<div id=\"df-7e9f1b67-e5b6-4a7f-b7be-8a67bbe1345e\">\n",
              "  <button class=\"colab-df-quickchart\" onclick=\"quickchart('df-7e9f1b67-e5b6-4a7f-b7be-8a67bbe1345e')\"\n",
              "            title=\"Suggest charts.\"\n",
              "            style=\"display:none;\">\n",
              "\n",
              "<svg xmlns=\"http://www.w3.org/2000/svg\" height=\"24px\"viewBox=\"0 0 24 24\"\n",
              "     width=\"24px\">\n",
              "    <g>\n",
              "        <path d=\"M19 3H5c-1.1 0-2 .9-2 2v14c0 1.1.9 2 2 2h14c1.1 0 2-.9 2-2V5c0-1.1-.9-2-2-2zM9 17H7v-7h2v7zm4 0h-2V7h2v10zm4 0h-2v-4h2v4z\"/>\n",
              "    </g>\n",
              "</svg>\n",
              "  </button>\n",
              "\n",
              "<style>\n",
              "  .colab-df-quickchart {\n",
              "      --bg-color: #E8F0FE;\n",
              "      --fill-color: #1967D2;\n",
              "      --hover-bg-color: #E2EBFA;\n",
              "      --hover-fill-color: #174EA6;\n",
              "      --disabled-fill-color: #AAA;\n",
              "      --disabled-bg-color: #DDD;\n",
              "  }\n",
              "\n",
              "  [theme=dark] .colab-df-quickchart {\n",
              "      --bg-color: #3B4455;\n",
              "      --fill-color: #D2E3FC;\n",
              "      --hover-bg-color: #434B5C;\n",
              "      --hover-fill-color: #FFFFFF;\n",
              "      --disabled-bg-color: #3B4455;\n",
              "      --disabled-fill-color: #666;\n",
              "  }\n",
              "\n",
              "  .colab-df-quickchart {\n",
              "    background-color: var(--bg-color);\n",
              "    border: none;\n",
              "    border-radius: 50%;\n",
              "    cursor: pointer;\n",
              "    display: none;\n",
              "    fill: var(--fill-color);\n",
              "    height: 32px;\n",
              "    padding: 0;\n",
              "    width: 32px;\n",
              "  }\n",
              "\n",
              "  .colab-df-quickchart:hover {\n",
              "    background-color: var(--hover-bg-color);\n",
              "    box-shadow: 0 1px 2px rgba(60, 64, 67, 0.3), 0 1px 3px 1px rgba(60, 64, 67, 0.15);\n",
              "    fill: var(--button-hover-fill-color);\n",
              "  }\n",
              "\n",
              "  .colab-df-quickchart-complete:disabled,\n",
              "  .colab-df-quickchart-complete:disabled:hover {\n",
              "    background-color: var(--disabled-bg-color);\n",
              "    fill: var(--disabled-fill-color);\n",
              "    box-shadow: none;\n",
              "  }\n",
              "\n",
              "  .colab-df-spinner {\n",
              "    border: 2px solid var(--fill-color);\n",
              "    border-color: transparent;\n",
              "    border-bottom-color: var(--fill-color);\n",
              "    animation:\n",
              "      spin 1s steps(1) infinite;\n",
              "  }\n",
              "\n",
              "  @keyframes spin {\n",
              "    0% {\n",
              "      border-color: transparent;\n",
              "      border-bottom-color: var(--fill-color);\n",
              "      border-left-color: var(--fill-color);\n",
              "    }\n",
              "    20% {\n",
              "      border-color: transparent;\n",
              "      border-left-color: var(--fill-color);\n",
              "      border-top-color: var(--fill-color);\n",
              "    }\n",
              "    30% {\n",
              "      border-color: transparent;\n",
              "      border-left-color: var(--fill-color);\n",
              "      border-top-color: var(--fill-color);\n",
              "      border-right-color: var(--fill-color);\n",
              "    }\n",
              "    40% {\n",
              "      border-color: transparent;\n",
              "      border-right-color: var(--fill-color);\n",
              "      border-top-color: var(--fill-color);\n",
              "    }\n",
              "    60% {\n",
              "      border-color: transparent;\n",
              "      border-right-color: var(--fill-color);\n",
              "    }\n",
              "    80% {\n",
              "      border-color: transparent;\n",
              "      border-right-color: var(--fill-color);\n",
              "      border-bottom-color: var(--fill-color);\n",
              "    }\n",
              "    90% {\n",
              "      border-color: transparent;\n",
              "      border-bottom-color: var(--fill-color);\n",
              "    }\n",
              "  }\n",
              "</style>\n",
              "\n",
              "  <script>\n",
              "    async function quickchart(key) {\n",
              "      const quickchartButtonEl =\n",
              "        document.querySelector('#' + key + ' button');\n",
              "      quickchartButtonEl.disabled = true;  // To prevent multiple clicks.\n",
              "      quickchartButtonEl.classList.add('colab-df-spinner');\n",
              "      try {\n",
              "        const charts = await google.colab.kernel.invokeFunction(\n",
              "            'suggestCharts', [key], {});\n",
              "      } catch (error) {\n",
              "        console.error('Error during call to suggestCharts:', error);\n",
              "      }\n",
              "      quickchartButtonEl.classList.remove('colab-df-spinner');\n",
              "      quickchartButtonEl.classList.add('colab-df-quickchart-complete');\n",
              "    }\n",
              "    (() => {\n",
              "      let quickchartButtonEl =\n",
              "        document.querySelector('#df-7e9f1b67-e5b6-4a7f-b7be-8a67bbe1345e button');\n",
              "      quickchartButtonEl.style.display =\n",
              "        google.colab.kernel.accessAllowed ? 'block' : 'none';\n",
              "    })();\n",
              "  </script>\n",
              "</div>\n",
              "    </div>\n",
              "  </div>\n"
            ]
          },
          "metadata": {},
          "execution_count": 4
        }
      ],
      "source": [
        "data.describe()"
      ]
    },
    {
      "cell_type": "markdown",
      "metadata": {
        "id": "67YLQ2ywym61"
      },
      "source": [
        "**From the information above we can conclude that the following features will not be informative for predicting the target feature from a logical point of view: `DateCrawled`, `DateCreated`, `NumberOfPictures`, `PostalCode`, `LastSeen`.**\n",
        "\n",
        "**Because in this case we are simply unloading from the database, and there is no understanding whether each of these cars was sold at the price indicated in the questionnaire or not. The number of photos for each profile is 0, which is also very strange. We will assume that all these cars were sold at the price indicated in the questionnaire and it was the last one at the time the ad was removed due to a successful sale.**\n",
        "\n",
        "**In a real situation, it would be necessary to check with colleagues responsible for uploading this data whether this is actually the case. And if not, then upload the questionnaires that relate to the cars sold at the price indicated in the questionnaire.**\n",
        "\n",
        "\n",
        "**Let’s remove uninformative signs below.**\n",
        "\n",
        "**We also see that there are anomalous values in the following characteristics:**\n",
        "\n",
        "**`RegistrationYear` - values below 1960 up to 1000 and above 2023;**\n",
        "\n",
        "**`Price` - values too low, up to 0;**\n",
        "\n",
        "**`RegistrationMonth` - values 0.**\n",
        "\n",
        "**`Power` - values 0 and very high values, up to 20,000 hp**\n",
        "\n",
        "**It will be necessary to analyze these signs in more detail for the number of such anomalous values.**"
      ]
    },
    {
      "cell_type": "code",
      "execution_count": 5,
      "metadata": {
        "id": "oYO1xpf2ym62",
        "outputId": "1c0fb8fd-6f00-4a26-b0eb-166e8f2dbd00",
        "colab": {
          "base_uri": "https://localhost:8080/",
          "height": 204
        }
      },
      "outputs": [
        {
          "output_type": "execute_result",
          "data": {
            "text/plain": [
              "   Price VehicleType  RegistrationYear Gearbox  Power  Model  Kilometer  \\\n",
              "0    480         NaN              1993  manual      0   golf     150000   \n",
              "1  18300       coupe              2011  manual    190    NaN     125000   \n",
              "2   9800         suv              2004    auto    163  grand     125000   \n",
              "3   1500       small              2001  manual     75   golf     150000   \n",
              "4   3600       small              2008  manual     69  fabia      90000   \n",
              "\n",
              "   RegistrationMonth  FuelType       Brand Repaired  \n",
              "0                  0    petrol  volkswagen      NaN  \n",
              "1                  5  gasoline        audi      yes  \n",
              "2                  8  gasoline        jeep      NaN  \n",
              "3                  6    petrol  volkswagen       no  \n",
              "4                  7  gasoline       skoda       no  "
            ],
            "text/html": [
              "\n",
              "  <div id=\"df-6f2ee3a5-5051-4b43-a7b6-e820e4370eb8\" class=\"colab-df-container\">\n",
              "    <div>\n",
              "<style scoped>\n",
              "    .dataframe tbody tr th:only-of-type {\n",
              "        vertical-align: middle;\n",
              "    }\n",
              "\n",
              "    .dataframe tbody tr th {\n",
              "        vertical-align: top;\n",
              "    }\n",
              "\n",
              "    .dataframe thead th {\n",
              "        text-align: right;\n",
              "    }\n",
              "</style>\n",
              "<table border=\"1\" class=\"dataframe\">\n",
              "  <thead>\n",
              "    <tr style=\"text-align: right;\">\n",
              "      <th></th>\n",
              "      <th>Price</th>\n",
              "      <th>VehicleType</th>\n",
              "      <th>RegistrationYear</th>\n",
              "      <th>Gearbox</th>\n",
              "      <th>Power</th>\n",
              "      <th>Model</th>\n",
              "      <th>Kilometer</th>\n",
              "      <th>RegistrationMonth</th>\n",
              "      <th>FuelType</th>\n",
              "      <th>Brand</th>\n",
              "      <th>Repaired</th>\n",
              "    </tr>\n",
              "  </thead>\n",
              "  <tbody>\n",
              "    <tr>\n",
              "      <th>0</th>\n",
              "      <td>480</td>\n",
              "      <td>NaN</td>\n",
              "      <td>1993</td>\n",
              "      <td>manual</td>\n",
              "      <td>0</td>\n",
              "      <td>golf</td>\n",
              "      <td>150000</td>\n",
              "      <td>0</td>\n",
              "      <td>petrol</td>\n",
              "      <td>volkswagen</td>\n",
              "      <td>NaN</td>\n",
              "    </tr>\n",
              "    <tr>\n",
              "      <th>1</th>\n",
              "      <td>18300</td>\n",
              "      <td>coupe</td>\n",
              "      <td>2011</td>\n",
              "      <td>manual</td>\n",
              "      <td>190</td>\n",
              "      <td>NaN</td>\n",
              "      <td>125000</td>\n",
              "      <td>5</td>\n",
              "      <td>gasoline</td>\n",
              "      <td>audi</td>\n",
              "      <td>yes</td>\n",
              "    </tr>\n",
              "    <tr>\n",
              "      <th>2</th>\n",
              "      <td>9800</td>\n",
              "      <td>suv</td>\n",
              "      <td>2004</td>\n",
              "      <td>auto</td>\n",
              "      <td>163</td>\n",
              "      <td>grand</td>\n",
              "      <td>125000</td>\n",
              "      <td>8</td>\n",
              "      <td>gasoline</td>\n",
              "      <td>jeep</td>\n",
              "      <td>NaN</td>\n",
              "    </tr>\n",
              "    <tr>\n",
              "      <th>3</th>\n",
              "      <td>1500</td>\n",
              "      <td>small</td>\n",
              "      <td>2001</td>\n",
              "      <td>manual</td>\n",
              "      <td>75</td>\n",
              "      <td>golf</td>\n",
              "      <td>150000</td>\n",
              "      <td>6</td>\n",
              "      <td>petrol</td>\n",
              "      <td>volkswagen</td>\n",
              "      <td>no</td>\n",
              "    </tr>\n",
              "    <tr>\n",
              "      <th>4</th>\n",
              "      <td>3600</td>\n",
              "      <td>small</td>\n",
              "      <td>2008</td>\n",
              "      <td>manual</td>\n",
              "      <td>69</td>\n",
              "      <td>fabia</td>\n",
              "      <td>90000</td>\n",
              "      <td>7</td>\n",
              "      <td>gasoline</td>\n",
              "      <td>skoda</td>\n",
              "      <td>no</td>\n",
              "    </tr>\n",
              "  </tbody>\n",
              "</table>\n",
              "</div>\n",
              "    <div class=\"colab-df-buttons\">\n",
              "\n",
              "  <div class=\"colab-df-container\">\n",
              "    <button class=\"colab-df-convert\" onclick=\"convertToInteractive('df-6f2ee3a5-5051-4b43-a7b6-e820e4370eb8')\"\n",
              "            title=\"Convert this dataframe to an interactive table.\"\n",
              "            style=\"display:none;\">\n",
              "\n",
              "  <svg xmlns=\"http://www.w3.org/2000/svg\" height=\"24px\" viewBox=\"0 -960 960 960\">\n",
              "    <path d=\"M120-120v-720h720v720H120Zm60-500h600v-160H180v160Zm220 220h160v-160H400v160Zm0 220h160v-160H400v160ZM180-400h160v-160H180v160Zm440 0h160v-160H620v160ZM180-180h160v-160H180v160Zm440 0h160v-160H620v160Z\"/>\n",
              "  </svg>\n",
              "    </button>\n",
              "\n",
              "  <style>\n",
              "    .colab-df-container {\n",
              "      display:flex;\n",
              "      gap: 12px;\n",
              "    }\n",
              "\n",
              "    .colab-df-convert {\n",
              "      background-color: #E8F0FE;\n",
              "      border: none;\n",
              "      border-radius: 50%;\n",
              "      cursor: pointer;\n",
              "      display: none;\n",
              "      fill: #1967D2;\n",
              "      height: 32px;\n",
              "      padding: 0 0 0 0;\n",
              "      width: 32px;\n",
              "    }\n",
              "\n",
              "    .colab-df-convert:hover {\n",
              "      background-color: #E2EBFA;\n",
              "      box-shadow: 0px 1px 2px rgba(60, 64, 67, 0.3), 0px 1px 3px 1px rgba(60, 64, 67, 0.15);\n",
              "      fill: #174EA6;\n",
              "    }\n",
              "\n",
              "    .colab-df-buttons div {\n",
              "      margin-bottom: 4px;\n",
              "    }\n",
              "\n",
              "    [theme=dark] .colab-df-convert {\n",
              "      background-color: #3B4455;\n",
              "      fill: #D2E3FC;\n",
              "    }\n",
              "\n",
              "    [theme=dark] .colab-df-convert:hover {\n",
              "      background-color: #434B5C;\n",
              "      box-shadow: 0px 1px 3px 1px rgba(0, 0, 0, 0.15);\n",
              "      filter: drop-shadow(0px 1px 2px rgba(0, 0, 0, 0.3));\n",
              "      fill: #FFFFFF;\n",
              "    }\n",
              "  </style>\n",
              "\n",
              "    <script>\n",
              "      const buttonEl =\n",
              "        document.querySelector('#df-6f2ee3a5-5051-4b43-a7b6-e820e4370eb8 button.colab-df-convert');\n",
              "      buttonEl.style.display =\n",
              "        google.colab.kernel.accessAllowed ? 'block' : 'none';\n",
              "\n",
              "      async function convertToInteractive(key) {\n",
              "        const element = document.querySelector('#df-6f2ee3a5-5051-4b43-a7b6-e820e4370eb8');\n",
              "        const dataTable =\n",
              "          await google.colab.kernel.invokeFunction('convertToInteractive',\n",
              "                                                    [key], {});\n",
              "        if (!dataTable) return;\n",
              "\n",
              "        const docLinkHtml = 'Like what you see? Visit the ' +\n",
              "          '<a target=\"_blank\" href=https://colab.research.google.com/notebooks/data_table.ipynb>data table notebook</a>'\n",
              "          + ' to learn more about interactive tables.';\n",
              "        element.innerHTML = '';\n",
              "        dataTable['output_type'] = 'display_data';\n",
              "        await google.colab.output.renderOutput(dataTable, element);\n",
              "        const docLink = document.createElement('div');\n",
              "        docLink.innerHTML = docLinkHtml;\n",
              "        element.appendChild(docLink);\n",
              "      }\n",
              "    </script>\n",
              "  </div>\n",
              "\n",
              "\n",
              "<div id=\"df-1ef71479-2c9a-46bc-bd48-9bb734b5ae23\">\n",
              "  <button class=\"colab-df-quickchart\" onclick=\"quickchart('df-1ef71479-2c9a-46bc-bd48-9bb734b5ae23')\"\n",
              "            title=\"Suggest charts.\"\n",
              "            style=\"display:none;\">\n",
              "\n",
              "<svg xmlns=\"http://www.w3.org/2000/svg\" height=\"24px\"viewBox=\"0 0 24 24\"\n",
              "     width=\"24px\">\n",
              "    <g>\n",
              "        <path d=\"M19 3H5c-1.1 0-2 .9-2 2v14c0 1.1.9 2 2 2h14c1.1 0 2-.9 2-2V5c0-1.1-.9-2-2-2zM9 17H7v-7h2v7zm4 0h-2V7h2v10zm4 0h-2v-4h2v4z\"/>\n",
              "    </g>\n",
              "</svg>\n",
              "  </button>\n",
              "\n",
              "<style>\n",
              "  .colab-df-quickchart {\n",
              "      --bg-color: #E8F0FE;\n",
              "      --fill-color: #1967D2;\n",
              "      --hover-bg-color: #E2EBFA;\n",
              "      --hover-fill-color: #174EA6;\n",
              "      --disabled-fill-color: #AAA;\n",
              "      --disabled-bg-color: #DDD;\n",
              "  }\n",
              "\n",
              "  [theme=dark] .colab-df-quickchart {\n",
              "      --bg-color: #3B4455;\n",
              "      --fill-color: #D2E3FC;\n",
              "      --hover-bg-color: #434B5C;\n",
              "      --hover-fill-color: #FFFFFF;\n",
              "      --disabled-bg-color: #3B4455;\n",
              "      --disabled-fill-color: #666;\n",
              "  }\n",
              "\n",
              "  .colab-df-quickchart {\n",
              "    background-color: var(--bg-color);\n",
              "    border: none;\n",
              "    border-radius: 50%;\n",
              "    cursor: pointer;\n",
              "    display: none;\n",
              "    fill: var(--fill-color);\n",
              "    height: 32px;\n",
              "    padding: 0;\n",
              "    width: 32px;\n",
              "  }\n",
              "\n",
              "  .colab-df-quickchart:hover {\n",
              "    background-color: var(--hover-bg-color);\n",
              "    box-shadow: 0 1px 2px rgba(60, 64, 67, 0.3), 0 1px 3px 1px rgba(60, 64, 67, 0.15);\n",
              "    fill: var(--button-hover-fill-color);\n",
              "  }\n",
              "\n",
              "  .colab-df-quickchart-complete:disabled,\n",
              "  .colab-df-quickchart-complete:disabled:hover {\n",
              "    background-color: var(--disabled-bg-color);\n",
              "    fill: var(--disabled-fill-color);\n",
              "    box-shadow: none;\n",
              "  }\n",
              "\n",
              "  .colab-df-spinner {\n",
              "    border: 2px solid var(--fill-color);\n",
              "    border-color: transparent;\n",
              "    border-bottom-color: var(--fill-color);\n",
              "    animation:\n",
              "      spin 1s steps(1) infinite;\n",
              "  }\n",
              "\n",
              "  @keyframes spin {\n",
              "    0% {\n",
              "      border-color: transparent;\n",
              "      border-bottom-color: var(--fill-color);\n",
              "      border-left-color: var(--fill-color);\n",
              "    }\n",
              "    20% {\n",
              "      border-color: transparent;\n",
              "      border-left-color: var(--fill-color);\n",
              "      border-top-color: var(--fill-color);\n",
              "    }\n",
              "    30% {\n",
              "      border-color: transparent;\n",
              "      border-left-color: var(--fill-color);\n",
              "      border-top-color: var(--fill-color);\n",
              "      border-right-color: var(--fill-color);\n",
              "    }\n",
              "    40% {\n",
              "      border-color: transparent;\n",
              "      border-right-color: var(--fill-color);\n",
              "      border-top-color: var(--fill-color);\n",
              "    }\n",
              "    60% {\n",
              "      border-color: transparent;\n",
              "      border-right-color: var(--fill-color);\n",
              "    }\n",
              "    80% {\n",
              "      border-color: transparent;\n",
              "      border-right-color: var(--fill-color);\n",
              "      border-bottom-color: var(--fill-color);\n",
              "    }\n",
              "    90% {\n",
              "      border-color: transparent;\n",
              "      border-bottom-color: var(--fill-color);\n",
              "    }\n",
              "  }\n",
              "</style>\n",
              "\n",
              "  <script>\n",
              "    async function quickchart(key) {\n",
              "      const quickchartButtonEl =\n",
              "        document.querySelector('#' + key + ' button');\n",
              "      quickchartButtonEl.disabled = true;  // To prevent multiple clicks.\n",
              "      quickchartButtonEl.classList.add('colab-df-spinner');\n",
              "      try {\n",
              "        const charts = await google.colab.kernel.invokeFunction(\n",
              "            'suggestCharts', [key], {});\n",
              "      } catch (error) {\n",
              "        console.error('Error during call to suggestCharts:', error);\n",
              "      }\n",
              "      quickchartButtonEl.classList.remove('colab-df-spinner');\n",
              "      quickchartButtonEl.classList.add('colab-df-quickchart-complete');\n",
              "    }\n",
              "    (() => {\n",
              "      let quickchartButtonEl =\n",
              "        document.querySelector('#df-1ef71479-2c9a-46bc-bd48-9bb734b5ae23 button');\n",
              "      quickchartButtonEl.style.display =\n",
              "        google.colab.kernel.accessAllowed ? 'block' : 'none';\n",
              "    })();\n",
              "  </script>\n",
              "</div>\n",
              "    </div>\n",
              "  </div>\n"
            ]
          },
          "metadata": {},
          "execution_count": 5
        }
      ],
      "source": [
        "data = data.drop(['DateCrawled', 'DateCreated', 'NumberOfPictures', 'PostalCode', 'LastSeen'], axis=1)\n",
        "data.head()"
      ]
    },
    {
      "cell_type": "markdown",
      "metadata": {
        "id": "8-tsxumqym62"
      },
      "source": [
        "**Let's see how many objects of the year of manufacture attribute fall into the range below 1970 and above 2023.**"
      ]
    },
    {
      "cell_type": "code",
      "execution_count": 6,
      "metadata": {
        "id": "Uwb3Vuc2ym62",
        "outputId": "466ebf44-6ff3-42be-b98f-6a6f3eb4f81e",
        "colab": {
          "base_uri": "https://localhost:8080/"
        }
      },
      "outputs": [
        {
          "output_type": "execute_result",
          "data": {
            "text/plain": [
              "0.0040720266163236625"
            ]
          },
          "metadata": {},
          "execution_count": 6
        }
      ],
      "source": [
        "initial_rows = data.shape[0]\n",
        "data[\n",
        "    (1970 > data['RegistrationYear']) | (2023 < data['RegistrationYear'])\n",
        "    ]['RegistrationYear'].count() / data.shape[0]"
      ]
    },
    {
      "cell_type": "markdown",
      "metadata": {
        "id": "dlCjrsMkym62"
      },
      "source": [
        "**About 0.4%. These ranges include either erroneous data or rare, rare car models. Therefore, we will filter these values from the original data.**"
      ]
    },
    {
      "cell_type": "code",
      "execution_count": 7,
      "metadata": {
        "id": "Ji6pnlCoym62",
        "outputId": "f50c5e75-5087-491f-ab19-87aaeb24c5e4",
        "colab": {
          "base_uri": "https://localhost:8080/"
        }
      },
      "outputs": [
        {
          "output_type": "execute_result",
          "data": {
            "text/plain": [
              "0.9959279733836763"
            ]
          },
          "metadata": {},
          "execution_count": 7
        }
      ],
      "source": [
        "data = data[(1970 <= data['RegistrationYear']) & (data['RegistrationYear'] <= 2023)]\n",
        "data.shape[0] / initial_rows"
      ]
    },
    {
      "cell_type": "markdown",
      "metadata": {
        "id": "rfK3EJ-pym62"
      },
      "source": [
        "**More than 99.5% of data remained after deletion.**"
      ]
    },
    {
      "cell_type": "markdown",
      "metadata": {
        "id": "3xLJqsQ2ym63"
      },
      "source": [
        "**Let's now check the values of the `Price` attribute in more detail. Let's use a boxplot diagram first.**"
      ]
    },
    {
      "cell_type": "code",
      "execution_count": 8,
      "metadata": {
        "id": "7_usChZNym63",
        "outputId": "5b230c21-49d5-4ed3-aab8-edc95e95dd84",
        "colab": {
          "base_uri": "https://localhost:8080/",
          "height": 430
        }
      },
      "outputs": [
        {
          "output_type": "display_data",
          "data": {
            "text/plain": [
              "<Figure size 640x480 with 1 Axes>"
            ],
            "image/png": "[encoded data removed]"
          },
          "metadata": {}
        }
      ],
      "source": [
        "plt.ylim([-1000,21000])\n",
        "data.boxplot(column='Price');"
      ]
    },
    {
      "cell_type": "markdown",
      "metadata": {
        "id": "QxSdmv1Aym63"
      },
      "source": [
        "**Although values above 15000 fall outside the upper range of the chart and value 0 falls within the lower range, we cannot discard the upper values from a common sense point of view because 20,000 euros is an adequate price for a car. It is necessary to find the edge of the lower range, starting from which it will be necessary to discard these values, because they do not reflect actual value.**\n",
        "\n",
        "**Additionally, we will check what percentage of the data contains zero value.**"
      ]
    },
    {
      "cell_type": "code",
      "execution_count": 9,
      "metadata": {
        "id": "BdcUBVPoym63",
        "outputId": "77e64228-534e-4532-e407-23c5105a8fef",
        "colab": {
          "base_uri": "https://localhost:8080/",
          "height": 419
        }
      },
      "outputs": [
        {
          "output_type": "execute_result",
          "data": {
            "text/plain": [
              "        Price VehicleType  RegistrationYear Gearbox  Power    Model  \\\n",
              "16        300         NaN              2016     NaN     60     polo   \n",
              "35        350         NaN              2016  manual     75     golf   \n",
              "79        150         NaN              2016  manual     75    astra   \n",
              "111         0         NaN              2017  manual      0     golf   \n",
              "260       450         NaN              2016  manual      0      NaN   \n",
              "...       ...         ...               ...     ...    ...      ...   \n",
              "353835    400         NaN              2017  manual     60     polo   \n",
              "353895    350         NaN              2016  manual     60  3_reihe   \n",
              "354098    250         NaN              2016  manual      0      3er   \n",
              "354107    395         NaN              2016  manual     60     golf   \n",
              "354115    299         NaN              2016  manual     60    astra   \n",
              "\n",
              "        Kilometer  RegistrationMonth FuelType       Brand Repaired  \n",
              "16         150000                  0   petrol  volkswagen      NaN  \n",
              "35         150000                  4   petrol  volkswagen       no  \n",
              "79         150000                  3   petrol        opel      yes  \n",
              "111          5000                 12   petrol  volkswagen      NaN  \n",
              "260        150000                  3   petrol  mitsubishi       no  \n",
              "...           ...                ...      ...         ...      ...  \n",
              "353835     150000                  0   petrol  volkswagen      NaN  \n",
              "353895     150000                 10      NaN     peugeot       no  \n",
              "354098     150000                  5   petrol         bmw      yes  \n",
              "354107     150000                 12   petrol  volkswagen      NaN  \n",
              "354115     150000                  4   petrol        opel      yes  \n",
              "\n",
              "[4777 rows x 11 columns]"
            ],
            "text/html": [
              "\n",
              "  <div id=\"df-a9f34108-96ca-4120-8143-da1b3d17533e\" class=\"colab-df-container\">\n",
              "    <div>\n",
              "<style scoped>\n",
              "    .dataframe tbody tr th:only-of-type {\n",
              "        vertical-align: middle;\n",
              "    }\n",
              "\n",
              "    .dataframe tbody tr th {\n",
              "        vertical-align: top;\n",
              "    }\n",
              "\n",
              "    .dataframe thead th {\n",
              "        text-align: right;\n",
              "    }\n",
              "</style>\n",
              "<table border=\"1\" class=\"dataframe\">\n",
              "  <thead>\n",
              "    <tr style=\"text-align: right;\">\n",
              "      <th></th>\n",
              "      <th>Price</th>\n",
              "      <th>VehicleType</th>\n",
              "      <th>RegistrationYear</th>\n",
              "      <th>Gearbox</th>\n",
              "      <th>Power</th>\n",
              "      <th>Model</th>\n",
              "      <th>Kilometer</th>\n",
              "      <th>RegistrationMonth</th>\n",
              "      <th>FuelType</th>\n",
              "      <th>Brand</th>\n",
              "      <th>Repaired</th>\n",
              "    </tr>\n",
              "  </thead>\n",
              "  <tbody>\n",
              "    <tr>\n",
              "      <th>16</th>\n",
              "      <td>300</td>\n",
              "      <td>NaN</td>\n",
              "      <td>2016</td>\n",
              "      <td>NaN</td>\n",
              "      <td>60</td>\n",
              "      <td>polo</td>\n",
              "      <td>150000</td>\n",
              "      <td>0</td>\n",
              "      <td>petrol</td>\n",
              "      <td>volkswagen</td>\n",
              "      <td>NaN</td>\n",
              "    </tr>\n",
              "    <tr>\n",
              "      <th>35</th>\n",
              "      <td>350</td>\n",
              "      <td>NaN</td>\n",
              "      <td>2016</td>\n",
              "      <td>manual</td>\n",
              "      <td>75</td>\n",
              "      <td>golf</td>\n",
              "      <td>150000</td>\n",
              "      <td>4</td>\n",
              "      <td>petrol</td>\n",
              "      <td>volkswagen</td>\n",
              "      <td>no</td>\n",
              "    </tr>\n",
              "    <tr>\n",
              "      <th>79</th>\n",
              "      <td>150</td>\n",
              "      <td>NaN</td>\n",
              "      <td>2016</td>\n",
              "      <td>manual</td>\n",
              "      <td>75</td>\n",
              "      <td>astra</td>\n",
              "      <td>150000</td>\n",
              "      <td>3</td>\n",
              "      <td>petrol</td>\n",
              "      <td>opel</td>\n",
              "      <td>yes</td>\n",
              "    </tr>\n",
              "    <tr>\n",
              "      <th>111</th>\n",
              "      <td>0</td>\n",
              "      <td>NaN</td>\n",
              "      <td>2017</td>\n",
              "      <td>manual</td>\n",
              "      <td>0</td>\n",
              "      <td>golf</td>\n",
              "      <td>5000</td>\n",
              "      <td>12</td>\n",
              "      <td>petrol</td>\n",
              "      <td>volkswagen</td>\n",
              "      <td>NaN</td>\n",
              "    </tr>\n",
              "    <tr>\n",
              "      <th>260</th>\n",
              "      <td>450</td>\n",
              "      <td>NaN</td>\n",
              "      <td>2016</td>\n",
              "      <td>manual</td>\n",
              "      <td>0</td>\n",
              "      <td>NaN</td>\n",
              "      <td>150000</td>\n",
              "      <td>3</td>\n",
              "      <td>petrol</td>\n",
              "      <td>mitsubishi</td>\n",
              "      <td>no</td>\n",
              "    </tr>\n",
              "    <tr>\n",
              "      <th>...</th>\n",
              "      <td>...</td>\n",
              "      <td>...</td>\n",
              "      <td>...</td>\n",
              "      <td>...</td>\n",
              "      <td>...</td>\n",
              "      <td>...</td>\n",
              "      <td>...</td>\n",
              "      <td>...</td>\n",
              "      <td>...</td>\n",
              "      <td>...</td>\n",
              "      <td>...</td>\n",
              "    </tr>\n",
              "    <tr>\n",
              "      <th>353835</th>\n",
              "      <td>400</td>\n",
              "      <td>NaN</td>\n",
              "      <td>2017</td>\n",
              "      <td>manual</td>\n",
              "      <td>60</td>\n",
              "      <td>polo</td>\n",
              "      <td>150000</td>\n",
              "      <td>0</td>\n",
              "      <td>petrol</td>\n",
              "      <td>volkswagen</td>\n",
              "      <td>NaN</td>\n",
              "    </tr>\n",
              "    <tr>\n",
              "      <th>353895</th>\n",
              "      <td>350</td>\n",
              "      <td>NaN</td>\n",
              "      <td>2016</td>\n",
              "      <td>manual</td>\n",
              "      <td>60</td>\n",
              "      <td>3_reihe</td>\n",
              "      <td>150000</td>\n",
              "      <td>10</td>\n",
              "      <td>NaN</td>\n",
              "      <td>peugeot</td>\n",
              "      <td>no</td>\n",
              "    </tr>\n",
              "    <tr>\n",
              "      <th>354098</th>\n",
              "      <td>250</td>\n",
              "      <td>NaN</td>\n",
              "      <td>2016</td>\n",
              "      <td>manual</td>\n",
              "      <td>0</td>\n",
              "      <td>3er</td>\n",
              "      <td>150000</td>\n",
              "      <td>5</td>\n",
              "      <td>petrol</td>\n",
              "      <td>bmw</td>\n",
              "      <td>yes</td>\n",
              "    </tr>\n",
              "    <tr>\n",
              "      <th>354107</th>\n",
              "      <td>395</td>\n",
              "      <td>NaN</td>\n",
              "      <td>2016</td>\n",
              "      <td>manual</td>\n",
              "      <td>60</td>\n",
              "      <td>golf</td>\n",
              "      <td>150000</td>\n",
              "      <td>12</td>\n",
              "      <td>petrol</td>\n",
              "      <td>volkswagen</td>\n",
              "      <td>NaN</td>\n",
              "    </tr>\n",
              "    <tr>\n",
              "      <th>354115</th>\n",
              "      <td>299</td>\n",
              "      <td>NaN</td>\n",
              "      <td>2016</td>\n",
              "      <td>manual</td>\n",
              "      <td>60</td>\n",
              "      <td>astra</td>\n",
              "      <td>150000</td>\n",
              "      <td>4</td>\n",
              "      <td>petrol</td>\n",
              "      <td>opel</td>\n",
              "      <td>yes</td>\n",
              "    </tr>\n",
              "  </tbody>\n",
              "</table>\n",
              "<p>4777 rows × 11 columns</p>\n",
              "</div>\n",
              "    <div class=\"colab-df-buttons\">\n",
              "\n",
              "  <div class=\"colab-df-container\">\n",
              "    <button class=\"colab-df-convert\" onclick=\"convertToInteractive('df-a9f34108-96ca-4120-8143-da1b3d17533e')\"\n",
              "            title=\"Convert this dataframe to an interactive table.\"\n",
              "            style=\"display:none;\">\n",
              "\n",
              "  <svg xmlns=\"http://www.w3.org/2000/svg\" height=\"24px\" viewBox=\"0 -960 960 960\">\n",
              "    <path d=\"M120-120v-720h720v720H120Zm60-500h600v-160H180v160Zm220 220h160v-160H400v160Zm0 220h160v-160H400v160ZM180-400h160v-160H180v160Zm440 0h160v-160H620v160ZM180-180h160v-160H180v160Zm440 0h160v-160H620v160Z\"/>\n",
              "  </svg>\n",
              "    </button>\n",
              "\n",
              "  <style>\n",
              "    .colab-df-container {\n",
              "      display:flex;\n",
              "      gap: 12px;\n",
              "    }\n",
              "\n",
              "    .colab-df-convert {\n",
              "      background-color: #E8F0FE;\n",
              "      border: none;\n",
              "      border-radius: 50%;\n",
              "      cursor: pointer;\n",
              "      display: none;\n",
              "      fill: #1967D2;\n",
              "      height: 32px;\n",
              "      padding: 0 0 0 0;\n",
              "      width: 32px;\n",
              "    }\n",
              "\n",
              "    .colab-df-convert:hover {\n",
              "      background-color: #E2EBFA;\n",
              "      box-shadow: 0px 1px 2px rgba(60, 64, 67, 0.3), 0px 1px 3px 1px rgba(60, 64, 67, 0.15);\n",
              "      fill: #174EA6;\n",
              "    }\n",
              "\n",
              "    .colab-df-buttons div {\n",
              "      margin-bottom: 4px;\n",
              "    }\n",
              "\n",
              "    [theme=dark] .colab-df-convert {\n",
              "      background-color: #3B4455;\n",
              "      fill: #D2E3FC;\n",
              "    }\n",
              "\n",
              "    [theme=dark] .colab-df-convert:hover {\n",
              "      background-color: #434B5C;\n",
              "      box-shadow: 0px 1px 3px 1px rgba(0, 0, 0, 0.15);\n",
              "      filter: drop-shadow(0px 1px 2px rgba(0, 0, 0, 0.3));\n",
              "      fill: #FFFFFF;\n",
              "    }\n",
              "  </style>\n",
              "\n",
              "    <script>\n",
              "      const buttonEl =\n",
              "        document.querySelector('#df-a9f34108-96ca-4120-8143-da1b3d17533e button.colab-df-convert');\n",
              "      buttonEl.style.display =\n",
              "        google.colab.kernel.accessAllowed ? 'block' : 'none';\n",
              "\n",
              "      async function convertToInteractive(key) {\n",
              "        const element = document.querySelector('#df-a9f34108-96ca-4120-8143-da1b3d17533e');\n",
              "        const dataTable =\n",
              "          await google.colab.kernel.invokeFunction('convertToInteractive',\n",
              "                                                    [key], {});\n",
              "        if (!dataTable) return;\n",
              "\n",
              "        const docLinkHtml = 'Like what you see? Visit the ' +\n",
              "          '<a target=\"_blank\" href=https://colab.research.google.com/notebooks/data_table.ipynb>data table notebook</a>'\n",
              "          + ' to learn more about interactive tables.';\n",
              "        element.innerHTML = '';\n",
              "        dataTable['output_type'] = 'display_data';\n",
              "        await google.colab.output.renderOutput(dataTable, element);\n",
              "        const docLink = document.createElement('div');\n",
              "        docLink.innerHTML = docLinkHtml;\n",
              "        element.appendChild(docLink);\n",
              "      }\n",
              "    </script>\n",
              "  </div>\n",
              "\n",
              "\n",
              "<div id=\"df-0c726cbb-ab56-49ee-8138-8c58a3a9edd2\">\n",
              "  <button class=\"colab-df-quickchart\" onclick=\"quickchart('df-0c726cbb-ab56-49ee-8138-8c58a3a9edd2')\"\n",
              "            title=\"Suggest charts.\"\n",
              "            style=\"display:none;\">\n",
              "\n",
              "<svg xmlns=\"http://www.w3.org/2000/svg\" height=\"24px\"viewBox=\"0 0 24 24\"\n",
              "     width=\"24px\">\n",
              "    <g>\n",
              "        <path d=\"M19 3H5c-1.1 0-2 .9-2 2v14c0 1.1.9 2 2 2h14c1.1 0 2-.9 2-2V5c0-1.1-.9-2-2-2zM9 17H7v-7h2v7zm4 0h-2V7h2v10zm4 0h-2v-4h2v4z\"/>\n",
              "    </g>\n",
              "</svg>\n",
              "  </button>\n",
              "\n",
              "<style>\n",
              "  .colab-df-quickchart {\n",
              "      --bg-color: #E8F0FE;\n",
              "      --fill-color: #1967D2;\n",
              "      --hover-bg-color: #E2EBFA;\n",
              "      --hover-fill-color: #174EA6;\n",
              "      --disabled-fill-color: #AAA;\n",
              "      --disabled-bg-color: #DDD;\n",
              "  }\n",
              "\n",
              "  [theme=dark] .colab-df-quickchart {\n",
              "      --bg-color: #3B4455;\n",
              "      --fill-color: #D2E3FC;\n",
              "      --hover-bg-color: #434B5C;\n",
              "      --hover-fill-color: #FFFFFF;\n",
              "      --disabled-bg-color: #3B4455;\n",
              "      --disabled-fill-color: #666;\n",
              "  }\n",
              "\n",
              "  .colab-df-quickchart {\n",
              "    background-color: var(--bg-color);\n",
              "    border: none;\n",
              "    border-radius: 50%;\n",
              "    cursor: pointer;\n",
              "    display: none;\n",
              "    fill: var(--fill-color);\n",
              "    height: 32px;\n",
              "    padding: 0;\n",
              "    width: 32px;\n",
              "  }\n",
              "\n",
              "  .colab-df-quickchart:hover {\n",
              "    background-color: var(--hover-bg-color);\n",
              "    box-shadow: 0 1px 2px rgba(60, 64, 67, 0.3), 0 1px 3px 1px rgba(60, 64, 67, 0.15);\n",
              "    fill: var(--button-hover-fill-color);\n",
              "  }\n",
              "\n",
              "  .colab-df-quickchart-complete:disabled,\n",
              "  .colab-df-quickchart-complete:disabled:hover {\n",
              "    background-color: var(--disabled-bg-color);\n",
              "    fill: var(--disabled-fill-color);\n",
              "    box-shadow: none;\n",
              "  }\n",
              "\n",
              "  .colab-df-spinner {\n",
              "    border: 2px solid var(--fill-color);\n",
              "    border-color: transparent;\n",
              "    border-bottom-color: var(--fill-color);\n",
              "    animation:\n",
              "      spin 1s steps(1) infinite;\n",
              "  }\n",
              "\n",
              "  @keyframes spin {\n",
              "    0% {\n",
              "      border-color: transparent;\n",
              "      border-bottom-color: var(--fill-color);\n",
              "      border-left-color: var(--fill-color);\n",
              "    }\n",
              "    20% {\n",
              "      border-color: transparent;\n",
              "      border-left-color: var(--fill-color);\n",
              "      border-top-color: var(--fill-color);\n",
              "    }\n",
              "    30% {\n",
              "      border-color: transparent;\n",
              "      border-left-color: var(--fill-color);\n",
              "      border-top-color: var(--fill-color);\n",
              "      border-right-color: var(--fill-color);\n",
              "    }\n",
              "    40% {\n",
              "      border-color: transparent;\n",
              "      border-right-color: var(--fill-color);\n",
              "      border-top-color: var(--fill-color);\n",
              "    }\n",
              "    60% {\n",
              "      border-color: transparent;\n",
              "      border-right-color: var(--fill-color);\n",
              "    }\n",
              "    80% {\n",
              "      border-color: transparent;\n",
              "      border-right-color: var(--fill-color);\n",
              "      border-bottom-color: var(--fill-color);\n",
              "    }\n",
              "    90% {\n",
              "      border-color: transparent;\n",
              "      border-bottom-color: var(--fill-color);\n",
              "    }\n",
              "  }\n",
              "</style>\n",
              "\n",
              "  <script>\n",
              "    async function quickchart(key) {\n",
              "      const quickchartButtonEl =\n",
              "        document.querySelector('#' + key + ' button');\n",
              "      quickchartButtonEl.disabled = true;  // To prevent multiple clicks.\n",
              "      quickchartButtonEl.classList.add('colab-df-spinner');\n",
              "      try {\n",
              "        const charts = await google.colab.kernel.invokeFunction(\n",
              "            'suggestCharts', [key], {});\n",
              "      } catch (error) {\n",
              "        console.error('Error during call to suggestCharts:', error);\n",
              "      }\n",
              "      quickchartButtonEl.classList.remove('colab-df-spinner');\n",
              "      quickchartButtonEl.classList.add('colab-df-quickchart-complete');\n",
              "    }\n",
              "    (() => {\n",
              "      let quickchartButtonEl =\n",
              "        document.querySelector('#df-0c726cbb-ab56-49ee-8138-8c58a3a9edd2 button');\n",
              "      quickchartButtonEl.style.display =\n",
              "        google.colab.kernel.accessAllowed ? 'block' : 'none';\n",
              "    })();\n",
              "  </script>\n",
              "</div>\n",
              "    </div>\n",
              "  </div>\n"
            ]
          },
          "metadata": {},
          "execution_count": 9
        }
      ],
      "source": [
        "data[(2010 < data['RegistrationYear']) & (data['Price'] < 500)]"
      ]
    },
    {
      "cell_type": "code",
      "execution_count": 10,
      "metadata": {
        "id": "MjW5PTYxym63",
        "outputId": "ff5c31e0-9bb1-4fd0-8798-dcc5a30fc49f",
        "colab": {
          "base_uri": "https://localhost:8080/"
        }
      },
      "outputs": [
        {
          "output_type": "execute_result",
          "data": {
            "text/plain": [
              "0.03000629027048163"
            ]
          },
          "metadata": {},
          "execution_count": 10
        }
      ],
      "source": [
        "data[data['Price'] == 0].shape[0] / data.shape[0]"
      ]
    },
    {
      "cell_type": "markdown",
      "metadata": {
        "id": "uHrisVEOym64"
      },
      "source": [
        "**Only 3% of data with zero value, not a critical amount for discarding it rather than restoring it, because zero values are most likely missing values.**"
      ]
    },
    {
      "cell_type": "code",
      "execution_count": 11,
      "metadata": {
        "id": "Q1Yzb4W0ym64",
        "outputId": "5688a031-e9b8-4c02-e24b-472e38d1e90b",
        "colab": {
          "base_uri": "https://localhost:8080/",
          "height": 430
        }
      },
      "outputs": [
        {
          "output_type": "display_data",
          "data": {
            "text/plain": [
              "<Figure size 640x480 with 1 Axes>"
            ],
            "image/png": "[encoded data removed]"
          },
          "metadata": {}
        }
      ],
      "source": [
        "plt.xlim([0, 2000])\n",
        "data['Price'].hist(bins=1000);"
      ]
    },
    {
      "cell_type": "markdown",
      "metadata": {
        "id": "a1j0r-D2ym64"
      },
      "source": [
        "**Using the filtered data as an example, we see that there is a large number of cars in the data, newer than 2010, with a price below 500 euros, which, of course, is an error and incorrect data. The source data obviously contains a large amount of erroneous data that needs to be discarded.**"
      ]
    },
    {
      "cell_type": "code",
      "execution_count": 12,
      "metadata": {
        "id": "5Wz7X2Yeym64",
        "outputId": "4b39bbca-b7c0-41b8-f5b2-728510cf99b8",
        "colab": {
          "base_uri": "https://localhost:8080/"
        }
      },
      "outputs": [
        {
          "output_type": "execute_result",
          "data": {
            "text/plain": [
              "0.8791993656329984"
            ]
          },
          "metadata": {},
          "execution_count": 12
        }
      ],
      "source": [
        "data = data[data['Price'] > 500]\n",
        "data.shape[0] / initial_rows"
      ]
    },
    {
      "cell_type": "markdown",
      "metadata": {
        "id": "cb86Jf93ym64"
      },
      "source": [
        "**Almost 88% of the data remained after deletion.**"
      ]
    },
    {
      "cell_type": "markdown",
      "metadata": {
        "id": "vY15YoqPym64"
      },
      "source": [
        "**Let's see how many percent of all data contain a zero month value.**"
      ]
    },
    {
      "cell_type": "code",
      "execution_count": 13,
      "metadata": {
        "id": "7MDwHzf2ym64",
        "outputId": "ec2d3699-e20f-4551-fb2b-04360a934cfc",
        "colab": {
          "base_uri": "https://localhost:8080/"
        }
      },
      "outputs": [
        {
          "output_type": "execute_result",
          "data": {
            "text/plain": [
              "0.07543627090682081"
            ]
          },
          "metadata": {},
          "execution_count": 13
        }
      ],
      "source": [
        "data[data['RegistrationMonth'] == 0]['RegistrationMonth'].count() / data['RegistrationMonth'].count()"
      ]
    },
    {
      "cell_type": "markdown",
      "metadata": {
        "id": "JfOJoOrdym65"
      },
      "source": [
        "**About 7.5% of all data contain a zero month value. Most likely, in this case, a zero value is analogous to a gap in the data.**\n",
        "\n",
        "**From the point of view of common sense, the cost of a car is more influenced by the year of manufacture than the month. In rare exceptional cases, restyling of a specific car model may be released in the same year of manufacture, called transitional. Therefore, we will exclude this attribute from the data, leaving only the attribute responsible for the year of manufacture of the car.**"
      ]
    },
    {
      "cell_type": "code",
      "execution_count": 14,
      "metadata": {
        "id": "8iEmwURlym65",
        "outputId": "32e55b86-e981-49ae-f24a-f70965ae2055",
        "colab": {
          "base_uri": "https://localhost:8080/",
          "height": 204
        }
      },
      "outputs": [
        {
          "output_type": "execute_result",
          "data": {
            "text/plain": [
              "   Price VehicleType  RegistrationYear Gearbox  Power  Model  Kilometer  \\\n",
              "1  18300       coupe              2011  manual    190    NaN     125000   \n",
              "2   9800         suv              2004    auto    163  grand     125000   \n",
              "3   1500       small              2001  manual     75   golf     150000   \n",
              "4   3600       small              2008  manual     69  fabia      90000   \n",
              "5    650       sedan              1995  manual    102    3er     150000   \n",
              "\n",
              "   FuelType       Brand Repaired  \n",
              "1  gasoline        audi      yes  \n",
              "2  gasoline        jeep      NaN  \n",
              "3    petrol  volkswagen       no  \n",
              "4  gasoline       skoda       no  \n",
              "5    petrol         bmw      yes  "
            ],
            "text/html": [
              "\n",
              "  <div id=\"df-dbfe7f72-66f9-4c44-8244-3a2da429c53b\" class=\"colab-df-container\">\n",
              "    <div>\n",
              "<style scoped>\n",
              "    .dataframe tbody tr th:only-of-type {\n",
              "        vertical-align: middle;\n",
              "    }\n",
              "\n",
              "    .dataframe tbody tr th {\n",
              "        vertical-align: top;\n",
              "    }\n",
              "\n",
              "    .dataframe thead th {\n",
              "        text-align: right;\n",
              "    }\n",
              "</style>\n",
              "<table border=\"1\" class=\"dataframe\">\n",
              "  <thead>\n",
              "    <tr style=\"text-align: right;\">\n",
              "      <th></th>\n",
              "      <th>Price</th>\n",
              "      <th>VehicleType</th>\n",
              "      <th>RegistrationYear</th>\n",
              "      <th>Gearbox</th>\n",
              "      <th>Power</th>\n",
              "      <th>Model</th>\n",
              "      <th>Kilometer</th>\n",
              "      <th>FuelType</th>\n",
              "      <th>Brand</th>\n",
              "      <th>Repaired</th>\n",
              "    </tr>\n",
              "  </thead>\n",
              "  <tbody>\n",
              "    <tr>\n",
              "      <th>1</th>\n",
              "      <td>18300</td>\n",
              "      <td>coupe</td>\n",
              "      <td>2011</td>\n",
              "      <td>manual</td>\n",
              "      <td>190</td>\n",
              "      <td>NaN</td>\n",
              "      <td>125000</td>\n",
              "      <td>gasoline</td>\n",
              "      <td>audi</td>\n",
              "      <td>yes</td>\n",
              "    </tr>\n",
              "    <tr>\n",
              "      <th>2</th>\n",
              "      <td>9800</td>\n",
              "      <td>suv</td>\n",
              "      <td>2004</td>\n",
              "      <td>auto</td>\n",
              "      <td>163</td>\n",
              "      <td>grand</td>\n",
              "      <td>125000</td>\n",
              "      <td>gasoline</td>\n",
              "      <td>jeep</td>\n",
              "      <td>NaN</td>\n",
              "    </tr>\n",
              "    <tr>\n",
              "      <th>3</th>\n",
              "      <td>1500</td>\n",
              "      <td>small</td>\n",
              "      <td>2001</td>\n",
              "      <td>manual</td>\n",
              "      <td>75</td>\n",
              "      <td>golf</td>\n",
              "      <td>150000</td>\n",
              "      <td>petrol</td>\n",
              "      <td>volkswagen</td>\n",
              "      <td>no</td>\n",
              "    </tr>\n",
              "    <tr>\n",
              "      <th>4</th>\n",
              "      <td>3600</td>\n",
              "      <td>small</td>\n",
              "      <td>2008</td>\n",
              "      <td>manual</td>\n",
              "      <td>69</td>\n",
              "      <td>fabia</td>\n",
              "      <td>90000</td>\n",
              "      <td>gasoline</td>\n",
              "      <td>skoda</td>\n",
              "      <td>no</td>\n",
              "    </tr>\n",
              "    <tr>\n",
              "      <th>5</th>\n",
              "      <td>650</td>\n",
              "      <td>sedan</td>\n",
              "      <td>1995</td>\n",
              "      <td>manual</td>\n",
              "      <td>102</td>\n",
              "      <td>3er</td>\n",
              "      <td>150000</td>\n",
              "      <td>petrol</td>\n",
              "      <td>bmw</td>\n",
              "      <td>yes</td>\n",
              "    </tr>\n",
              "  </tbody>\n",
              "</table>\n",
              "</div>\n",
              "    <div class=\"colab-df-buttons\">\n",
              "\n",
              "  <div class=\"colab-df-container\">\n",
              "    <button class=\"colab-df-convert\" onclick=\"convertToInteractive('df-dbfe7f72-66f9-4c44-8244-3a2da429c53b')\"\n",
              "            title=\"Convert this dataframe to an interactive table.\"\n",
              "            style=\"display:none;\">\n",
              "\n",
              "  <svg xmlns=\"http://www.w3.org/2000/svg\" height=\"24px\" viewBox=\"0 -960 960 960\">\n",
              "    <path d=\"M120-120v-720h720v720H120Zm60-500h600v-160H180v160Zm220 220h160v-160H400v160Zm0 220h160v-160H400v160ZM180-400h160v-160H180v160Zm440 0h160v-160H620v160ZM180-180h160v-160H180v160Zm440 0h160v-160H620v160Z\"/>\n",
              "  </svg>\n",
              "    </button>\n",
              "\n",
              "  <style>\n",
              "    .colab-df-container {\n",
              "      display:flex;\n",
              "      gap: 12px;\n",
              "    }\n",
              "\n",
              "    .colab-df-convert {\n",
              "      background-color: #E8F0FE;\n",
              "      border: none;\n",
              "      border-radius: 50%;\n",
              "      cursor: pointer;\n",
              "      display: none;\n",
              "      fill: #1967D2;\n",
              "      height: 32px;\n",
              "      padding: 0 0 0 0;\n",
              "      width: 32px;\n",
              "    }\n",
              "\n",
              "    .colab-df-convert:hover {\n",
              "      background-color: #E2EBFA;\n",
              "      box-shadow: 0px 1px 2px rgba(60, 64, 67, 0.3), 0px 1px 3px 1px rgba(60, 64, 67, 0.15);\n",
              "      fill: #174EA6;\n",
              "    }\n",
              "\n",
              "    .colab-df-buttons div {\n",
              "      margin-bottom: 4px;\n",
              "    }\n",
              "\n",
              "    [theme=dark] .colab-df-convert {\n",
              "      background-color: #3B4455;\n",
              "      fill: #D2E3FC;\n",
              "    }\n",
              "\n",
              "    [theme=dark] .colab-df-convert:hover {\n",
              "      background-color: #434B5C;\n",
              "      box-shadow: 0px 1px 3px 1px rgba(0, 0, 0, 0.15);\n",
              "      filter: drop-shadow(0px 1px 2px rgba(0, 0, 0, 0.3));\n",
              "      fill: #FFFFFF;\n",
              "    }\n",
              "  </style>\n",
              "\n",
              "    <script>\n",
              "      const buttonEl =\n",
              "        document.querySelector('#df-dbfe7f72-66f9-4c44-8244-3a2da429c53b button.colab-df-convert');\n",
              "      buttonEl.style.display =\n",
              "        google.colab.kernel.accessAllowed ? 'block' : 'none';\n",
              "\n",
              "      async function convertToInteractive(key) {\n",
              "        const element = document.querySelector('#df-dbfe7f72-66f9-4c44-8244-3a2da429c53b');\n",
              "        const dataTable =\n",
              "          await google.colab.kernel.invokeFunction('convertToInteractive',\n",
              "                                                    [key], {});\n",
              "        if (!dataTable) return;\n",
              "\n",
              "        const docLinkHtml = 'Like what you see? Visit the ' +\n",
              "          '<a target=\"_blank\" href=https://colab.research.google.com/notebooks/data_table.ipynb>data table notebook</a>'\n",
              "          + ' to learn more about interactive tables.';\n",
              "        element.innerHTML = '';\n",
              "        dataTable['output_type'] = 'display_data';\n",
              "        await google.colab.output.renderOutput(dataTable, element);\n",
              "        const docLink = document.createElement('div');\n",
              "        docLink.innerHTML = docLinkHtml;\n",
              "        element.appendChild(docLink);\n",
              "      }\n",
              "    </script>\n",
              "  </div>\n",
              "\n",
              "\n",
              "<div id=\"df-2c4d2d61-ea86-4c3e-a8bc-0f0d56b99dd9\">\n",
              "  <button class=\"colab-df-quickchart\" onclick=\"quickchart('df-2c4d2d61-ea86-4c3e-a8bc-0f0d56b99dd9')\"\n",
              "            title=\"Suggest charts.\"\n",
              "            style=\"display:none;\">\n",
              "\n",
              "<svg xmlns=\"http://www.w3.org/2000/svg\" height=\"24px\"viewBox=\"0 0 24 24\"\n",
              "     width=\"24px\">\n",
              "    <g>\n",
              "        <path d=\"M19 3H5c-1.1 0-2 .9-2 2v14c0 1.1.9 2 2 2h14c1.1 0 2-.9 2-2V5c0-1.1-.9-2-2-2zM9 17H7v-7h2v7zm4 0h-2V7h2v10zm4 0h-2v-4h2v4z\"/>\n",
              "    </g>\n",
              "</svg>\n",
              "  </button>\n",
              "\n",
              "<style>\n",
              "  .colab-df-quickchart {\n",
              "      --bg-color: #E8F0FE;\n",
              "      --fill-color: #1967D2;\n",
              "      --hover-bg-color: #E2EBFA;\n",
              "      --hover-fill-color: #174EA6;\n",
              "      --disabled-fill-color: #AAA;\n",
              "      --disabled-bg-color: #DDD;\n",
              "  }\n",
              "\n",
              "  [theme=dark] .colab-df-quickchart {\n",
              "      --bg-color: #3B4455;\n",
              "      --fill-color: #D2E3FC;\n",
              "      --hover-bg-color: #434B5C;\n",
              "      --hover-fill-color: #FFFFFF;\n",
              "      --disabled-bg-color: #3B4455;\n",
              "      --disabled-fill-color: #666;\n",
              "  }\n",
              "\n",
              "  .colab-df-quickchart {\n",
              "    background-color: var(--bg-color);\n",
              "    border: none;\n",
              "    border-radius: 50%;\n",
              "    cursor: pointer;\n",
              "    display: none;\n",
              "    fill: var(--fill-color);\n",
              "    height: 32px;\n",
              "    padding: 0;\n",
              "    width: 32px;\n",
              "  }\n",
              "\n",
              "  .colab-df-quickchart:hover {\n",
              "    background-color: var(--hover-bg-color);\n",
              "    box-shadow: 0 1px 2px rgba(60, 64, 67, 0.3), 0 1px 3px 1px rgba(60, 64, 67, 0.15);\n",
              "    fill: var(--button-hover-fill-color);\n",
              "  }\n",
              "\n",
              "  .colab-df-quickchart-complete:disabled,\n",
              "  .colab-df-quickchart-complete:disabled:hover {\n",
              "    background-color: var(--disabled-bg-color);\n",
              "    fill: var(--disabled-fill-color);\n",
              "    box-shadow: none;\n",
              "  }\n",
              "\n",
              "  .colab-df-spinner {\n",
              "    border: 2px solid var(--fill-color);\n",
              "    border-color: transparent;\n",
              "    border-bottom-color: var(--fill-color);\n",
              "    animation:\n",
              "      spin 1s steps(1) infinite;\n",
              "  }\n",
              "\n",
              "  @keyframes spin {\n",
              "    0% {\n",
              "      border-color: transparent;\n",
              "      border-bottom-color: var(--fill-color);\n",
              "      border-left-color: var(--fill-color);\n",
              "    }\n",
              "    20% {\n",
              "      border-color: transparent;\n",
              "      border-left-color: var(--fill-color);\n",
              "      border-top-color: var(--fill-color);\n",
              "    }\n",
              "    30% {\n",
              "      border-color: transparent;\n",
              "      border-left-color: var(--fill-color);\n",
              "      border-top-color: var(--fill-color);\n",
              "      border-right-color: var(--fill-color);\n",
              "    }\n",
              "    40% {\n",
              "      border-color: transparent;\n",
              "      border-right-color: var(--fill-color);\n",
              "      border-top-color: var(--fill-color);\n",
              "    }\n",
              "    60% {\n",
              "      border-color: transparent;\n",
              "      border-right-color: var(--fill-color);\n",
              "    }\n",
              "    80% {\n",
              "      border-color: transparent;\n",
              "      border-right-color: var(--fill-color);\n",
              "      border-bottom-color: var(--fill-color);\n",
              "    }\n",
              "    90% {\n",
              "      border-color: transparent;\n",
              "      border-bottom-color: var(--fill-color);\n",
              "    }\n",
              "  }\n",
              "</style>\n",
              "\n",
              "  <script>\n",
              "    async function quickchart(key) {\n",
              "      const quickchartButtonEl =\n",
              "        document.querySelector('#' + key + ' button');\n",
              "      quickchartButtonEl.disabled = true;  // To prevent multiple clicks.\n",
              "      quickchartButtonEl.classList.add('colab-df-spinner');\n",
              "      try {\n",
              "        const charts = await google.colab.kernel.invokeFunction(\n",
              "            'suggestCharts', [key], {});\n",
              "      } catch (error) {\n",
              "        console.error('Error during call to suggestCharts:', error);\n",
              "      }\n",
              "      quickchartButtonEl.classList.remove('colab-df-spinner');\n",
              "      quickchartButtonEl.classList.add('colab-df-quickchart-complete');\n",
              "    }\n",
              "    (() => {\n",
              "      let quickchartButtonEl =\n",
              "        document.querySelector('#df-2c4d2d61-ea86-4c3e-a8bc-0f0d56b99dd9 button');\n",
              "      quickchartButtonEl.style.display =\n",
              "        google.colab.kernel.accessAllowed ? 'block' : 'none';\n",
              "    })();\n",
              "  </script>\n",
              "</div>\n",
              "    </div>\n",
              "  </div>\n"
            ]
          },
          "metadata": {},
          "execution_count": 14
        }
      ],
      "source": [
        "data = data.drop(['RegistrationMonth'], axis=1)\n",
        "data.head()"
      ]
    },
    {
      "cell_type": "markdown",
      "metadata": {
        "id": "2HyddY8sym65"
      },
      "source": [
        "**Now let's take a closer look at the values of the `Power` attribute and cut off anomalous values from the data.**"
      ]
    },
    {
      "cell_type": "code",
      "execution_count": 15,
      "metadata": {
        "id": "89saD3OUym65",
        "outputId": "9c2cb226-d42e-42f4-9975-626b0219a7fb",
        "colab": {
          "base_uri": "https://localhost:8080/",
          "height": 435
        }
      },
      "outputs": [
        {
          "output_type": "display_data",
          "data": {
            "text/plain": [
              "<Figure size 640x480 with 1 Axes>"
            ],
            "image/png": "[encoded data removed]"
          },
          "metadata": {}
        }
      ],
      "source": [
        "plt.ylim([-10, 500])\n",
        "data.boxplot(['Power']);"
      ]
    },
    {
      "cell_type": "markdown",
      "metadata": {
        "id": "9EHFoMlxym65"
      },
      "source": [
        "**From the web search I determined that the lowest-power car has 5 hp, respectively, everything below 5 hp. - are anomalous values and must be discarded. In this case, we will first estimate which part of the data from this filter corresponds to the value of the `Power` attribute equal to zero.**"
      ]
    },
    {
      "cell_type": "code",
      "execution_count": 16,
      "metadata": {
        "id": "SANZBFsEym65",
        "outputId": "eb168386-afdd-4aa5-fee3-0e2dd53072e8",
        "colab": {
          "base_uri": "https://localhost:8080/"
        }
      },
      "outputs": [
        {
          "output_type": "execute_result",
          "data": {
            "text/plain": [
              "0.9978021978021978"
            ]
          },
          "metadata": {},
          "execution_count": 16
        }
      ],
      "source": [
        "data[(0 == data['Power'])].shape[0] / data[(5 > data['Power'])].shape[0]"
      ]
    },
    {
      "cell_type": "markdown",
      "metadata": {
        "id": "CK0XgIesym65"
      },
      "source": [
        "**Almost 99.8% of the filtered data for the `Power` attribute value less than 5 corresponds to the value 0.**\n",
        "\n",
        "**Let us now estimate what percentage of the data has a zero value for this characteristic out of all data.**"
      ]
    },
    {
      "cell_type": "code",
      "execution_count": 17,
      "metadata": {
        "id": "u1FY_ZQgym65",
        "outputId": "e0d5c143-f17b-44aa-a3b6-c526a3cb006f",
        "colab": {
          "base_uri": "https://localhost:8080/"
        }
      },
      "outputs": [
        {
          "output_type": "execute_result",
          "data": {
            "text/plain": [
              "0.08743071180282513"
            ]
          },
          "metadata": {},
          "execution_count": 17
        }
      ],
      "source": [
        "data[(0 == data['Power'])].shape[0] / data.shape[0]"
      ]
    },
    {
      "cell_type": "markdown",
      "metadata": {
        "id": "S09zNu75ym66"
      },
      "source": [
        "**About 8.7%. We can consider this data as gaps, and in order not to lose such a large percentage of the data, we will fill these gaps with the median value for each car model below, in the part of the work where we work with gaps.**\n",
        "\n",
        "**We will first remove data where the value of this attribute is less than 5 but greater than 0. We will work with zero values below.**"
      ]
    },
    {
      "cell_type": "code",
      "execution_count": 18,
      "metadata": {
        "id": "5oTZfTnnym66",
        "outputId": "b1504e62-58b9-4d54-81b6-d5a2dc5a4613",
        "colab": {
          "base_uri": "https://localhost:8080/"
        }
      },
      "outputs": [
        {
          "output_type": "execute_result",
          "data": {
            "text/plain": [
              "0.8790300505969766"
            ]
          },
          "metadata": {},
          "execution_count": 18
        }
      ],
      "source": [
        "data = data[(data['Power'] >= 5) | ((data['Power'] == 0))]\n",
        "data.shape[0] / initial_rows"
      ]
    },
    {
      "cell_type": "markdown",
      "metadata": {
        "id": "DkSi1kp6ym66"
      },
      "source": [
        "**Almost 88% of the data remained after deletion.**\n",
        "\n",
        "**Let’s check for the percentage of complete duplicates in the data filtered by the preliminary steps above.**"
      ]
    },
    {
      "cell_type": "code",
      "execution_count": 19,
      "metadata": {
        "id": "WcafpS3Lym66",
        "outputId": "12497bca-9bdc-4144-fc63-505c0e0caee6",
        "colab": {
          "base_uri": "https://localhost:8080/"
        }
      },
      "outputs": [
        {
          "output_type": "execute_result",
          "data": {
            "text/plain": [
              "0.1282692511420509"
            ]
          },
          "metadata": {},
          "execution_count": 19
        }
      ],
      "source": [
        "data.duplicated().sum() / data.shape[0]"
      ]
    },
    {
      "cell_type": "markdown",
      "metadata": {
        "id": "DEjtFmQYym66"
      },
      "source": [
        "**We will remove complete duplicates.**"
      ]
    },
    {
      "cell_type": "code",
      "execution_count": 20,
      "metadata": {
        "id": "VT4SU4XDym66",
        "outputId": "c08a0580-37c5-4229-826d-2efd862bccb5",
        "colab": {
          "base_uri": "https://localhost:8080/"
        }
      },
      "outputs": [
        {
          "output_type": "execute_result",
          "data": {
            "text/plain": [
              "0"
            ]
          },
          "metadata": {},
          "execution_count": 20
        }
      ],
      "source": [
        "data = data.drop_duplicates()\n",
        "data.duplicated().sum()"
      ]
    },
    {
      "cell_type": "code",
      "execution_count": 21,
      "metadata": {
        "id": "AdUUT8G6ym67",
        "outputId": "c69cc409-ebcc-4368-bbdd-c75d69a534dd",
        "colab": {
          "base_uri": "https://localhost:8080/"
        }
      },
      "outputs": [
        {
          "output_type": "execute_result",
          "data": {
            "text/plain": [
              "0.7662775242755433"
            ]
          },
          "metadata": {},
          "execution_count": 21
        }
      ],
      "source": [
        "data.shape[0] / initial_rows"
      ]
    },
    {
      "cell_type": "markdown",
      "metadata": {
        "id": "-SrB3F5Bym67"
      },
      "source": [
        "**Remaining data - 76.6% of the original quantity.**\n",
        "\n",
        "**Now let’s check some signs for implicit duplicates.**"
      ]
    },
    {
      "cell_type": "code",
      "execution_count": 22,
      "metadata": {
        "id": "WlB7y8QGym67",
        "outputId": "ecbbb972-a843-495f-8a78-f744d8e22657",
        "colab": {
          "base_uri": "https://localhost:8080/"
        }
      },
      "outputs": [
        {
          "output_type": "stream",
          "name": "stdout",
          "text": [
            "VehicleType\n",
            "bus            24759\n",
            "convertible    17380\n",
            "coupe          13151\n",
            "other           2547\n",
            "sedan          71353\n",
            "small          55832\n",
            "suv            10423\n",
            "wagon          51473\n",
            "Name: VehicleType, dtype: int64\n",
            "\n",
            "Gearbox\n",
            "auto       56061\n",
            "manual    204401\n",
            "Name: Gearbox, dtype: int64\n",
            "\n",
            "FuelType\n",
            "cng            489\n",
            "electric        77\n",
            "gasoline     81998\n",
            "hybrid         212\n",
            "lpg           4572\n",
            "other          106\n",
            "petrol      162709\n",
            "Name: FuelType, dtype: int64\n",
            "\n",
            "Brand\n",
            "alfa_romeo         1846\n",
            "audi              23599\n",
            "bmw               29454\n",
            "chevrolet          1535\n",
            "chrysler           1152\n",
            "citroen            4224\n",
            "dacia               817\n",
            "daewoo              375\n",
            "daihatsu            537\n",
            "fiat               6987\n",
            "ford              18049\n",
            "honda              2317\n",
            "hyundai            3068\n",
            "jaguar              453\n",
            "jeep                594\n",
            "kia                2102\n",
            "lada                188\n",
            "lancia              337\n",
            "land_rover          488\n",
            "mazda              4420\n",
            "mercedes_benz     27314\n",
            "mini               2812\n",
            "mitsubishi         2294\n",
            "nissan             3829\n",
            "opel              27595\n",
            "peugeot            8644\n",
            "porsche             623\n",
            "renault           12702\n",
            "rover               328\n",
            "saab                435\n",
            "seat               5405\n",
            "skoda              4758\n",
            "smart              4664\n",
            "sonstige_autos     2036\n",
            "subaru              580\n",
            "suzuki             1907\n",
            "toyota             4093\n",
            "trabant             317\n",
            "volkswagen        56139\n",
            "volvo              2528\n",
            "Name: Brand, dtype: int64\n",
            "\n",
            "Repaired\n",
            "no     200457\n",
            "yes     22807\n",
            "Name: Repaired, dtype: int64\n",
            "\n"
          ]
        }
      ],
      "source": [
        "for column in ['VehicleType', 'Gearbox', 'FuelType', 'Brand', 'Repaired']:\n",
        "    print(data.groupby([column])[column].count())\n",
        "    print()"
      ]
    },
    {
      "cell_type": "markdown",
      "metadata": {
        "id": "MkebY1PKym67"
      },
      "source": [
        "**No implicit duplicates were identified among the above features.**\n",
        "\n",
        "**Check for the number of gaps in each attribute as a proportion of the total number of objects.**"
      ]
    },
    {
      "cell_type": "code",
      "execution_count": 23,
      "metadata": {
        "scrolled": true,
        "id": "O_DftE5jym67",
        "outputId": "4425fa8d-c67d-44ec-c6b8-a687e55bd75b",
        "colab": {
          "base_uri": "https://localhost:8080/"
        }
      },
      "outputs": [
        {
          "output_type": "execute_result",
          "data": {
            "text/plain": [
              "Price               0.000000\n",
              "VehicleType         0.090692\n",
              "RegistrationYear    0.000000\n",
              "Gearbox             0.040815\n",
              "Power               0.000000\n",
              "Model               0.048644\n",
              "Kilometer           0.000000\n",
              "FuelType            0.078742\n",
              "Brand               0.000000\n",
              "Repaired            0.177801\n",
              "dtype: float64"
            ]
          },
          "metadata": {},
          "execution_count": 23
        }
      ],
      "source": [
        "data.isna().mean()"
      ]
    },
    {
      "cell_type": "markdown",
      "metadata": {
        "id": "kCWesL2Oym68"
      },
      "source": [
        "**The largest number of omissions is in the `Repaired` feature - almost 17% of the total number of objects. This sign is important because affects the cost of the car.**\n",
        "\n",
        "**In second place are gaps in the `VehicleType` feature, there are 9%.**\n",
        "\n",
        "**There are about 4% gaps in the `Gearbox` feature.**\n",
        "\n",
        "**As previously noted, there are gaps in the `Power` features, which are expressed as zero values.**\n",
        "\n",
        "**As for the gaps in the `Model` attribute, this data cannot be restored using the remaining features, so they can be deleted.**\n",
        "\n",
        "**There are about 8% gaps in the `FuelType` feature.**\n",
        "\n",
        "**Let's remove the gaps in the `Model` feature below.**"
      ]
    },
    {
      "cell_type": "code",
      "execution_count": 24,
      "metadata": {
        "id": "24UYZ1C0ym68",
        "outputId": "651ca817-4679-4e35-dfa0-1d91109ad6c4",
        "colab": {
          "base_uri": "https://localhost:8080/"
        }
      },
      "outputs": [
        {
          "output_type": "execute_result",
          "data": {
            "text/plain": [
              "0.7290028190953498"
            ]
          },
          "metadata": {},
          "execution_count": 24
        }
      ],
      "source": [
        "data = data.dropna(subset=['Model'])\n",
        "data.shape[0] / initial_rows"
      ]
    },
    {
      "cell_type": "markdown",
      "metadata": {
        "id": "s_O5Q_IZym68"
      },
      "source": [
        "**Almost 73% of the original data remains.**\n",
        "\n",
        "**Replace the gaps in the car body type with the most numerous value for a given model of a given brand among the data.**"
      ]
    },
    {
      "cell_type": "code",
      "execution_count": 25,
      "metadata": {
        "id": "ZymEPcNrym68",
        "outputId": "32a740b2-f0b2-4581-9077-f88deed5324b",
        "colab": {
          "base_uri": "https://localhost:8080/"
        }
      },
      "outputs": [
        {
          "output_type": "execute_result",
          "data": {
            "text/plain": [
              "0"
            ]
          },
          "metadata": {},
          "execution_count": 25
        }
      ],
      "source": [
        "val = data.groupby(['Model', 'Brand'])['VehicleType'].transform(lambda x: x.mode().iat[0])\n",
        "data['VehicleType'] = data['VehicleType'].fillna(val)\n",
        "data['VehicleType'].isna().sum()"
      ]
    },
    {
      "cell_type": "markdown",
      "metadata": {
        "id": "DJ58P8JJym68"
      },
      "source": [
        "**We will proceed in the same way to fill in the gaps in the features of fuel type and gearbox type.**"
      ]
    },
    {
      "cell_type": "code",
      "execution_count": 26,
      "metadata": {
        "id": "eUM6djIOym68",
        "outputId": "7640daf8-982a-4524-aaf8-4a689b738934",
        "colab": {
          "base_uri": "https://localhost:8080/"
        }
      },
      "outputs": [
        {
          "output_type": "execute_result",
          "data": {
            "text/plain": [
              "Price               0.000000\n",
              "VehicleType         0.000000\n",
              "RegistrationYear    0.000000\n",
              "Gearbox             0.000000\n",
              "Power               0.000000\n",
              "Model               0.000000\n",
              "Kilometer           0.000000\n",
              "FuelType            0.000000\n",
              "Brand               0.000000\n",
              "Repaired            0.166365\n",
              "dtype: float64"
            ]
          },
          "metadata": {},
          "execution_count": 26
        }
      ],
      "source": [
        "val = data.groupby(['Model', 'Brand'])['FuelType'].transform(lambda x: x.mode().iat[0])\n",
        "data['FuelType'] = data['FuelType'].fillna(val)\n",
        "\n",
        "val = data.groupby(['Model', 'Brand'])['Gearbox'].transform(lambda x: x.mode().iat[0])\n",
        "data['Gearbox'] = data['Gearbox'].fillna(val)\n",
        "\n",
        "data.isna().mean()"
      ]
    },
    {
      "cell_type": "markdown",
      "metadata": {
        "id": "dzkFP023ym68"
      },
      "source": [
        "**To fill in the gaps in the `Repaired` feature, in the same way, we will first remove those lines with missing values, where the model is unique and there is no way to rely on any statistics on repairs of this model.**"
      ]
    },
    {
      "cell_type": "code",
      "execution_count": 27,
      "metadata": {
        "id": "xsIOzJIlym69",
        "outputId": "c71de514-61a0-4f58-aff9-fc1cba2d4ef8",
        "colab": {
          "base_uri": "https://localhost:8080/",
          "height": 173
        }
      },
      "outputs": [
        {
          "output_type": "execute_result",
          "data": {
            "text/plain": [
              "        Price VehicleType  RegistrationYear Gearbox  Power       Model  \\\n",
              "27949    1050       small              1998  manual    103  rangerover   \n",
              "164289   8000       wagon              2012  manual     90       lodgy   \n",
              "234296   3800       wagon              1978  manual      0     serie_1   \n",
              "309856  18555         suv              2010  manual    163      amarok   \n",
              "\n",
              "        Kilometer  FuelType       Brand Repaired  \n",
              "27949      150000    petrol       rover      NaN  \n",
              "164289     125000  gasoline       dacia      NaN  \n",
              "234296      30000  gasoline  land_rover      NaN  \n",
              "309856      70000  gasoline  volkswagen      NaN  "
            ],
            "text/html": [
              "\n",
              "  <div id=\"df-81b7ffaa-aa76-4999-ad4a-06c27e8fa837\" class=\"colab-df-container\">\n",
              "    <div>\n",
              "<style scoped>\n",
              "    .dataframe tbody tr th:only-of-type {\n",
              "        vertical-align: middle;\n",
              "    }\n",
              "\n",
              "    .dataframe tbody tr th {\n",
              "        vertical-align: top;\n",
              "    }\n",
              "\n",
              "    .dataframe thead th {\n",
              "        text-align: right;\n",
              "    }\n",
              "</style>\n",
              "<table border=\"1\" class=\"dataframe\">\n",
              "  <thead>\n",
              "    <tr style=\"text-align: right;\">\n",
              "      <th></th>\n",
              "      <th>Price</th>\n",
              "      <th>VehicleType</th>\n",
              "      <th>RegistrationYear</th>\n",
              "      <th>Gearbox</th>\n",
              "      <th>Power</th>\n",
              "      <th>Model</th>\n",
              "      <th>Kilometer</th>\n",
              "      <th>FuelType</th>\n",
              "      <th>Brand</th>\n",
              "      <th>Repaired</th>\n",
              "    </tr>\n",
              "  </thead>\n",
              "  <tbody>\n",
              "    <tr>\n",
              "      <th>27949</th>\n",
              "      <td>1050</td>\n",
              "      <td>small</td>\n",
              "      <td>1998</td>\n",
              "      <td>manual</td>\n",
              "      <td>103</td>\n",
              "      <td>rangerover</td>\n",
              "      <td>150000</td>\n",
              "      <td>petrol</td>\n",
              "      <td>rover</td>\n",
              "      <td>NaN</td>\n",
              "    </tr>\n",
              "    <tr>\n",
              "      <th>164289</th>\n",
              "      <td>8000</td>\n",
              "      <td>wagon</td>\n",
              "      <td>2012</td>\n",
              "      <td>manual</td>\n",
              "      <td>90</td>\n",
              "      <td>lodgy</td>\n",
              "      <td>125000</td>\n",
              "      <td>gasoline</td>\n",
              "      <td>dacia</td>\n",
              "      <td>NaN</td>\n",
              "    </tr>\n",
              "    <tr>\n",
              "      <th>234296</th>\n",
              "      <td>3800</td>\n",
              "      <td>wagon</td>\n",
              "      <td>1978</td>\n",
              "      <td>manual</td>\n",
              "      <td>0</td>\n",
              "      <td>serie_1</td>\n",
              "      <td>30000</td>\n",
              "      <td>gasoline</td>\n",
              "      <td>land_rover</td>\n",
              "      <td>NaN</td>\n",
              "    </tr>\n",
              "    <tr>\n",
              "      <th>309856</th>\n",
              "      <td>18555</td>\n",
              "      <td>suv</td>\n",
              "      <td>2010</td>\n",
              "      <td>manual</td>\n",
              "      <td>163</td>\n",
              "      <td>amarok</td>\n",
              "      <td>70000</td>\n",
              "      <td>gasoline</td>\n",
              "      <td>volkswagen</td>\n",
              "      <td>NaN</td>\n",
              "    </tr>\n",
              "  </tbody>\n",
              "</table>\n",
              "</div>\n",
              "    <div class=\"colab-df-buttons\">\n",
              "\n",
              "  <div class=\"colab-df-container\">\n",
              "    <button class=\"colab-df-convert\" onclick=\"convertToInteractive('df-81b7ffaa-aa76-4999-ad4a-06c27e8fa837')\"\n",
              "            title=\"Convert this dataframe to an interactive table.\"\n",
              "            style=\"display:none;\">\n",
              "\n",
              "  <svg xmlns=\"http://www.w3.org/2000/svg\" height=\"24px\" viewBox=\"0 -960 960 960\">\n",
              "    <path d=\"M120-120v-720h720v720H120Zm60-500h600v-160H180v160Zm220 220h160v-160H400v160Zm0 220h160v-160H400v160ZM180-400h160v-160H180v160Zm440 0h160v-160H620v160ZM180-180h160v-160H180v160Zm440 0h160v-160H620v160Z\"/>\n",
              "  </svg>\n",
              "    </button>\n",
              "\n",
              "  <style>\n",
              "    .colab-df-container {\n",
              "      display:flex;\n",
              "      gap: 12px;\n",
              "    }\n",
              "\n",
              "    .colab-df-convert {\n",
              "      background-color: #E8F0FE;\n",
              "      border: none;\n",
              "      border-radius: 50%;\n",
              "      cursor: pointer;\n",
              "      display: none;\n",
              "      fill: #1967D2;\n",
              "      height: 32px;\n",
              "      padding: 0 0 0 0;\n",
              "      width: 32px;\n",
              "    }\n",
              "\n",
              "    .colab-df-convert:hover {\n",
              "      background-color: #E2EBFA;\n",
              "      box-shadow: 0px 1px 2px rgba(60, 64, 67, 0.3), 0px 1px 3px 1px rgba(60, 64, 67, 0.15);\n",
              "      fill: #174EA6;\n",
              "    }\n",
              "\n",
              "    .colab-df-buttons div {\n",
              "      margin-bottom: 4px;\n",
              "    }\n",
              "\n",
              "    [theme=dark] .colab-df-convert {\n",
              "      background-color: #3B4455;\n",
              "      fill: #D2E3FC;\n",
              "    }\n",
              "\n",
              "    [theme=dark] .colab-df-convert:hover {\n",
              "      background-color: #434B5C;\n",
              "      box-shadow: 0px 1px 3px 1px rgba(0, 0, 0, 0.15);\n",
              "      filter: drop-shadow(0px 1px 2px rgba(0, 0, 0, 0.3));\n",
              "      fill: #FFFFFF;\n",
              "    }\n",
              "  </style>\n",
              "\n",
              "    <script>\n",
              "      const buttonEl =\n",
              "        document.querySelector('#df-81b7ffaa-aa76-4999-ad4a-06c27e8fa837 button.colab-df-convert');\n",
              "      buttonEl.style.display =\n",
              "        google.colab.kernel.accessAllowed ? 'block' : 'none';\n",
              "\n",
              "      async function convertToInteractive(key) {\n",
              "        const element = document.querySelector('#df-81b7ffaa-aa76-4999-ad4a-06c27e8fa837');\n",
              "        const dataTable =\n",
              "          await google.colab.kernel.invokeFunction('convertToInteractive',\n",
              "                                                    [key], {});\n",
              "        if (!dataTable) return;\n",
              "\n",
              "        const docLinkHtml = 'Like what you see? Visit the ' +\n",
              "          '<a target=\"_blank\" href=https://colab.research.google.com/notebooks/data_table.ipynb>data table notebook</a>'\n",
              "          + ' to learn more about interactive tables.';\n",
              "        element.innerHTML = '';\n",
              "        dataTable['output_type'] = 'display_data';\n",
              "        await google.colab.output.renderOutput(dataTable, element);\n",
              "        const docLink = document.createElement('div');\n",
              "        docLink.innerHTML = docLinkHtml;\n",
              "        element.appendChild(docLink);\n",
              "      }\n",
              "    </script>\n",
              "  </div>\n",
              "\n",
              "\n",
              "<div id=\"df-137c0acf-bfff-4f59-97ca-5fe5b7eddcba\">\n",
              "  <button class=\"colab-df-quickchart\" onclick=\"quickchart('df-137c0acf-bfff-4f59-97ca-5fe5b7eddcba')\"\n",
              "            title=\"Suggest charts.\"\n",
              "            style=\"display:none;\">\n",
              "\n",
              "<svg xmlns=\"http://www.w3.org/2000/svg\" height=\"24px\"viewBox=\"0 0 24 24\"\n",
              "     width=\"24px\">\n",
              "    <g>\n",
              "        <path d=\"M19 3H5c-1.1 0-2 .9-2 2v14c0 1.1.9 2 2 2h14c1.1 0 2-.9 2-2V5c0-1.1-.9-2-2-2zM9 17H7v-7h2v7zm4 0h-2V7h2v10zm4 0h-2v-4h2v4z\"/>\n",
              "    </g>\n",
              "</svg>\n",
              "  </button>\n",
              "\n",
              "<style>\n",
              "  .colab-df-quickchart {\n",
              "      --bg-color: #E8F0FE;\n",
              "      --fill-color: #1967D2;\n",
              "      --hover-bg-color: #E2EBFA;\n",
              "      --hover-fill-color: #174EA6;\n",
              "      --disabled-fill-color: #AAA;\n",
              "      --disabled-bg-color: #DDD;\n",
              "  }\n",
              "\n",
              "  [theme=dark] .colab-df-quickchart {\n",
              "      --bg-color: #3B4455;\n",
              "      --fill-color: #D2E3FC;\n",
              "      --hover-bg-color: #434B5C;\n",
              "      --hover-fill-color: #FFFFFF;\n",
              "      --disabled-bg-color: #3B4455;\n",
              "      --disabled-fill-color: #666;\n",
              "  }\n",
              "\n",
              "  .colab-df-quickchart {\n",
              "    background-color: var(--bg-color);\n",
              "    border: none;\n",
              "    border-radius: 50%;\n",
              "    cursor: pointer;\n",
              "    display: none;\n",
              "    fill: var(--fill-color);\n",
              "    height: 32px;\n",
              "    padding: 0;\n",
              "    width: 32px;\n",
              "  }\n",
              "\n",
              "  .colab-df-quickchart:hover {\n",
              "    background-color: var(--hover-bg-color);\n",
              "    box-shadow: 0 1px 2px rgba(60, 64, 67, 0.3), 0 1px 3px 1px rgba(60, 64, 67, 0.15);\n",
              "    fill: var(--button-hover-fill-color);\n",
              "  }\n",
              "\n",
              "  .colab-df-quickchart-complete:disabled,\n",
              "  .colab-df-quickchart-complete:disabled:hover {\n",
              "    background-color: var(--disabled-bg-color);\n",
              "    fill: var(--disabled-fill-color);\n",
              "    box-shadow: none;\n",
              "  }\n",
              "\n",
              "  .colab-df-spinner {\n",
              "    border: 2px solid var(--fill-color);\n",
              "    border-color: transparent;\n",
              "    border-bottom-color: var(--fill-color);\n",
              "    animation:\n",
              "      spin 1s steps(1) infinite;\n",
              "  }\n",
              "\n",
              "  @keyframes spin {\n",
              "    0% {\n",
              "      border-color: transparent;\n",
              "      border-bottom-color: var(--fill-color);\n",
              "      border-left-color: var(--fill-color);\n",
              "    }\n",
              "    20% {\n",
              "      border-color: transparent;\n",
              "      border-left-color: var(--fill-color);\n",
              "      border-top-color: var(--fill-color);\n",
              "    }\n",
              "    30% {\n",
              "      border-color: transparent;\n",
              "      border-left-color: var(--fill-color);\n",
              "      border-top-color: var(--fill-color);\n",
              "      border-right-color: var(--fill-color);\n",
              "    }\n",
              "    40% {\n",
              "      border-color: transparent;\n",
              "      border-right-color: var(--fill-color);\n",
              "      border-top-color: var(--fill-color);\n",
              "    }\n",
              "    60% {\n",
              "      border-color: transparent;\n",
              "      border-right-color: var(--fill-color);\n",
              "    }\n",
              "    80% {\n",
              "      border-color: transparent;\n",
              "      border-right-color: var(--fill-color);\n",
              "      border-bottom-color: var(--fill-color);\n",
              "    }\n",
              "    90% {\n",
              "      border-color: transparent;\n",
              "      border-bottom-color: var(--fill-color);\n",
              "    }\n",
              "  }\n",
              "</style>\n",
              "\n",
              "  <script>\n",
              "    async function quickchart(key) {\n",
              "      const quickchartButtonEl =\n",
              "        document.querySelector('#' + key + ' button');\n",
              "      quickchartButtonEl.disabled = true;  // To prevent multiple clicks.\n",
              "      quickchartButtonEl.classList.add('colab-df-spinner');\n",
              "      try {\n",
              "        const charts = await google.colab.kernel.invokeFunction(\n",
              "            'suggestCharts', [key], {});\n",
              "      } catch (error) {\n",
              "        console.error('Error during call to suggestCharts:', error);\n",
              "      }\n",
              "      quickchartButtonEl.classList.remove('colab-df-spinner');\n",
              "      quickchartButtonEl.classList.add('colab-df-quickchart-complete');\n",
              "    }\n",
              "    (() => {\n",
              "      let quickchartButtonEl =\n",
              "        document.querySelector('#df-137c0acf-bfff-4f59-97ca-5fe5b7eddcba button');\n",
              "      quickchartButtonEl.style.display =\n",
              "        google.colab.kernel.accessAllowed ? 'block' : 'none';\n",
              "    })();\n",
              "  </script>\n",
              "</div>\n",
              "    </div>\n",
              "  </div>\n"
            ]
          },
          "metadata": {},
          "execution_count": 27
        }
      ],
      "source": [
        "#create a new df, grouping the original one by the number of models, where there is a pass in Repaired\n",
        "df_temp = data[data['Repaired'].isna()]['Model'].value_counts(ascending=True).to_frame()\n",
        "\n",
        "#create a list of those models that are unique\n",
        "temp_list = df_temp[df_temp['Model'] == 1].index.to_list()\n",
        "\n",
        "#output the row data from the source df\n",
        "df_chosen_rows = data[(data['Repaired'].isna()) & (data['Model'].isin(temp_list))].copy()\n",
        "df_chosen_rows"
      ]
    },
    {
      "cell_type": "code",
      "execution_count": 28,
      "metadata": {
        "id": "xc3T1IqHym69",
        "outputId": "6a68b0c0-57df-49cc-e3cd-dbe4bd00dd60",
        "colab": {
          "base_uri": "https://localhost:8080/",
          "height": 53
        }
      },
      "outputs": [
        {
          "output_type": "execute_result",
          "data": {
            "text/plain": [
              "Empty DataFrame\n",
              "Columns: [Price, VehicleType, RegistrationYear, Gearbox, Power, Model, Kilometer, FuelType, Brand, Repaired]\n",
              "Index: []"
            ],
            "text/html": [
              "\n",
              "  <div id=\"df-95264b26-ed01-455c-abd4-c8558c5ae7b1\" class=\"colab-df-container\">\n",
              "    <div>\n",
              "<style scoped>\n",
              "    .dataframe tbody tr th:only-of-type {\n",
              "        vertical-align: middle;\n",
              "    }\n",
              "\n",
              "    .dataframe tbody tr th {\n",
              "        vertical-align: top;\n",
              "    }\n",
              "\n",
              "    .dataframe thead th {\n",
              "        text-align: right;\n",
              "    }\n",
              "</style>\n",
              "<table border=\"1\" class=\"dataframe\">\n",
              "  <thead>\n",
              "    <tr style=\"text-align: right;\">\n",
              "      <th></th>\n",
              "      <th>Price</th>\n",
              "      <th>VehicleType</th>\n",
              "      <th>RegistrationYear</th>\n",
              "      <th>Gearbox</th>\n",
              "      <th>Power</th>\n",
              "      <th>Model</th>\n",
              "      <th>Kilometer</th>\n",
              "      <th>FuelType</th>\n",
              "      <th>Brand</th>\n",
              "      <th>Repaired</th>\n",
              "    </tr>\n",
              "  </thead>\n",
              "  <tbody>\n",
              "  </tbody>\n",
              "</table>\n",
              "</div>\n",
              "    <div class=\"colab-df-buttons\">\n",
              "\n",
              "  <div class=\"colab-df-container\">\n",
              "    <button class=\"colab-df-convert\" onclick=\"convertToInteractive('df-95264b26-ed01-455c-abd4-c8558c5ae7b1')\"\n",
              "            title=\"Convert this dataframe to an interactive table.\"\n",
              "            style=\"display:none;\">\n",
              "\n",
              "  <svg xmlns=\"http://www.w3.org/2000/svg\" height=\"24px\" viewBox=\"0 -960 960 960\">\n",
              "    <path d=\"M120-120v-720h720v720H120Zm60-500h600v-160H180v160Zm220 220h160v-160H400v160Zm0 220h160v-160H400v160ZM180-400h160v-160H180v160Zm440 0h160v-160H620v160ZM180-180h160v-160H180v160Zm440 0h160v-160H620v160Z\"/>\n",
              "  </svg>\n",
              "    </button>\n",
              "\n",
              "  <style>\n",
              "    .colab-df-container {\n",
              "      display:flex;\n",
              "      gap: 12px;\n",
              "    }\n",
              "\n",
              "    .colab-df-convert {\n",
              "      background-color: #E8F0FE;\n",
              "      border: none;\n",
              "      border-radius: 50%;\n",
              "      cursor: pointer;\n",
              "      display: none;\n",
              "      fill: #1967D2;\n",
              "      height: 32px;\n",
              "      padding: 0 0 0 0;\n",
              "      width: 32px;\n",
              "    }\n",
              "\n",
              "    .colab-df-convert:hover {\n",
              "      background-color: #E2EBFA;\n",
              "      box-shadow: 0px 1px 2px rgba(60, 64, 67, 0.3), 0px 1px 3px 1px rgba(60, 64, 67, 0.15);\n",
              "      fill: #174EA6;\n",
              "    }\n",
              "\n",
              "    .colab-df-buttons div {\n",
              "      margin-bottom: 4px;\n",
              "    }\n",
              "\n",
              "    [theme=dark] .colab-df-convert {\n",
              "      background-color: #3B4455;\n",
              "      fill: #D2E3FC;\n",
              "    }\n",
              "\n",
              "    [theme=dark] .colab-df-convert:hover {\n",
              "      background-color: #434B5C;\n",
              "      box-shadow: 0px 1px 3px 1px rgba(0, 0, 0, 0.15);\n",
              "      filter: drop-shadow(0px 1px 2px rgba(0, 0, 0, 0.3));\n",
              "      fill: #FFFFFF;\n",
              "    }\n",
              "  </style>\n",
              "\n",
              "    <script>\n",
              "      const buttonEl =\n",
              "        document.querySelector('#df-95264b26-ed01-455c-abd4-c8558c5ae7b1 button.colab-df-convert');\n",
              "      buttonEl.style.display =\n",
              "        google.colab.kernel.accessAllowed ? 'block' : 'none';\n",
              "\n",
              "      async function convertToInteractive(key) {\n",
              "        const element = document.querySelector('#df-95264b26-ed01-455c-abd4-c8558c5ae7b1');\n",
              "        const dataTable =\n",
              "          await google.colab.kernel.invokeFunction('convertToInteractive',\n",
              "                                                    [key], {});\n",
              "        if (!dataTable) return;\n",
              "\n",
              "        const docLinkHtml = 'Like what you see? Visit the ' +\n",
              "          '<a target=\"_blank\" href=https://colab.research.google.com/notebooks/data_table.ipynb>data table notebook</a>'\n",
              "          + ' to learn more about interactive tables.';\n",
              "        element.innerHTML = '';\n",
              "        dataTable['output_type'] = 'display_data';\n",
              "        await google.colab.output.renderOutput(dataTable, element);\n",
              "        const docLink = document.createElement('div');\n",
              "        docLink.innerHTML = docLinkHtml;\n",
              "        element.appendChild(docLink);\n",
              "      }\n",
              "    </script>\n",
              "  </div>\n",
              "\n",
              "    </div>\n",
              "  </div>\n"
            ]
          },
          "metadata": {},
          "execution_count": 28
        }
      ],
      "source": [
        "#delete the row data from the source df through the index\n",
        "data = data.drop(df_chosen_rows.index)\n",
        "data[(data['Repaired'].isna()) & (data['Model'].isin(temp_list))]"
      ]
    },
    {
      "cell_type": "markdown",
      "metadata": {
        "id": "v-npyBpEym69"
      },
      "source": [
        "**Necessary lines have been removed. Now let's fill in the gaps in the `Repair` feature with the value most often found for a given car model.**"
      ]
    },
    {
      "cell_type": "code",
      "execution_count": 29,
      "metadata": {
        "id": "W5yb82KXym69",
        "outputId": "a0dc8a19-60b1-4267-c796-34dc733e5021",
        "colab": {
          "base_uri": "https://localhost:8080/"
        }
      },
      "outputs": [
        {
          "output_type": "execute_result",
          "data": {
            "text/plain": [
              "Price               0.0\n",
              "VehicleType         0.0\n",
              "RegistrationYear    0.0\n",
              "Gearbox             0.0\n",
              "Power               0.0\n",
              "Model               0.0\n",
              "Kilometer           0.0\n",
              "FuelType            0.0\n",
              "Brand               0.0\n",
              "Repaired            0.0\n",
              "dtype: float64"
            ]
          },
          "metadata": {},
          "execution_count": 29
        }
      ],
      "source": [
        "val = data.groupby(['Model', 'Brand'])['Repaired'].transform(lambda x: x.mode().iat[0])\n",
        "data['Repaired'] = data['Repaired'].fillna(val)\n",
        "data.isna().mean()"
      ]
    },
    {
      "cell_type": "markdown",
      "metadata": {
        "id": "L9mBYazkym69"
      },
      "source": [
        "**Let's replace the gaps in the vehicle power feature, which are expressed by a zero value in the data, with the median value for a given model of a given brand among the data.**"
      ]
    },
    {
      "cell_type": "code",
      "execution_count": 30,
      "metadata": {
        "id": "HAl_mHC6ym69",
        "outputId": "9e0e013d-a9c0-458f-f209-d7870854f947",
        "colab": {
          "base_uri": "https://localhost:8080/",
          "height": 53
        }
      },
      "outputs": [
        {
          "output_type": "execute_result",
          "data": {
            "text/plain": [
              "Empty DataFrame\n",
              "Columns: [Price, VehicleType, RegistrationYear, Gearbox, Power, Model, Kilometer, FuelType, Brand, Repaired]\n",
              "Index: []"
            ],
            "text/html": [
              "\n",
              "  <div id=\"df-079ccd35-d710-459e-8a4d-fb79cd4e79dd\" class=\"colab-df-container\">\n",
              "    <div>\n",
              "<style scoped>\n",
              "    .dataframe tbody tr th:only-of-type {\n",
              "        vertical-align: middle;\n",
              "    }\n",
              "\n",
              "    .dataframe tbody tr th {\n",
              "        vertical-align: top;\n",
              "    }\n",
              "\n",
              "    .dataframe thead th {\n",
              "        text-align: right;\n",
              "    }\n",
              "</style>\n",
              "<table border=\"1\" class=\"dataframe\">\n",
              "  <thead>\n",
              "    <tr style=\"text-align: right;\">\n",
              "      <th></th>\n",
              "      <th>Price</th>\n",
              "      <th>VehicleType</th>\n",
              "      <th>RegistrationYear</th>\n",
              "      <th>Gearbox</th>\n",
              "      <th>Power</th>\n",
              "      <th>Model</th>\n",
              "      <th>Kilometer</th>\n",
              "      <th>FuelType</th>\n",
              "      <th>Brand</th>\n",
              "      <th>Repaired</th>\n",
              "    </tr>\n",
              "  </thead>\n",
              "  <tbody>\n",
              "  </tbody>\n",
              "</table>\n",
              "</div>\n",
              "    <div class=\"colab-df-buttons\">\n",
              "\n",
              "  <div class=\"colab-df-container\">\n",
              "    <button class=\"colab-df-convert\" onclick=\"convertToInteractive('df-079ccd35-d710-459e-8a4d-fb79cd4e79dd')\"\n",
              "            title=\"Convert this dataframe to an interactive table.\"\n",
              "            style=\"display:none;\">\n",
              "\n",
              "  <svg xmlns=\"http://www.w3.org/2000/svg\" height=\"24px\" viewBox=\"0 -960 960 960\">\n",
              "    <path d=\"M120-120v-720h720v720H120Zm60-500h600v-160H180v160Zm220 220h160v-160H400v160Zm0 220h160v-160H400v160ZM180-400h160v-160H180v160Zm440 0h160v-160H620v160ZM180-180h160v-160H180v160Zm440 0h160v-160H620v160Z\"/>\n",
              "  </svg>\n",
              "    </button>\n",
              "\n",
              "  <style>\n",
              "    .colab-df-container {\n",
              "      display:flex;\n",
              "      gap: 12px;\n",
              "    }\n",
              "\n",
              "    .colab-df-convert {\n",
              "      background-color: #E8F0FE;\n",
              "      border: none;\n",
              "      border-radius: 50%;\n",
              "      cursor: pointer;\n",
              "      display: none;\n",
              "      fill: #1967D2;\n",
              "      height: 32px;\n",
              "      padding: 0 0 0 0;\n",
              "      width: 32px;\n",
              "    }\n",
              "\n",
              "    .colab-df-convert:hover {\n",
              "      background-color: #E2EBFA;\n",
              "      box-shadow: 0px 1px 2px rgba(60, 64, 67, 0.3), 0px 1px 3px 1px rgba(60, 64, 67, 0.15);\n",
              "      fill: #174EA6;\n",
              "    }\n",
              "\n",
              "    .colab-df-buttons div {\n",
              "      margin-bottom: 4px;\n",
              "    }\n",
              "\n",
              "    [theme=dark] .colab-df-convert {\n",
              "      background-color: #3B4455;\n",
              "      fill: #D2E3FC;\n",
              "    }\n",
              "\n",
              "    [theme=dark] .colab-df-convert:hover {\n",
              "      background-color: #434B5C;\n",
              "      box-shadow: 0px 1px 3px 1px rgba(0, 0, 0, 0.15);\n",
              "      filter: drop-shadow(0px 1px 2px rgba(0, 0, 0, 0.3));\n",
              "      fill: #FFFFFF;\n",
              "    }\n",
              "  </style>\n",
              "\n",
              "    <script>\n",
              "      const buttonEl =\n",
              "        document.querySelector('#df-079ccd35-d710-459e-8a4d-fb79cd4e79dd button.colab-df-convert');\n",
              "      buttonEl.style.display =\n",
              "        google.colab.kernel.accessAllowed ? 'block' : 'none';\n",
              "\n",
              "      async function convertToInteractive(key) {\n",
              "        const element = document.querySelector('#df-079ccd35-d710-459e-8a4d-fb79cd4e79dd');\n",
              "        const dataTable =\n",
              "          await google.colab.kernel.invokeFunction('convertToInteractive',\n",
              "                                                    [key], {});\n",
              "        if (!dataTable) return;\n",
              "\n",
              "        const docLinkHtml = 'Like what you see? Visit the ' +\n",
              "          '<a target=\"_blank\" href=https://colab.research.google.com/notebooks/data_table.ipynb>data table notebook</a>'\n",
              "          + ' to learn more about interactive tables.';\n",
              "        element.innerHTML = '';\n",
              "        dataTable['output_type'] = 'display_data';\n",
              "        await google.colab.output.renderOutput(dataTable, element);\n",
              "        const docLink = document.createElement('div');\n",
              "        docLink.innerHTML = docLinkHtml;\n",
              "        element.appendChild(docLink);\n",
              "      }\n",
              "    </script>\n",
              "  </div>\n",
              "\n",
              "    </div>\n",
              "  </div>\n"
            ]
          },
          "metadata": {},
          "execution_count": 30
        }
      ],
      "source": [
        "data.loc[data['Power'] == 0, 'Power'] = data.groupby(['Model', 'Brand'])['Power'].transform('median')\n",
        "data[data['Power'] == 0]"
      ]
    },
    {
      "cell_type": "code",
      "execution_count": 31,
      "metadata": {
        "id": "fLXeNcMkym6-",
        "outputId": "58b364ee-9be1-496a-9c95-0291208c47ce",
        "colab": {
          "base_uri": "https://localhost:8080/"
        }
      },
      "outputs": [
        {
          "output_type": "execute_result",
          "data": {
            "text/plain": [
              "Price               0.0\n",
              "VehicleType         0.0\n",
              "RegistrationYear    0.0\n",
              "Gearbox             0.0\n",
              "Power               0.0\n",
              "Model               0.0\n",
              "Kilometer           0.0\n",
              "FuelType            0.0\n",
              "Brand               0.0\n",
              "Repaired            0.0\n",
              "dtype: float64"
            ]
          },
          "metadata": {},
          "execution_count": 31
        }
      ],
      "source": [
        "data.isna().mean()"
      ]
    },
    {
      "cell_type": "markdown",
      "metadata": {
        "id": "M6FYcChqym6-"
      },
      "source": [
        "**There are no more gaps in the data.**"
      ]
    },
    {
      "cell_type": "code",
      "execution_count": 32,
      "metadata": {
        "id": "hPxUR_Pzym6-",
        "outputId": "fb8d8b79-d4a4-4bb8-96e2-22060ca5bb9f",
        "colab": {
          "base_uri": "https://localhost:8080/"
        }
      },
      "outputs": [
        {
          "output_type": "execute_result",
          "data": {
            "text/plain": [
              "0.7289915314262816"
            ]
          },
          "metadata": {},
          "execution_count": 32
        }
      ],
      "source": [
        "data.shape[0] / initial_rows"
      ]
    },
    {
      "cell_type": "markdown",
      "metadata": {
        "id": "x92tiF7-ym6-"
      },
      "source": [
        "**In total, data loss after preprocessing was about 27%.**\n",
        "\n",
        "**Change the type of the `Power` feature to integer.**"
      ]
    },
    {
      "cell_type": "code",
      "execution_count": 33,
      "metadata": {
        "id": "CoeCMeI-ym6-",
        "outputId": "074cbce4-763c-4f2f-9315-ee28b9b0ebcf",
        "colab": {
          "base_uri": "https://localhost:8080/"
        }
      },
      "outputs": [
        {
          "output_type": "stream",
          "name": "stdout",
          "text": [
            "<class 'pandas.core.frame.DataFrame'>\n",
            "Int64Index: 258332 entries, 2 to 354368\n",
            "Data columns (total 10 columns):\n",
            " #   Column            Non-Null Count   Dtype \n",
            "---  ------            --------------   ----- \n",
            " 0   Price             258332 non-null  int64 \n",
            " 1   VehicleType       258332 non-null  object\n",
            " 2   RegistrationYear  258332 non-null  int64 \n",
            " 3   Gearbox           258332 non-null  object\n",
            " 4   Power             258332 non-null  int64 \n",
            " 5   Model             258332 non-null  object\n",
            " 6   Kilometer         258332 non-null  int64 \n",
            " 7   FuelType          258332 non-null  object\n",
            " 8   Brand             258332 non-null  object\n",
            " 9   Repaired          258332 non-null  object\n",
            "dtypes: int64(4), object(6)\n",
            "memory usage: 29.7+ MB\n"
          ]
        }
      ],
      "source": [
        "data['Power'] = data['Power'].astype(int)\n",
        "data.info()"
      ]
    },
    {
      "cell_type": "markdown",
      "metadata": {
        "id": "_aiOzMYUym6-"
      },
      "source": [
        "**To simplify the work of the models later, we will convert the categorical feature `RegistrationYear` into a numeric one - the age of the car or `Age`.**"
      ]
    },
    {
      "cell_type": "code",
      "execution_count": 34,
      "metadata": {
        "id": "C-X0Z4ltym6-",
        "outputId": "5f6d182c-35e6-4135-da4f-25a6d7dd4fcb",
        "colab": {
          "base_uri": "https://localhost:8080/",
          "height": 204
        }
      },
      "outputs": [
        {
          "output_type": "execute_result",
          "data": {
            "text/plain": [
              "   Price  VehicleType Gearbox  Power    Model  Kilometer  FuelType  \\\n",
              "2   9800          suv    auto    163    grand     125000  gasoline   \n",
              "3   1500        small  manual     75     golf     150000    petrol   \n",
              "4   3600        small  manual     69    fabia      90000  gasoline   \n",
              "5    650        sedan  manual    102      3er     150000    petrol   \n",
              "6   2200  convertible  manual    109  2_reihe     150000    petrol   \n",
              "\n",
              "        Brand Repaired  Age  \n",
              "2        jeep       no   19  \n",
              "3  volkswagen       no   22  \n",
              "4       skoda       no   15  \n",
              "5         bmw      yes   28  \n",
              "6     peugeot       no   19  "
            ],
            "text/html": [
              "\n",
              "  <div id=\"df-908fce75-3e2e-4e44-9609-3b91b70f0c26\" class=\"colab-df-container\">\n",
              "    <div>\n",
              "<style scoped>\n",
              "    .dataframe tbody tr th:only-of-type {\n",
              "        vertical-align: middle;\n",
              "    }\n",
              "\n",
              "    .dataframe tbody tr th {\n",
              "        vertical-align: top;\n",
              "    }\n",
              "\n",
              "    .dataframe thead th {\n",
              "        text-align: right;\n",
              "    }\n",
              "</style>\n",
              "<table border=\"1\" class=\"dataframe\">\n",
              "  <thead>\n",
              "    <tr style=\"text-align: right;\">\n",
              "      <th></th>\n",
              "      <th>Price</th>\n",
              "      <th>VehicleType</th>\n",
              "      <th>Gearbox</th>\n",
              "      <th>Power</th>\n",
              "      <th>Model</th>\n",
              "      <th>Kilometer</th>\n",
              "      <th>FuelType</th>\n",
              "      <th>Brand</th>\n",
              "      <th>Repaired</th>\n",
              "      <th>Age</th>\n",
              "    </tr>\n",
              "  </thead>\n",
              "  <tbody>\n",
              "    <tr>\n",
              "      <th>2</th>\n",
              "      <td>9800</td>\n",
              "      <td>suv</td>\n",
              "      <td>auto</td>\n",
              "      <td>163</td>\n",
              "      <td>grand</td>\n",
              "      <td>125000</td>\n",
              "      <td>gasoline</td>\n",
              "      <td>jeep</td>\n",
              "      <td>no</td>\n",
              "      <td>19</td>\n",
              "    </tr>\n",
              "    <tr>\n",
              "      <th>3</th>\n",
              "      <td>1500</td>\n",
              "      <td>small</td>\n",
              "      <td>manual</td>\n",
              "      <td>75</td>\n",
              "      <td>golf</td>\n",
              "      <td>150000</td>\n",
              "      <td>petrol</td>\n",
              "      <td>volkswagen</td>\n",
              "      <td>no</td>\n",
              "      <td>22</td>\n",
              "    </tr>\n",
              "    <tr>\n",
              "      <th>4</th>\n",
              "      <td>3600</td>\n",
              "      <td>small</td>\n",
              "      <td>manual</td>\n",
              "      <td>69</td>\n",
              "      <td>fabia</td>\n",
              "      <td>90000</td>\n",
              "      <td>gasoline</td>\n",
              "      <td>skoda</td>\n",
              "      <td>no</td>\n",
              "      <td>15</td>\n",
              "    </tr>\n",
              "    <tr>\n",
              "      <th>5</th>\n",
              "      <td>650</td>\n",
              "      <td>sedan</td>\n",
              "      <td>manual</td>\n",
              "      <td>102</td>\n",
              "      <td>3er</td>\n",
              "      <td>150000</td>\n",
              "      <td>petrol</td>\n",
              "      <td>bmw</td>\n",
              "      <td>yes</td>\n",
              "      <td>28</td>\n",
              "    </tr>\n",
              "    <tr>\n",
              "      <th>6</th>\n",
              "      <td>2200</td>\n",
              "      <td>convertible</td>\n",
              "      <td>manual</td>\n",
              "      <td>109</td>\n",
              "      <td>2_reihe</td>\n",
              "      <td>150000</td>\n",
              "      <td>petrol</td>\n",
              "      <td>peugeot</td>\n",
              "      <td>no</td>\n",
              "      <td>19</td>\n",
              "    </tr>\n",
              "  </tbody>\n",
              "</table>\n",
              "</div>\n",
              "    <div class=\"colab-df-buttons\">\n",
              "\n",
              "  <div class=\"colab-df-container\">\n",
              "    <button class=\"colab-df-convert\" onclick=\"convertToInteractive('df-908fce75-3e2e-4e44-9609-3b91b70f0c26')\"\n",
              "            title=\"Convert this dataframe to an interactive table.\"\n",
              "            style=\"display:none;\">\n",
              "\n",
              "  <svg xmlns=\"http://www.w3.org/2000/svg\" height=\"24px\" viewBox=\"0 -960 960 960\">\n",
              "    <path d=\"M120-120v-720h720v720H120Zm60-500h600v-160H180v160Zm220 220h160v-160H400v160Zm0 220h160v-160H400v160ZM180-400h160v-160H180v160Zm440 0h160v-160H620v160ZM180-180h160v-160H180v160Zm440 0h160v-160H620v160Z\"/>\n",
              "  </svg>\n",
              "    </button>\n",
              "\n",
              "  <style>\n",
              "    .colab-df-container {\n",
              "      display:flex;\n",
              "      gap: 12px;\n",
              "    }\n",
              "\n",
              "    .colab-df-convert {\n",
              "      background-color: #E8F0FE;\n",
              "      border: none;\n",
              "      border-radius: 50%;\n",
              "      cursor: pointer;\n",
              "      display: none;\n",
              "      fill: #1967D2;\n",
              "      height: 32px;\n",
              "      padding: 0 0 0 0;\n",
              "      width: 32px;\n",
              "    }\n",
              "\n",
              "    .colab-df-convert:hover {\n",
              "      background-color: #E2EBFA;\n",
              "      box-shadow: 0px 1px 2px rgba(60, 64, 67, 0.3), 0px 1px 3px 1px rgba(60, 64, 67, 0.15);\n",
              "      fill: #174EA6;\n",
              "    }\n",
              "\n",
              "    .colab-df-buttons div {\n",
              "      margin-bottom: 4px;\n",
              "    }\n",
              "\n",
              "    [theme=dark] .colab-df-convert {\n",
              "      background-color: #3B4455;\n",
              "      fill: #D2E3FC;\n",
              "    }\n",
              "\n",
              "    [theme=dark] .colab-df-convert:hover {\n",
              "      background-color: #434B5C;\n",
              "      box-shadow: 0px 1px 3px 1px rgba(0, 0, 0, 0.15);\n",
              "      filter: drop-shadow(0px 1px 2px rgba(0, 0, 0, 0.3));\n",
              "      fill: #FFFFFF;\n",
              "    }\n",
              "  </style>\n",
              "\n",
              "    <script>\n",
              "      const buttonEl =\n",
              "        document.querySelector('#df-908fce75-3e2e-4e44-9609-3b91b70f0c26 button.colab-df-convert');\n",
              "      buttonEl.style.display =\n",
              "        google.colab.kernel.accessAllowed ? 'block' : 'none';\n",
              "\n",
              "      async function convertToInteractive(key) {\n",
              "        const element = document.querySelector('#df-908fce75-3e2e-4e44-9609-3b91b70f0c26');\n",
              "        const dataTable =\n",
              "          await google.colab.kernel.invokeFunction('convertToInteractive',\n",
              "                                                    [key], {});\n",
              "        if (!dataTable) return;\n",
              "\n",
              "        const docLinkHtml = 'Like what you see? Visit the ' +\n",
              "          '<a target=\"_blank\" href=https://colab.research.google.com/notebooks/data_table.ipynb>data table notebook</a>'\n",
              "          + ' to learn more about interactive tables.';\n",
              "        element.innerHTML = '';\n",
              "        dataTable['output_type'] = 'display_data';\n",
              "        await google.colab.output.renderOutput(dataTable, element);\n",
              "        const docLink = document.createElement('div');\n",
              "        docLink.innerHTML = docLinkHtml;\n",
              "        element.appendChild(docLink);\n",
              "      }\n",
              "    </script>\n",
              "  </div>\n",
              "\n",
              "\n",
              "<div id=\"df-d33fd6a1-da1d-4ffd-ab1d-ec243ea28e97\">\n",
              "  <button class=\"colab-df-quickchart\" onclick=\"quickchart('df-d33fd6a1-da1d-4ffd-ab1d-ec243ea28e97')\"\n",
              "            title=\"Suggest charts.\"\n",
              "            style=\"display:none;\">\n",
              "\n",
              "<svg xmlns=\"http://www.w3.org/2000/svg\" height=\"24px\"viewBox=\"0 0 24 24\"\n",
              "     width=\"24px\">\n",
              "    <g>\n",
              "        <path d=\"M19 3H5c-1.1 0-2 .9-2 2v14c0 1.1.9 2 2 2h14c1.1 0 2-.9 2-2V5c0-1.1-.9-2-2-2zM9 17H7v-7h2v7zm4 0h-2V7h2v10zm4 0h-2v-4h2v4z\"/>\n",
              "    </g>\n",
              "</svg>\n",
              "  </button>\n",
              "\n",
              "<style>\n",
              "  .colab-df-quickchart {\n",
              "      --bg-color: #E8F0FE;\n",
              "      --fill-color: #1967D2;\n",
              "      --hover-bg-color: #E2EBFA;\n",
              "      --hover-fill-color: #174EA6;\n",
              "      --disabled-fill-color: #AAA;\n",
              "      --disabled-bg-color: #DDD;\n",
              "  }\n",
              "\n",
              "  [theme=dark] .colab-df-quickchart {\n",
              "      --bg-color: #3B4455;\n",
              "      --fill-color: #D2E3FC;\n",
              "      --hover-bg-color: #434B5C;\n",
              "      --hover-fill-color: #FFFFFF;\n",
              "      --disabled-bg-color: #3B4455;\n",
              "      --disabled-fill-color: #666;\n",
              "  }\n",
              "\n",
              "  .colab-df-quickchart {\n",
              "    background-color: var(--bg-color);\n",
              "    border: none;\n",
              "    border-radius: 50%;\n",
              "    cursor: pointer;\n",
              "    display: none;\n",
              "    fill: var(--fill-color);\n",
              "    height: 32px;\n",
              "    padding: 0;\n",
              "    width: 32px;\n",
              "  }\n",
              "\n",
              "  .colab-df-quickchart:hover {\n",
              "    background-color: var(--hover-bg-color);\n",
              "    box-shadow: 0 1px 2px rgba(60, 64, 67, 0.3), 0 1px 3px 1px rgba(60, 64, 67, 0.15);\n",
              "    fill: var(--button-hover-fill-color);\n",
              "  }\n",
              "\n",
              "  .colab-df-quickchart-complete:disabled,\n",
              "  .colab-df-quickchart-complete:disabled:hover {\n",
              "    background-color: var(--disabled-bg-color);\n",
              "    fill: var(--disabled-fill-color);\n",
              "    box-shadow: none;\n",
              "  }\n",
              "\n",
              "  .colab-df-spinner {\n",
              "    border: 2px solid var(--fill-color);\n",
              "    border-color: transparent;\n",
              "    border-bottom-color: var(--fill-color);\n",
              "    animation:\n",
              "      spin 1s steps(1) infinite;\n",
              "  }\n",
              "\n",
              "  @keyframes spin {\n",
              "    0% {\n",
              "      border-color: transparent;\n",
              "      border-bottom-color: var(--fill-color);\n",
              "      border-left-color: var(--fill-color);\n",
              "    }\n",
              "    20% {\n",
              "      border-color: transparent;\n",
              "      border-left-color: var(--fill-color);\n",
              "      border-top-color: var(--fill-color);\n",
              "    }\n",
              "    30% {\n",
              "      border-color: transparent;\n",
              "      border-left-color: var(--fill-color);\n",
              "      border-top-color: var(--fill-color);\n",
              "      border-right-color: var(--fill-color);\n",
              "    }\n",
              "    40% {\n",
              "      border-color: transparent;\n",
              "      border-right-color: var(--fill-color);\n",
              "      border-top-color: var(--fill-color);\n",
              "    }\n",
              "    60% {\n",
              "      border-color: transparent;\n",
              "      border-right-color: var(--fill-color);\n",
              "    }\n",
              "    80% {\n",
              "      border-color: transparent;\n",
              "      border-right-color: var(--fill-color);\n",
              "      border-bottom-color: var(--fill-color);\n",
              "    }\n",
              "    90% {\n",
              "      border-color: transparent;\n",
              "      border-bottom-color: var(--fill-color);\n",
              "    }\n",
              "  }\n",
              "</style>\n",
              "\n",
              "  <script>\n",
              "    async function quickchart(key) {\n",
              "      const quickchartButtonEl =\n",
              "        document.querySelector('#' + key + ' button');\n",
              "      quickchartButtonEl.disabled = true;  // To prevent multiple clicks.\n",
              "      quickchartButtonEl.classList.add('colab-df-spinner');\n",
              "      try {\n",
              "        const charts = await google.colab.kernel.invokeFunction(\n",
              "            'suggestCharts', [key], {});\n",
              "      } catch (error) {\n",
              "        console.error('Error during call to suggestCharts:', error);\n",
              "      }\n",
              "      quickchartButtonEl.classList.remove('colab-df-spinner');\n",
              "      quickchartButtonEl.classList.add('colab-df-quickchart-complete');\n",
              "    }\n",
              "    (() => {\n",
              "      let quickchartButtonEl =\n",
              "        document.querySelector('#df-d33fd6a1-da1d-4ffd-ab1d-ec243ea28e97 button');\n",
              "      quickchartButtonEl.style.display =\n",
              "        google.colab.kernel.accessAllowed ? 'block' : 'none';\n",
              "    })();\n",
              "  </script>\n",
              "</div>\n",
              "    </div>\n",
              "  </div>\n"
            ]
          },
          "metadata": {},
          "execution_count": 34
        }
      ],
      "source": [
        "data['Age'] = datetime.now().year - data['RegistrationYear']\n",
        "data = data.drop(['RegistrationYear'], axis = 1)\n",
        "data.head()"
      ]
    },
    {
      "cell_type": "markdown",
      "metadata": {
        "id": "Bagtw54Rym6_"
      },
      "source": [
        "**After preprocessing, we will check the correlation of features.**"
      ]
    },
    {
      "cell_type": "code",
      "execution_count": 36,
      "metadata": {
        "id": "Hq04g69lym6_",
        "outputId": "1de945b7-7e0f-4c8c-b6f4-a7369e6caaf8",
        "colab": {
          "base_uri": "https://localhost:8080/",
          "height": 173
        }
      },
      "outputs": [
        {
          "output_type": "execute_result",
          "data": {
            "text/plain": [
              "              Price     Power  Kilometer       Age\n",
              "Price      1.000000  0.127155  -0.372874 -0.415412\n",
              "Power      0.127155  1.000000   0.034756 -0.013039\n",
              "Kilometer -0.372874  0.034756   1.000000  0.259965\n",
              "Age       -0.415412 -0.013039   0.259965  1.000000"
            ],
            "text/html": [
              "\n",
              "  <div id=\"df-a3d26141-5720-4bd5-a6da-c87a8a5d8aad\" class=\"colab-df-container\">\n",
              "    <div>\n",
              "<style scoped>\n",
              "    .dataframe tbody tr th:only-of-type {\n",
              "        vertical-align: middle;\n",
              "    }\n",
              "\n",
              "    .dataframe tbody tr th {\n",
              "        vertical-align: top;\n",
              "    }\n",
              "\n",
              "    .dataframe thead th {\n",
              "        text-align: right;\n",
              "    }\n",
              "</style>\n",
              "<table border=\"1\" class=\"dataframe\">\n",
              "  <thead>\n",
              "    <tr style=\"text-align: right;\">\n",
              "      <th></th>\n",
              "      <th>Price</th>\n",
              "      <th>Power</th>\n",
              "      <th>Kilometer</th>\n",
              "      <th>Age</th>\n",
              "    </tr>\n",
              "  </thead>\n",
              "  <tbody>\n",
              "    <tr>\n",
              "      <th>Price</th>\n",
              "      <td>1.000000</td>\n",
              "      <td>0.127155</td>\n",
              "      <td>-0.372874</td>\n",
              "      <td>-0.415412</td>\n",
              "    </tr>\n",
              "    <tr>\n",
              "      <th>Power</th>\n",
              "      <td>0.127155</td>\n",
              "      <td>1.000000</td>\n",
              "      <td>0.034756</td>\n",
              "      <td>-0.013039</td>\n",
              "    </tr>\n",
              "    <tr>\n",
              "      <th>Kilometer</th>\n",
              "      <td>-0.372874</td>\n",
              "      <td>0.034756</td>\n",
              "      <td>1.000000</td>\n",
              "      <td>0.259965</td>\n",
              "    </tr>\n",
              "    <tr>\n",
              "      <th>Age</th>\n",
              "      <td>-0.415412</td>\n",
              "      <td>-0.013039</td>\n",
              "      <td>0.259965</td>\n",
              "      <td>1.000000</td>\n",
              "    </tr>\n",
              "  </tbody>\n",
              "</table>\n",
              "</div>\n",
              "    <div class=\"colab-df-buttons\">\n",
              "\n",
              "  <div class=\"colab-df-container\">\n",
              "    <button class=\"colab-df-convert\" onclick=\"convertToInteractive('df-a3d26141-5720-4bd5-a6da-c87a8a5d8aad')\"\n",
              "            title=\"Convert this dataframe to an interactive table.\"\n",
              "            style=\"display:none;\">\n",
              "\n",
              "  <svg xmlns=\"http://www.w3.org/2000/svg\" height=\"24px\" viewBox=\"0 -960 960 960\">\n",
              "    <path d=\"M120-120v-720h720v720H120Zm60-500h600v-160H180v160Zm220 220h160v-160H400v160Zm0 220h160v-160H400v160ZM180-400h160v-160H180v160Zm440 0h160v-160H620v160ZM180-180h160v-160H180v160Zm440 0h160v-160H620v160Z\"/>\n",
              "  </svg>\n",
              "    </button>\n",
              "\n",
              "  <style>\n",
              "    .colab-df-container {\n",
              "      display:flex;\n",
              "      gap: 12px;\n",
              "    }\n",
              "\n",
              "    .colab-df-convert {\n",
              "      background-color: #E8F0FE;\n",
              "      border: none;\n",
              "      border-radius: 50%;\n",
              "      cursor: pointer;\n",
              "      display: none;\n",
              "      fill: #1967D2;\n",
              "      height: 32px;\n",
              "      padding: 0 0 0 0;\n",
              "      width: 32px;\n",
              "    }\n",
              "\n",
              "    .colab-df-convert:hover {\n",
              "      background-color: #E2EBFA;\n",
              "      box-shadow: 0px 1px 2px rgba(60, 64, 67, 0.3), 0px 1px 3px 1px rgba(60, 64, 67, 0.15);\n",
              "      fill: #174EA6;\n",
              "    }\n",
              "\n",
              "    .colab-df-buttons div {\n",
              "      margin-bottom: 4px;\n",
              "    }\n",
              "\n",
              "    [theme=dark] .colab-df-convert {\n",
              "      background-color: #3B4455;\n",
              "      fill: #D2E3FC;\n",
              "    }\n",
              "\n",
              "    [theme=dark] .colab-df-convert:hover {\n",
              "      background-color: #434B5C;\n",
              "      box-shadow: 0px 1px 3px 1px rgba(0, 0, 0, 0.15);\n",
              "      filter: drop-shadow(0px 1px 2px rgba(0, 0, 0, 0.3));\n",
              "      fill: #FFFFFF;\n",
              "    }\n",
              "  </style>\n",
              "\n",
              "    <script>\n",
              "      const buttonEl =\n",
              "        document.querySelector('#df-a3d26141-5720-4bd5-a6da-c87a8a5d8aad button.colab-df-convert');\n",
              "      buttonEl.style.display =\n",
              "        google.colab.kernel.accessAllowed ? 'block' : 'none';\n",
              "\n",
              "      async function convertToInteractive(key) {\n",
              "        const element = document.querySelector('#df-a3d26141-5720-4bd5-a6da-c87a8a5d8aad');\n",
              "        const dataTable =\n",
              "          await google.colab.kernel.invokeFunction('convertToInteractive',\n",
              "                                                    [key], {});\n",
              "        if (!dataTable) return;\n",
              "\n",
              "        const docLinkHtml = 'Like what you see? Visit the ' +\n",
              "          '<a target=\"_blank\" href=https://colab.research.google.com/notebooks/data_table.ipynb>data table notebook</a>'\n",
              "          + ' to learn more about interactive tables.';\n",
              "        element.innerHTML = '';\n",
              "        dataTable['output_type'] = 'display_data';\n",
              "        await google.colab.output.renderOutput(dataTable, element);\n",
              "        const docLink = document.createElement('div');\n",
              "        docLink.innerHTML = docLinkHtml;\n",
              "        element.appendChild(docLink);\n",
              "      }\n",
              "    </script>\n",
              "  </div>\n",
              "\n",
              "\n",
              "<div id=\"df-f0f4c8ab-6fd0-4c29-949d-bd3198fdd1e7\">\n",
              "  <button class=\"colab-df-quickchart\" onclick=\"quickchart('df-f0f4c8ab-6fd0-4c29-949d-bd3198fdd1e7')\"\n",
              "            title=\"Suggest charts.\"\n",
              "            style=\"display:none;\">\n",
              "\n",
              "<svg xmlns=\"http://www.w3.org/2000/svg\" height=\"24px\"viewBox=\"0 0 24 24\"\n",
              "     width=\"24px\">\n",
              "    <g>\n",
              "        <path d=\"M19 3H5c-1.1 0-2 .9-2 2v14c0 1.1.9 2 2 2h14c1.1 0 2-.9 2-2V5c0-1.1-.9-2-2-2zM9 17H7v-7h2v7zm4 0h-2V7h2v10zm4 0h-2v-4h2v4z\"/>\n",
              "    </g>\n",
              "</svg>\n",
              "  </button>\n",
              "\n",
              "<style>\n",
              "  .colab-df-quickchart {\n",
              "      --bg-color: #E8F0FE;\n",
              "      --fill-color: #1967D2;\n",
              "      --hover-bg-color: #E2EBFA;\n",
              "      --hover-fill-color: #174EA6;\n",
              "      --disabled-fill-color: #AAA;\n",
              "      --disabled-bg-color: #DDD;\n",
              "  }\n",
              "\n",
              "  [theme=dark] .colab-df-quickchart {\n",
              "      --bg-color: #3B4455;\n",
              "      --fill-color: #D2E3FC;\n",
              "      --hover-bg-color: #434B5C;\n",
              "      --hover-fill-color: #FFFFFF;\n",
              "      --disabled-bg-color: #3B4455;\n",
              "      --disabled-fill-color: #666;\n",
              "  }\n",
              "\n",
              "  .colab-df-quickchart {\n",
              "    background-color: var(--bg-color);\n",
              "    border: none;\n",
              "    border-radius: 50%;\n",
              "    cursor: pointer;\n",
              "    display: none;\n",
              "    fill: var(--fill-color);\n",
              "    height: 32px;\n",
              "    padding: 0;\n",
              "    width: 32px;\n",
              "  }\n",
              "\n",
              "  .colab-df-quickchart:hover {\n",
              "    background-color: var(--hover-bg-color);\n",
              "    box-shadow: 0 1px 2px rgba(60, 64, 67, 0.3), 0 1px 3px 1px rgba(60, 64, 67, 0.15);\n",
              "    fill: var(--button-hover-fill-color);\n",
              "  }\n",
              "\n",
              "  .colab-df-quickchart-complete:disabled,\n",
              "  .colab-df-quickchart-complete:disabled:hover {\n",
              "    background-color: var(--disabled-bg-color);\n",
              "    fill: var(--disabled-fill-color);\n",
              "    box-shadow: none;\n",
              "  }\n",
              "\n",
              "  .colab-df-spinner {\n",
              "    border: 2px solid var(--fill-color);\n",
              "    border-color: transparent;\n",
              "    border-bottom-color: var(--fill-color);\n",
              "    animation:\n",
              "      spin 1s steps(1) infinite;\n",
              "  }\n",
              "\n",
              "  @keyframes spin {\n",
              "    0% {\n",
              "      border-color: transparent;\n",
              "      border-bottom-color: var(--fill-color);\n",
              "      border-left-color: var(--fill-color);\n",
              "    }\n",
              "    20% {\n",
              "      border-color: transparent;\n",
              "      border-left-color: var(--fill-color);\n",
              "      border-top-color: var(--fill-color);\n",
              "    }\n",
              "    30% {\n",
              "      border-color: transparent;\n",
              "      border-left-color: var(--fill-color);\n",
              "      border-top-color: var(--fill-color);\n",
              "      border-right-color: var(--fill-color);\n",
              "    }\n",
              "    40% {\n",
              "      border-color: transparent;\n",
              "      border-right-color: var(--fill-color);\n",
              "      border-top-color: var(--fill-color);\n",
              "    }\n",
              "    60% {\n",
              "      border-color: transparent;\n",
              "      border-right-color: var(--fill-color);\n",
              "    }\n",
              "    80% {\n",
              "      border-color: transparent;\n",
              "      border-right-color: var(--fill-color);\n",
              "      border-bottom-color: var(--fill-color);\n",
              "    }\n",
              "    90% {\n",
              "      border-color: transparent;\n",
              "      border-bottom-color: var(--fill-color);\n",
              "    }\n",
              "  }\n",
              "</style>\n",
              "\n",
              "  <script>\n",
              "    async function quickchart(key) {\n",
              "      const quickchartButtonEl =\n",
              "        document.querySelector('#' + key + ' button');\n",
              "      quickchartButtonEl.disabled = true;  // To prevent multiple clicks.\n",
              "      quickchartButtonEl.classList.add('colab-df-spinner');\n",
              "      try {\n",
              "        const charts = await google.colab.kernel.invokeFunction(\n",
              "            'suggestCharts', [key], {});\n",
              "      } catch (error) {\n",
              "        console.error('Error during call to suggestCharts:', error);\n",
              "      }\n",
              "      quickchartButtonEl.classList.remove('colab-df-spinner');\n",
              "      quickchartButtonEl.classList.add('colab-df-quickchart-complete');\n",
              "    }\n",
              "    (() => {\n",
              "      let quickchartButtonEl =\n",
              "        document.querySelector('#df-f0f4c8ab-6fd0-4c29-949d-bd3198fdd1e7 button');\n",
              "      quickchartButtonEl.style.display =\n",
              "        google.colab.kernel.accessAllowed ? 'block' : 'none';\n",
              "    })();\n",
              "  </script>\n",
              "</div>\n",
              "    </div>\n",
              "  </div>\n"
            ]
          },
          "metadata": {},
          "execution_count": 36
        }
      ],
      "source": [
        "data.corr(numeric_only=True)"
      ]
    },
    {
      "cell_type": "markdown",
      "metadata": {
        "id": "leO25KPgym6_"
      },
      "source": [
        "**We see a slight inverse correlation between the target feature and the age of the car. It would be even higher if it were possible to obtain more correct data from a logical point of view, but as we remember, above we found that the cost of cars with a fairly new year of manufacture was underestimated, which does not correspond to reality.**"
      ]
    },
    {
      "cell_type": "markdown",
      "metadata": {
        "id": "Csr8sz_Hym6_"
      },
      "source": [
        "## Model training"
      ]
    },
    {
      "cell_type": "markdown",
      "metadata": {
        "id": "6KWokQQKym6_"
      },
      "source": [
        "### Dividing data into samples"
      ]
    },
    {
      "cell_type": "markdown",
      "metadata": {
        "id": "_2hxREa4ym6_"
      },
      "source": [
        "**Our initial dataset is divided into samples - training and testing. We will not create a separate validation sample, because Next we will use GridSearchCV with cross-validation.**\n",
        "\n",
        "**Because Our data contains categorical features, then for simple models to further work with them, it is necessary to encode them. We will encode categorical features using the OneHotEncoder method for linear regression and the OrdinalEncoder method for decision tree regression. For LightGBM, features do not need to be encoded separately.**"
      ]
    },
    {
      "cell_type": "code",
      "execution_count": 38,
      "metadata": {
        "id": "JIDiSgP-ym6_",
        "outputId": "b53a0128-5a7d-4314-8b95-713882b66125",
        "colab": {
          "base_uri": "https://localhost:8080/"
        }
      },
      "outputs": [
        {
          "output_type": "stream",
          "name": "stdout",
          "text": [
            "(193749, 310)\n",
            "(64583, 310)\n",
            "(193749, 9)\n",
            "(64583, 9)\n",
            "(193749, 9)\n",
            "(64583, 9)\n"
          ]
        }
      ],
      "source": [
        "#divide the source dataset into features and target feature\n",
        "target = data['Price']\n",
        "features = data.drop('Price', axis=1)\n",
        "\n",
        "#split the features and target features into training and test samples in a ratio of 75/25\n",
        "features_train, features_test, target_train, target_test = train_test_split(\n",
        "     features, target, test_size=0.25, random_state=1)\n",
        "\n",
        "#highlight lists of numerical features and categorical features\n",
        "num_cols = ['Power', 'Kilometer', 'Age']\n",
        "cat_cols = ['VehicleType', 'Gearbox', 'Model', 'FuelType', 'Brand', 'Repaired']\n",
        "\n",
        "\n",
        "features_train_linreg = features_train.copy()\n",
        "features_test_linreg = features_test.copy()\n",
        "ct_linreg = ColumnTransformer([\n",
        "    (\"scaling\", StandardScaler(), num_cols),\n",
        "    (\"onehot\", OneHotEncoder(sparse_output=False, handle_unknown='ignore'), cat_cols)])\n",
        "ct_linreg.fit(features_train_linreg)\n",
        "features_train_linreg = ct_linreg.transform(features_train_linreg)\n",
        "features_test_linreg = ct_linreg.transform(features_test_linreg)\n",
        "\n",
        "features_train_tree = features_train.copy()\n",
        "features_test_tree = features_test.copy()\n",
        "ct_tree = ColumnTransformer([\n",
        "    (\"scaling\", StandardScaler(), num_cols),\n",
        "    (\"onehot\", OrdinalEncoder(handle_unknown='use_encoded_value', unknown_value=np.nan), cat_cols)])\n",
        "ct_tree.fit(features_train_tree)\n",
        "features_train_tree = ct_tree.transform(features_train_tree)\n",
        "features_test_tree = ct_tree.transform(features_test_tree)\n",
        "\n",
        "features_train_lgb = features_train.copy()\n",
        "features_test_lgb = features_test.copy()\n",
        "features_train_lgb[cat_cols] = features_train_lgb[cat_cols].astype('category')\n",
        "features_test_lgb[cat_cols] = features_test_lgb[cat_cols].astype('category')\n",
        "\n",
        "print(features_train_linreg.shape)\n",
        "print(features_test_linreg.shape)\n",
        "\n",
        "print(features_train_tree.shape)\n",
        "print(features_test_tree.shape)\n",
        "\n",
        "print(features_train_lgb.shape)\n",
        "print(features_test_lgb.shape)"
      ]
    },
    {
      "cell_type": "markdown",
      "metadata": {
        "id": "DvEsgs8wym7A"
      },
      "source": [
        "**For the current task, we will select three models for comparison - linear regression, decision tree regression and LightGBM. To find a set of hyperparameters that give the best result of the RMSE metric, we will use the GridSearchCV tool, which also uses cross-validation in its mechanism.**"
      ]
    },
    {
      "cell_type": "markdown",
      "metadata": {
        "id": "AVcdmBRdym7A"
      },
      "source": [
        "### Linear regression"
      ]
    },
    {
      "cell_type": "code",
      "execution_count": 39,
      "metadata": {
        "id": "sgoEEyNmym7A",
        "outputId": "d9010054-3159-4c6a-f8cc-01bd5e44e424",
        "colab": {
          "base_uri": "https://localhost:8080/"
        }
      },
      "outputs": [
        {
          "output_type": "stream",
          "name": "stdout",
          "text": [
            "RMSE for LinReg on training set = 26482508149.846\n",
            "LinReg training time on training set = 11\n",
            "LinReg prediction time on training set = 0\n"
          ]
        }
      ],
      "source": [
        "model_linreg = LinearRegression()\n",
        "cv_linreg = cross_validate(\n",
        "                model_linreg,\n",
        "                features_train_linreg,\n",
        "                target_train,\n",
        "                scoring='neg_root_mean_squared_error',\n",
        "                cv=3,\n",
        "                n_jobs=-1)\n",
        "lin_reg_rmse_train = round(-1*max(cv_linreg['test_score']), 3)\n",
        "lin_reg_fit_time_train = round(cv_linreg['fit_time'].mean())\n",
        "lin_reg_score_time_train = round(cv_linreg['score_time'].mean())\n",
        "print('RMSE for LinReg on training set =', lin_reg_rmse_train)\n",
        "print('LinReg training time on training set =', lin_reg_fit_time_train)\n",
        "print('LinReg prediction time on training set =', lin_reg_score_time_train)"
      ]
    },
    {
      "cell_type": "markdown",
      "metadata": {
        "id": "Xasvd7jIym7A"
      },
      "source": [
        "### Decision tree regression"
      ]
    },
    {
      "cell_type": "code",
      "execution_count": 40,
      "metadata": {
        "id": "AGHHwq-Bym7A",
        "outputId": "22f2ff61-7809-461b-aa7e-9c712b4ee72a",
        "colab": {
          "base_uri": "https://localhost:8080/"
        }
      },
      "outputs": [
        {
          "output_type": "stream",
          "name": "stdout",
          "text": [
            "Best RMSE metric value for the DecTreeReg model on the training set = 2105.16\n",
            "Training time for the DecTreeReg model with the best score on the training set = 0.51\n",
            "Prediction time DecTreeReg with the best score on the training set = 0.01\n"
          ]
        }
      ],
      "source": [
        "model_tree = DecisionTreeRegressor(random_state=1)\n",
        "\n",
        "param_tree = {'max_depth':range(1,10,2),\n",
        "              'criterion':['friedman_mse'],\n",
        "              'min_samples_split':range(2,10,2),\n",
        "              'max_depth': range(1,10,2)}\n",
        "gridsearch_tree = GridSearchCV(\n",
        "    estimator=model_tree,\n",
        "    param_grid=param_tree,\n",
        "    scoring='neg_root_mean_squared_error',\n",
        "    cv=3,\n",
        "    n_jobs=-1)\n",
        "gridsearch_tree.fit(features_train_tree, target_train)\n",
        "#metric in gridsearchCV - negative RMSE value, to get RMSE you need to multiply by -1\n",
        "\n",
        "tree_rmse_train = round((-1 * gridsearch_tree.best_score_), 3)\n",
        "tree_fit_time_train = round(\n",
        "    pd.DataFrame(gridsearch_tree.cv_results_).iloc[gridsearch_tree.best_index_]['mean_fit_time'], 3)\n",
        "tree_score_time_train = round(\n",
        "    pd.DataFrame(gridsearch_tree.cv_results_).iloc[gridsearch_tree.best_index_]['mean_score_time'], 3)\n",
        "print('Best RMSE metric value for the DecTreeReg model on the training set =', tree_rmse_train)\n",
        "print('Training time for the DecTreeReg model with the best score on the training set =', tree_fit_time_train)\n",
        "print('Prediction time DecTreeReg with the best score on the training set =', tree_score_time_train)"
      ]
    },
    {
      "cell_type": "markdown",
      "metadata": {
        "id": "SUZpqdVLym7A"
      },
      "source": [
        "### LightGBM Gradient Boosting Model"
      ]
    },
    {
      "cell_type": "code",
      "execution_count": 41,
      "metadata": {
        "id": "bBImJ5G9ym7A",
        "outputId": "8f4fec8c-f5d8-4834-9a15-e149b169932f",
        "colab": {
          "base_uri": "https://localhost:8080/"
        }
      },
      "outputs": [
        {
          "output_type": "stream",
          "name": "stdout",
          "text": [
            "Best RMSE metric value for LGBM model on training set = 1664.048\n",
            "LGBM model training time with the best score on the training set = 1.891\n",
            "LGBM prediction time with the best score on the training set = 0.354\n"
          ]
        }
      ],
      "source": [
        "model_lgb = lgb.LGBMRegressor(num_threads=4, random_state=1)\n",
        "\n",
        "param_lgb = {'learning_rate': [0.3, 0.1],\n",
        "             'n_estimators': [50, 100],\n",
        "             'verbose': [-1]}\n",
        "gridsearch_lgb = GridSearchCV(\n",
        "    estimator=model_lgb,\n",
        "    param_grid=param_lgb,\n",
        "    scoring='neg_root_mean_squared_error',\n",
        "    cv=3,\n",
        "    verbose=-1)\n",
        "gridsearch_lgb.fit(features_train_lgb, target_train)\n",
        "#metric in gridsearchCV - negative RMSE value, to get RMSE you need to multiply by -1\n",
        "\n",
        "lgb_rmse_train = round(-1 * gridsearch_lgb.best_score_, 3)\n",
        "lgb_fit_time_train = round(\n",
        "    pd.DataFrame(gridsearch_lgb.cv_results_).iloc[gridsearch_lgb.best_index_]['mean_fit_time'], 3)\n",
        "lgb_score_time_train = round(\n",
        "    pd.DataFrame(gridsearch_lgb.cv_results_).iloc[gridsearch_lgb.best_index_]['mean_score_time'], 3)\n",
        "print('Best RMSE metric value for LGBM model on training set =', lgb_rmse_train)\n",
        "print('LGBM model training time with the best score on the training set =', lgb_fit_time_train)\n",
        "print('LGBM prediction time with the best score on the training set =', lgb_score_time_train)"
      ]
    },
    {
      "cell_type": "markdown",
      "metadata": {
        "id": "D2pdxYEtym7B"
      },
      "source": [
        "## Model analysis"
      ]
    },
    {
      "cell_type": "code",
      "execution_count": 42,
      "metadata": {
        "id": "CMGPQubpym7B",
        "outputId": "3cc43ed5-0f6f-414f-808e-6759ca71545c",
        "colab": {
          "base_uri": "https://localhost:8080/",
          "height": 142
        }
      },
      "outputs": [
        {
          "output_type": "execute_result",
          "data": {
            "text/plain": [
              "                 lin_reg  dec_tree_reg  lgbm_reg\n",
              "fit_time    1.100000e+01          0.51     1.891\n",
              "score_time  0.000000e+00          0.01     0.354\n",
              "train_rmse  2.648251e+10       2105.16  1664.048"
            ],
            "text/html": [
              "\n",
              "  <div id=\"df-9ddc64f1-15dc-464f-af08-e3b1c1e126e6\" class=\"colab-df-container\">\n",
              "    <div>\n",
              "<style scoped>\n",
              "    .dataframe tbody tr th:only-of-type {\n",
              "        vertical-align: middle;\n",
              "    }\n",
              "\n",
              "    .dataframe tbody tr th {\n",
              "        vertical-align: top;\n",
              "    }\n",
              "\n",
              "    .dataframe thead th {\n",
              "        text-align: right;\n",
              "    }\n",
              "</style>\n",
              "<table border=\"1\" class=\"dataframe\">\n",
              "  <thead>\n",
              "    <tr style=\"text-align: right;\">\n",
              "      <th></th>\n",
              "      <th>lin_reg</th>\n",
              "      <th>dec_tree_reg</th>\n",
              "      <th>lgbm_reg</th>\n",
              "    </tr>\n",
              "  </thead>\n",
              "  <tbody>\n",
              "    <tr>\n",
              "      <th>fit_time</th>\n",
              "      <td>1.100000e+01</td>\n",
              "      <td>0.51</td>\n",
              "      <td>1.891</td>\n",
              "    </tr>\n",
              "    <tr>\n",
              "      <th>score_time</th>\n",
              "      <td>0.000000e+00</td>\n",
              "      <td>0.01</td>\n",
              "      <td>0.354</td>\n",
              "    </tr>\n",
              "    <tr>\n",
              "      <th>train_rmse</th>\n",
              "      <td>2.648251e+10</td>\n",
              "      <td>2105.16</td>\n",
              "      <td>1664.048</td>\n",
              "    </tr>\n",
              "  </tbody>\n",
              "</table>\n",
              "</div>\n",
              "    <div class=\"colab-df-buttons\">\n",
              "\n",
              "  <div class=\"colab-df-container\">\n",
              "    <button class=\"colab-df-convert\" onclick=\"convertToInteractive('df-9ddc64f1-15dc-464f-af08-e3b1c1e126e6')\"\n",
              "            title=\"Convert this dataframe to an interactive table.\"\n",
              "            style=\"display:none;\">\n",
              "\n",
              "  <svg xmlns=\"http://www.w3.org/2000/svg\" height=\"24px\" viewBox=\"0 -960 960 960\">\n",
              "    <path d=\"M120-120v-720h720v720H120Zm60-500h600v-160H180v160Zm220 220h160v-160H400v160Zm0 220h160v-160H400v160ZM180-400h160v-160H180v160Zm440 0h160v-160H620v160ZM180-180h160v-160H180v160Zm440 0h160v-160H620v160Z\"/>\n",
              "  </svg>\n",
              "    </button>\n",
              "\n",
              "  <style>\n",
              "    .colab-df-container {\n",
              "      display:flex;\n",
              "      gap: 12px;\n",
              "    }\n",
              "\n",
              "    .colab-df-convert {\n",
              "      background-color: #E8F0FE;\n",
              "      border: none;\n",
              "      border-radius: 50%;\n",
              "      cursor: pointer;\n",
              "      display: none;\n",
              "      fill: #1967D2;\n",
              "      height: 32px;\n",
              "      padding: 0 0 0 0;\n",
              "      width: 32px;\n",
              "    }\n",
              "\n",
              "    .colab-df-convert:hover {\n",
              "      background-color: #E2EBFA;\n",
              "      box-shadow: 0px 1px 2px rgba(60, 64, 67, 0.3), 0px 1px 3px 1px rgba(60, 64, 67, 0.15);\n",
              "      fill: #174EA6;\n",
              "    }\n",
              "\n",
              "    .colab-df-buttons div {\n",
              "      margin-bottom: 4px;\n",
              "    }\n",
              "\n",
              "    [theme=dark] .colab-df-convert {\n",
              "      background-color: #3B4455;\n",
              "      fill: #D2E3FC;\n",
              "    }\n",
              "\n",
              "    [theme=dark] .colab-df-convert:hover {\n",
              "      background-color: #434B5C;\n",
              "      box-shadow: 0px 1px 3px 1px rgba(0, 0, 0, 0.15);\n",
              "      filter: drop-shadow(0px 1px 2px rgba(0, 0, 0, 0.3));\n",
              "      fill: #FFFFFF;\n",
              "    }\n",
              "  </style>\n",
              "\n",
              "    <script>\n",
              "      const buttonEl =\n",
              "        document.querySelector('#df-9ddc64f1-15dc-464f-af08-e3b1c1e126e6 button.colab-df-convert');\n",
              "      buttonEl.style.display =\n",
              "        google.colab.kernel.accessAllowed ? 'block' : 'none';\n",
              "\n",
              "      async function convertToInteractive(key) {\n",
              "        const element = document.querySelector('#df-9ddc64f1-15dc-464f-af08-e3b1c1e126e6');\n",
              "        const dataTable =\n",
              "          await google.colab.kernel.invokeFunction('convertToInteractive',\n",
              "                                                    [key], {});\n",
              "        if (!dataTable) return;\n",
              "\n",
              "        const docLinkHtml = 'Like what you see? Visit the ' +\n",
              "          '<a target=\"_blank\" href=https://colab.research.google.com/notebooks/data_table.ipynb>data table notebook</a>'\n",
              "          + ' to learn more about interactive tables.';\n",
              "        element.innerHTML = '';\n",
              "        dataTable['output_type'] = 'display_data';\n",
              "        await google.colab.output.renderOutput(dataTable, element);\n",
              "        const docLink = document.createElement('div');\n",
              "        docLink.innerHTML = docLinkHtml;\n",
              "        element.appendChild(docLink);\n",
              "      }\n",
              "    </script>\n",
              "  </div>\n",
              "\n",
              "\n",
              "<div id=\"df-257f28a2-2ae6-4e0e-bc9d-ee368e68b039\">\n",
              "  <button class=\"colab-df-quickchart\" onclick=\"quickchart('df-257f28a2-2ae6-4e0e-bc9d-ee368e68b039')\"\n",
              "            title=\"Suggest charts.\"\n",
              "            style=\"display:none;\">\n",
              "\n",
              "<svg xmlns=\"http://www.w3.org/2000/svg\" height=\"24px\"viewBox=\"0 0 24 24\"\n",
              "     width=\"24px\">\n",
              "    <g>\n",
              "        <path d=\"M19 3H5c-1.1 0-2 .9-2 2v14c0 1.1.9 2 2 2h14c1.1 0 2-.9 2-2V5c0-1.1-.9-2-2-2zM9 17H7v-7h2v7zm4 0h-2V7h2v10zm4 0h-2v-4h2v4z\"/>\n",
              "    </g>\n",
              "</svg>\n",
              "  </button>\n",
              "\n",
              "<style>\n",
              "  .colab-df-quickchart {\n",
              "      --bg-color: #E8F0FE;\n",
              "      --fill-color: #1967D2;\n",
              "      --hover-bg-color: #E2EBFA;\n",
              "      --hover-fill-color: #174EA6;\n",
              "      --disabled-fill-color: #AAA;\n",
              "      --disabled-bg-color: #DDD;\n",
              "  }\n",
              "\n",
              "  [theme=dark] .colab-df-quickchart {\n",
              "      --bg-color: #3B4455;\n",
              "      --fill-color: #D2E3FC;\n",
              "      --hover-bg-color: #434B5C;\n",
              "      --hover-fill-color: #FFFFFF;\n",
              "      --disabled-bg-color: #3B4455;\n",
              "      --disabled-fill-color: #666;\n",
              "  }\n",
              "\n",
              "  .colab-df-quickchart {\n",
              "    background-color: var(--bg-color);\n",
              "    border: none;\n",
              "    border-radius: 50%;\n",
              "    cursor: pointer;\n",
              "    display: none;\n",
              "    fill: var(--fill-color);\n",
              "    height: 32px;\n",
              "    padding: 0;\n",
              "    width: 32px;\n",
              "  }\n",
              "\n",
              "  .colab-df-quickchart:hover {\n",
              "    background-color: var(--hover-bg-color);\n",
              "    box-shadow: 0 1px 2px rgba(60, 64, 67, 0.3), 0 1px 3px 1px rgba(60, 64, 67, 0.15);\n",
              "    fill: var(--button-hover-fill-color);\n",
              "  }\n",
              "\n",
              "  .colab-df-quickchart-complete:disabled,\n",
              "  .colab-df-quickchart-complete:disabled:hover {\n",
              "    background-color: var(--disabled-bg-color);\n",
              "    fill: var(--disabled-fill-color);\n",
              "    box-shadow: none;\n",
              "  }\n",
              "\n",
              "  .colab-df-spinner {\n",
              "    border: 2px solid var(--fill-color);\n",
              "    border-color: transparent;\n",
              "    border-bottom-color: var(--fill-color);\n",
              "    animation:\n",
              "      spin 1s steps(1) infinite;\n",
              "  }\n",
              "\n",
              "  @keyframes spin {\n",
              "    0% {\n",
              "      border-color: transparent;\n",
              "      border-bottom-color: var(--fill-color);\n",
              "      border-left-color: var(--fill-color);\n",
              "    }\n",
              "    20% {\n",
              "      border-color: transparent;\n",
              "      border-left-color: var(--fill-color);\n",
              "      border-top-color: var(--fill-color);\n",
              "    }\n",
              "    30% {\n",
              "      border-color: transparent;\n",
              "      border-left-color: var(--fill-color);\n",
              "      border-top-color: var(--fill-color);\n",
              "      border-right-color: var(--fill-color);\n",
              "    }\n",
              "    40% {\n",
              "      border-color: transparent;\n",
              "      border-right-color: var(--fill-color);\n",
              "      border-top-color: var(--fill-color);\n",
              "    }\n",
              "    60% {\n",
              "      border-color: transparent;\n",
              "      border-right-color: var(--fill-color);\n",
              "    }\n",
              "    80% {\n",
              "      border-color: transparent;\n",
              "      border-right-color: var(--fill-color);\n",
              "      border-bottom-color: var(--fill-color);\n",
              "    }\n",
              "    90% {\n",
              "      border-color: transparent;\n",
              "      border-bottom-color: var(--fill-color);\n",
              "    }\n",
              "  }\n",
              "</style>\n",
              "\n",
              "  <script>\n",
              "    async function quickchart(key) {\n",
              "      const quickchartButtonEl =\n",
              "        document.querySelector('#' + key + ' button');\n",
              "      quickchartButtonEl.disabled = true;  // To prevent multiple clicks.\n",
              "      quickchartButtonEl.classList.add('colab-df-spinner');\n",
              "      try {\n",
              "        const charts = await google.colab.kernel.invokeFunction(\n",
              "            'suggestCharts', [key], {});\n",
              "      } catch (error) {\n",
              "        console.error('Error during call to suggestCharts:', error);\n",
              "      }\n",
              "      quickchartButtonEl.classList.remove('colab-df-spinner');\n",
              "      quickchartButtonEl.classList.add('colab-df-quickchart-complete');\n",
              "    }\n",
              "    (() => {\n",
              "      let quickchartButtonEl =\n",
              "        document.querySelector('#df-257f28a2-2ae6-4e0e-bc9d-ee368e68b039 button');\n",
              "      quickchartButtonEl.style.display =\n",
              "        google.colab.kernel.accessAllowed ? 'block' : 'none';\n",
              "    })();\n",
              "  </script>\n",
              "</div>\n",
              "    </div>\n",
              "  </div>\n"
            ]
          },
          "metadata": {},
          "execution_count": 42
        }
      ],
      "source": [
        "try:\n",
        "    data_models = [[lin_reg_fit_time_train, tree_fit_time_train, lgb_fit_time_train],\n",
        "                   [lin_reg_score_time_train, tree_score_time_train, lgb_score_time_train],\n",
        "                   [lin_reg_rmse_train, tree_rmse_train, lgb_rmse_train]]\n",
        "except:\n",
        "    data_models = [[lin_reg_fit_time_train, tree_fit_time_train, 'NaN'],\n",
        "                   [lin_reg_score_time_train, tree_score_time_train, 'NaN'],\n",
        "                   [lin_reg_rmse_train, tree_rmse_train, 'NaN']]\n",
        "\n",
        "pd.DataFrame(data_models,\n",
        "             columns=['lin_reg', 'dec_tree_reg', 'lgbm_reg'],\n",
        "             index=['fit_time', 'score_time', 'train_rmse'])"
      ]
    },
    {
      "cell_type": "markdown",
      "metadata": {
        "id": "RSQdLMjYym7B"
      },
      "source": [
        "## CONCLUSION\n",
        "\n",
        "**The best value of the RMSE metric was obtained on the LGBM model, the best training and prediction time was shown by the decision tree regression model.**\n",
        "\n",
        "**Because the criteria that are important to the customer are:**\n",
        "\n",
        "**- quality of prediction;**\n",
        "\n",
        "**- model training time;**\n",
        "\n",
        "**- model prediction time.**\n",
        "\n",
        "**Based on a combination of factors, it is better to choose the LGBM model, since its prediction quality is much higher, and the training time, although longer than that of the other model, is quite adequate.**\n",
        "\n",
        "**Let’s now check the LGBM model with the best score on the test sample.**"
      ]
    },
    {
      "cell_type": "code",
      "execution_count": 43,
      "metadata": {
        "scrolled": true,
        "id": "orwz0-8Gym7B",
        "outputId": "36e5ffd2-c923-4843-c9da-bc5c2798a5ed",
        "colab": {
          "base_uri": "https://localhost:8080/"
        }
      },
      "outputs": [
        {
          "output_type": "stream",
          "name": "stdout",
          "text": [
            "RMSE for LGBM on test set = 1654.014\n",
            "LGBM prediction time on test set = 0.412\n"
          ]
        }
      ],
      "source": [
        "start_predict_lgb = time.time()\n",
        "predict_lgb = gridsearch_lgb.best_estimator_.predict(features_test_lgb)\n",
        "end_predict_lgb = time.time()\n",
        "print('RMSE for LGBM on test set =',\n",
        "       round(mean_squared_error(target_test, predict_lgb, squared=False),3))\n",
        "print('LGBM prediction time on test set =',\n",
        "       round(end_predict_lgb - start_predict_lgb, 3))"
      ]
    },
    {
      "cell_type": "markdown",
      "metadata": {
        "id": "MIAzClXpym7B"
      },
      "source": [
        "## Checking models for adequacy"
      ]
    },
    {
      "cell_type": "markdown",
      "metadata": {
        "id": "RBgimuioym7B"
      },
      "source": [
        "**Let's check the selected models for adequacy using the Dummy Model from the sklearn class, having previously imported it in the first step.**\n",
        "\n",
        "**The check is that the quality of the trained model chosen above is higher than the quality of the Dummy model, which predicts the result without relying on the features of the training set.**"
      ]
    },
    {
      "cell_type": "code",
      "execution_count": 44,
      "metadata": {
        "id": "O2UA-9tAym7B",
        "outputId": "96a2b76d-eed5-4105-fd90-21fb36363837",
        "colab": {
          "base_uri": "https://localhost:8080/"
        }
      },
      "outputs": [
        {
          "output_type": "stream",
          "name": "stdout",
          "text": [
            "Best RMSE metric value for the Dummy model on the training set = 4578.517038689584\n"
          ]
        }
      ],
      "source": [
        "model_dummy = DummyRegressor()\n",
        "parameters_dummy = {'strategy':['mean', 'median', 'constant'],\n",
        "                            'constant':(500,20000,500)}\n",
        "gridsearch_dummy = GridSearchCV(\n",
        "    estimator=model_dummy,\n",
        "    param_grid=parameters_dummy,\n",
        "    scoring='neg_root_mean_squared_error',\n",
        "    cv=5, n_jobs=-1)\n",
        "gridsearch_dummy.fit(features_train, target_train)\n",
        "print('Best RMSE metric value for the Dummy model on the training set =',\n",
        "       (-1 * gridsearch_dummy.best_score_))"
      ]
    },
    {
      "cell_type": "code",
      "execution_count": 45,
      "metadata": {
        "id": "xmwQ9fUmym7B",
        "outputId": "ba22c6f9-7111-4909-e1a7-9bf5b4ce4b66",
        "colab": {
          "base_uri": "https://localhost:8080/"
        }
      },
      "outputs": [
        {
          "output_type": "stream",
          "name": "stdout",
          "text": [
            "Best RMSE metric value for the Dummy model on the test set = 4571.226809875121\n"
          ]
        }
      ],
      "source": [
        "predict_dummy = gridsearch_dummy.best_estimator_.predict(features_test)\n",
        "print('Best RMSE metric value for the Dummy model on the test set =',\n",
        "       mean_squared_error(target_test, predict_dummy, squared=False))"
      ]
    },
    {
      "cell_type": "markdown",
      "metadata": {
        "id": "W9x7yezSym7C"
      },
      "source": [
        "### CONCLUSION\n",
        "\n",
        "**As a result, using the Dummy model, it was possible to obtain the best model quality with RMSE equal to 4571 on the test set, which is significantly lower than the best result of the selected and trained linear regression, decision tree regression and LightGBM models. Which proves the adequacy of the model we found and selected.**"
      ]
    }
  ],
  "metadata": {
    "ExecuteTimeLog": [
      {
        "duration": 403,
        "start_time": "2023-03-20T21:26:42.604Z"
      },
      {
        "duration": 3173,
        "start_time": "2023-03-20T21:26:43.368Z"
      },
      {
        "duration": 199,
        "start_time": "2023-03-20T21:27:14.286Z"
      },
      {
        "duration": 171,
        "start_time": "2023-03-20T21:27:22.751Z"
      },
      {
        "duration": 1082,
        "start_time": "2023-03-20T21:28:07.149Z"
      },
      {
        "duration": 21,
        "start_time": "2023-03-20T21:28:14.956Z"
      },
      {
        "duration": 111,
        "start_time": "2023-03-20T21:35:17.437Z"
      },
      {
        "duration": 569,
        "start_time": "2023-03-20T21:35:29.383Z"
      },
      {
        "duration": 585,
        "start_time": "2023-03-20T21:35:36.237Z"
      },
      {
        "duration": 443,
        "start_time": "2023-03-20T21:35:45.037Z"
      },
      {
        "duration": 507,
        "start_time": "2023-03-20T21:36:49.190Z"
      },
      {
        "duration": 4,
        "start_time": "2023-03-20T21:39:20.282Z"
      },
      {
        "duration": 7,
        "start_time": "2023-03-20T21:39:34.699Z"
      },
      {
        "duration": 160,
        "start_time": "2023-03-20T21:40:14.481Z"
      },
      {
        "duration": 39,
        "start_time": "2023-03-20T21:40:47.819Z"
      },
      {
        "duration": 5,
        "start_time": "2023-03-20T21:42:58.013Z"
      },
      {
        "duration": 8,
        "start_time": "2023-03-20T21:45:31.144Z"
      },
      {
        "duration": 7,
        "start_time": "2023-03-20T21:47:06.794Z"
      },
      {
        "duration": 10,
        "start_time": "2023-03-20T21:47:16.040Z"
      },
      {
        "duration": 52,
        "start_time": "2023-03-20T21:49:14.704Z"
      },
      {
        "duration": 69,
        "start_time": "2023-03-20T21:49:48.344Z"
      },
      {
        "duration": 37,
        "start_time": "2023-03-20T21:50:27.815Z"
      },
      {
        "duration": 37,
        "start_time": "2023-03-20T21:51:04.784Z"
      },
      {
        "duration": 50,
        "start_time": "2023-03-20T21:51:24.306Z"
      },
      {
        "duration": 14,
        "start_time": "2023-03-20T21:52:42.644Z"
      },
      {
        "duration": 400566,
        "start_time": "2023-03-20T21:55:07.949Z"
      },
      {
        "duration": 54,
        "start_time": "2023-03-20T22:02:57.071Z"
      },
      {
        "duration": 6,
        "start_time": "2023-03-20T22:03:47.790Z"
      },
      {
        "duration": 47,
        "start_time": "2023-03-20T22:03:58.584Z"
      },
      {
        "duration": 47,
        "start_time": "2023-03-20T22:04:45.469Z"
      },
      {
        "duration": 54,
        "start_time": "2023-03-20T22:13:07.878Z"
      },
      {
        "duration": 53,
        "start_time": "2023-03-20T22:16:54.151Z"
      },
      {
        "duration": 33,
        "start_time": "2023-03-20T22:17:05.149Z"
      },
      {
        "duration": 26,
        "start_time": "2023-03-20T22:20:53.408Z"
      },
      {
        "duration": 77,
        "start_time": "2023-03-20T22:21:08.557Z"
      },
      {
        "duration": 19,
        "start_time": "2023-03-20T22:25:39.899Z"
      },
      {
        "duration": 251,
        "start_time": "2023-03-20T22:26:02.139Z"
      },
      {
        "duration": 254,
        "start_time": "2023-03-20T22:35:51.493Z"
      },
      {
        "duration": 18,
        "start_time": "2023-03-20T22:37:54.619Z"
      },
      {
        "duration": 14,
        "start_time": "2023-03-20T22:38:14.054Z"
      },
      {
        "duration": 188,
        "start_time": "2023-03-20T22:38:32.060Z"
      },
      {
        "duration": 164,
        "start_time": "2023-03-20T22:39:00.880Z"
      },
      {
        "duration": 74,
        "start_time": "2023-03-20T22:39:28.808Z"
      },
      {
        "duration": 91,
        "start_time": "2023-03-20T22:51:04.133Z"
      },
      {
        "duration": 92,
        "start_time": "2023-03-20T22:51:52.608Z"
      },
      {
        "duration": 93,
        "start_time": "2023-03-20T22:52:07.608Z"
      },
      {
        "duration": 335,
        "start_time": "2023-03-20T22:54:17.108Z"
      },
      {
        "duration": 72,
        "start_time": "2023-03-20T22:57:27.599Z"
      },
      {
        "duration": 77,
        "start_time": "2023-03-20T22:57:31.214Z"
      },
      {
        "duration": 78,
        "start_time": "2023-03-20T22:57:57.785Z"
      },
      {
        "duration": 73,
        "start_time": "2023-03-20T22:58:08.665Z"
      },
      {
        "duration": 83,
        "start_time": "2023-03-20T22:58:11.038Z"
      },
      {
        "duration": 52,
        "start_time": "2023-03-20T23:00:47.181Z"
      },
      {
        "duration": 885,
        "start_time": "2023-03-20T23:03:16.761Z"
      },
      {
        "duration": 506,
        "start_time": "2023-03-20T23:03:28.901Z"
      },
      {
        "duration": 100,
        "start_time": "2023-03-20T23:03:59.500Z"
      },
      {
        "duration": 42,
        "start_time": "2023-03-21T16:49:50.994Z"
      },
      {
        "duration": 383,
        "start_time": "2023-03-21T16:49:57.017Z"
      },
      {
        "duration": 2806,
        "start_time": "2023-03-21T16:49:57.402Z"
      },
      {
        "duration": 26,
        "start_time": "2023-03-21T16:50:00.210Z"
      },
      {
        "duration": 61,
        "start_time": "2023-03-21T16:50:00.237Z"
      },
      {
        "duration": 35,
        "start_time": "2023-03-21T16:50:00.300Z"
      },
      {
        "duration": 212,
        "start_time": "2023-03-21T16:50:00.336Z"
      },
      {
        "duration": 281,
        "start_time": "2023-03-21T16:50:00.549Z"
      },
      {
        "duration": 26,
        "start_time": "2023-03-21T16:50:00.831Z"
      },
      {
        "duration": 0,
        "start_time": "2023-03-21T16:50:00.858Z"
      },
      {
        "duration": 140,
        "start_time": "2023-03-21T16:50:16.110Z"
      },
      {
        "duration": 9,
        "start_time": "2023-03-21T16:50:21.322Z"
      },
      {
        "duration": 6,
        "start_time": "2023-03-21T16:52:04.010Z"
      },
      {
        "duration": 72,
        "start_time": "2023-03-21T16:52:07.729Z"
      },
      {
        "duration": 7,
        "start_time": "2023-03-21T16:52:11.329Z"
      },
      {
        "duration": 4,
        "start_time": "2023-03-21T16:58:54.955Z"
      },
      {
        "duration": 10,
        "start_time": "2023-03-21T16:59:04.783Z"
      },
      {
        "duration": 12,
        "start_time": "2023-03-21T16:59:21.095Z"
      },
      {
        "duration": 31,
        "start_time": "2023-03-21T16:59:28.184Z"
      },
      {
        "duration": 22,
        "start_time": "2023-03-21T17:01:44.941Z"
      },
      {
        "duration": 18,
        "start_time": "2023-03-21T17:02:22.294Z"
      },
      {
        "duration": 23,
        "start_time": "2023-03-21T17:02:36.341Z"
      },
      {
        "duration": 35,
        "start_time": "2023-03-21T17:04:58.818Z"
      },
      {
        "duration": 30,
        "start_time": "2023-03-21T17:05:11.233Z"
      },
      {
        "duration": 34,
        "start_time": "2023-03-21T17:06:11.653Z"
      },
      {
        "duration": 33,
        "start_time": "2023-03-21T17:07:00.433Z"
      },
      {
        "duration": 21,
        "start_time": "2023-03-21T17:09:57.031Z"
      },
      {
        "duration": 15,
        "start_time": "2023-03-21T17:10:23.114Z"
      },
      {
        "duration": 20,
        "start_time": "2023-03-21T17:10:31.134Z"
      },
      {
        "duration": 26,
        "start_time": "2023-03-21T17:10:36.785Z"
      },
      {
        "duration": 24,
        "start_time": "2023-03-21T17:10:56.742Z"
      },
      {
        "duration": 28,
        "start_time": "2023-03-21T17:11:27.423Z"
      },
      {
        "duration": 78,
        "start_time": "2023-03-21T17:11:35.967Z"
      },
      {
        "duration": 72,
        "start_time": "2023-03-21T17:11:53.942Z"
      },
      {
        "duration": 26,
        "start_time": "2023-03-21T17:11:56.814Z"
      },
      {
        "duration": 32,
        "start_time": "2023-03-21T17:27:01.308Z"
      },
      {
        "duration": 10,
        "start_time": "2023-03-21T17:27:23.830Z"
      },
      {
        "duration": 38,
        "start_time": "2023-03-21T17:27:41.406Z"
      },
      {
        "duration": 56,
        "start_time": "2023-03-21T17:27:56.148Z"
      },
      {
        "duration": 59,
        "start_time": "2023-03-21T17:28:01.829Z"
      },
      {
        "duration": 3,
        "start_time": "2023-03-21T17:30:33.929Z"
      },
      {
        "duration": 12,
        "start_time": "2023-03-21T17:31:02.707Z"
      },
      {
        "duration": 34,
        "start_time": "2023-03-21T17:31:07.348Z"
      },
      {
        "duration": 11,
        "start_time": "2023-03-21T17:31:35.408Z"
      },
      {
        "duration": 10,
        "start_time": "2023-03-21T17:32:01.392Z"
      },
      {
        "duration": 46,
        "start_time": "2023-03-21T17:34:56.920Z"
      },
      {
        "duration": 12,
        "start_time": "2023-03-21T17:35:11.101Z"
      },
      {
        "duration": 3,
        "start_time": "2023-03-21T17:35:34.001Z"
      },
      {
        "duration": 31,
        "start_time": "2023-03-21T17:35:38.013Z"
      },
      {
        "duration": 11,
        "start_time": "2023-03-21T17:36:17.420Z"
      },
      {
        "duration": 88,
        "start_time": "2023-03-21T17:39:59.255Z"
      },
      {
        "duration": 95,
        "start_time": "2023-03-21T17:45:58.019Z"
      },
      {
        "duration": 33,
        "start_time": "2023-03-21T17:47:04.188Z"
      },
      {
        "duration": 571,
        "start_time": "2023-03-21T17:48:25.840Z"
      },
      {
        "duration": 22,
        "start_time": "2023-03-21T18:03:55.390Z"
      },
      {
        "duration": 203,
        "start_time": "2023-03-21T18:04:33.031Z"
      },
      {
        "duration": 244,
        "start_time": "2023-03-21T18:04:58.330Z"
      },
      {
        "duration": 198,
        "start_time": "2023-03-21T18:06:04.182Z"
      },
      {
        "duration": 199,
        "start_time": "2023-03-21T18:06:26.907Z"
      },
      {
        "duration": 189,
        "start_time": "2023-03-21T18:06:29.822Z"
      },
      {
        "duration": 194,
        "start_time": "2023-03-21T18:07:08.079Z"
      },
      {
        "duration": 269,
        "start_time": "2023-03-21T18:07:20.910Z"
      },
      {
        "duration": 1157,
        "start_time": "2023-03-21T18:07:30.490Z"
      },
      {
        "duration": 16,
        "start_time": "2023-03-21T18:08:59.631Z"
      },
      {
        "duration": 16,
        "start_time": "2023-03-21T18:09:43.650Z"
      },
      {
        "duration": 3,
        "start_time": "2023-03-21T18:09:48.991Z"
      },
      {
        "duration": 26,
        "start_time": "2023-03-21T18:09:52.402Z"
      },
      {
        "duration": 17,
        "start_time": "2023-03-21T18:10:42.114Z"
      },
      {
        "duration": 263,
        "start_time": "2023-03-21T18:10:53.280Z"
      },
      {
        "duration": 147,
        "start_time": "2023-03-21T18:27:26.331Z"
      },
      {
        "duration": 171,
        "start_time": "2023-03-21T18:27:50.922Z"
      },
      {
        "duration": 266,
        "start_time": "2023-03-21T18:28:12.490Z"
      },
      {
        "duration": 28,
        "start_time": "2023-03-21T18:35:32.786Z"
      },
      {
        "duration": 21,
        "start_time": "2023-03-21T18:35:40.574Z"
      },
      {
        "duration": 2,
        "start_time": "2023-03-21T18:35:53.350Z"
      },
      {
        "duration": 747,
        "start_time": "2023-03-21T18:35:53.354Z"
      },
      {
        "duration": 11,
        "start_time": "2023-03-21T18:35:54.103Z"
      },
      {
        "duration": 45,
        "start_time": "2023-03-21T18:35:54.115Z"
      },
      {
        "duration": 22,
        "start_time": "2023-03-21T18:35:54.162Z"
      },
      {
        "duration": 164,
        "start_time": "2023-03-21T18:35:54.185Z"
      },
      {
        "duration": 283,
        "start_time": "2023-03-21T18:35:54.350Z"
      },
      {
        "duration": 140,
        "start_time": "2023-03-21T18:35:54.635Z"
      },
      {
        "duration": 11,
        "start_time": "2023-03-21T18:35:54.776Z"
      },
      {
        "duration": 25,
        "start_time": "2023-03-21T18:35:59.330Z"
      },
      {
        "duration": 8,
        "start_time": "2023-03-21T18:46:24.910Z"
      },
      {
        "duration": 7,
        "start_time": "2023-03-21T18:46:40.928Z"
      },
      {
        "duration": 18,
        "start_time": "2023-03-21T18:48:55.831Z"
      },
      {
        "duration": 20,
        "start_time": "2023-03-21T18:49:13.798Z"
      },
      {
        "duration": 15,
        "start_time": "2023-03-21T18:49:23.358Z"
      },
      {
        "duration": 2,
        "start_time": "2023-03-21T18:51:35.239Z"
      },
      {
        "duration": 708,
        "start_time": "2023-03-21T18:51:37.107Z"
      },
      {
        "duration": 72,
        "start_time": "2023-03-21T18:51:40.284Z"
      },
      {
        "duration": 11,
        "start_time": "2023-03-21T18:52:39.791Z"
      },
      {
        "duration": 10,
        "start_time": "2023-03-21T18:54:57.767Z"
      },
      {
        "duration": 132,
        "start_time": "2023-03-21T18:58:58.618Z"
      },
      {
        "duration": 20,
        "start_time": "2023-03-21T18:59:48.639Z"
      },
      {
        "duration": 12,
        "start_time": "2023-03-21T18:59:59.550Z"
      },
      {
        "duration": 13,
        "start_time": "2023-03-21T19:00:05.423Z"
      },
      {
        "duration": 5,
        "start_time": "2023-03-21T19:00:10.460Z"
      },
      {
        "duration": 13,
        "start_time": "2023-03-21T19:00:14.298Z"
      },
      {
        "duration": 24,
        "start_time": "2023-03-21T19:00:39.759Z"
      },
      {
        "duration": 9,
        "start_time": "2023-03-21T19:00:53.260Z"
      },
      {
        "duration": 23,
        "start_time": "2023-03-21T19:01:21.407Z"
      },
      {
        "duration": 10,
        "start_time": "2023-03-21T19:01:45.618Z"
      },
      {
        "duration": 10,
        "start_time": "2023-03-21T19:01:50.310Z"
      },
      {
        "duration": 10,
        "start_time": "2023-03-21T19:01:58.138Z"
      },
      {
        "duration": 9,
        "start_time": "2023-03-21T19:02:01.731Z"
      },
      {
        "duration": 9,
        "start_time": "2023-03-21T19:02:05.643Z"
      },
      {
        "duration": 11,
        "start_time": "2023-03-21T19:02:14.047Z"
      },
      {
        "duration": 22,
        "start_time": "2023-03-21T19:02:20.899Z"
      },
      {
        "duration": 20,
        "start_time": "2023-03-21T19:02:24.443Z"
      },
      {
        "duration": 20,
        "start_time": "2023-03-21T19:02:41.699Z"
      },
      {
        "duration": 2,
        "start_time": "2023-03-21T19:06:36.785Z"
      },
      {
        "duration": 327,
        "start_time": "2023-03-21T19:07:08.541Z"
      },
      {
        "duration": 315,
        "start_time": "2023-03-21T19:07:16.391Z"
      },
      {
        "duration": 333,
        "start_time": "2023-03-21T19:07:22.226Z"
      },
      {
        "duration": 326,
        "start_time": "2023-03-21T19:08:57.098Z"
      },
      {
        "duration": 317,
        "start_time": "2023-03-21T19:09:03.298Z"
      },
      {
        "duration": 356,
        "start_time": "2023-03-21T19:09:09.815Z"
      },
      {
        "duration": 336,
        "start_time": "2023-03-21T19:09:22.914Z"
      },
      {
        "duration": 50,
        "start_time": "2023-03-21T20:30:59.767Z"
      },
      {
        "duration": 813,
        "start_time": "2023-03-21T20:31:04.509Z"
      },
      {
        "duration": 1313,
        "start_time": "2023-03-21T20:31:05.324Z"
      },
      {
        "duration": 17,
        "start_time": "2023-03-21T20:31:06.639Z"
      },
      {
        "duration": 151,
        "start_time": "2023-03-21T20:31:06.657Z"
      },
      {
        "duration": 31,
        "start_time": "2023-03-21T20:31:06.810Z"
      },
      {
        "duration": 469,
        "start_time": "2023-03-21T20:31:06.843Z"
      },
      {
        "duration": 25,
        "start_time": "2023-03-21T20:31:17.320Z"
      },
      {
        "duration": 134,
        "start_time": "2023-03-21T20:32:47.076Z"
      },
      {
        "duration": 168,
        "start_time": "2023-03-21T20:32:55.048Z"
      },
      {
        "duration": 190,
        "start_time": "2023-03-21T20:33:16.947Z"
      },
      {
        "duration": 208,
        "start_time": "2023-03-21T20:33:27.627Z"
      },
      {
        "duration": 537,
        "start_time": "2023-03-21T20:34:15.903Z"
      },
      {
        "duration": 493,
        "start_time": "2023-03-21T20:34:31.109Z"
      },
      {
        "duration": 442,
        "start_time": "2023-03-21T20:34:49.000Z"
      },
      {
        "duration": 420,
        "start_time": "2023-03-21T20:35:08.613Z"
      },
      {
        "duration": 454,
        "start_time": "2023-03-21T20:35:18.789Z"
      },
      {
        "duration": 444,
        "start_time": "2023-03-21T20:35:29.148Z"
      },
      {
        "duration": 425,
        "start_time": "2023-03-21T20:35:37.028Z"
      },
      {
        "duration": 447,
        "start_time": "2023-03-21T20:35:57.089Z"
      },
      {
        "duration": 465,
        "start_time": "2023-03-21T20:36:04.190Z"
      },
      {
        "duration": 449,
        "start_time": "2023-03-21T20:36:08.848Z"
      },
      {
        "duration": 494,
        "start_time": "2023-03-21T20:36:17.796Z"
      },
      {
        "duration": 20,
        "start_time": "2023-03-21T20:37:05.586Z"
      },
      {
        "duration": 20,
        "start_time": "2023-03-21T20:37:25.255Z"
      },
      {
        "duration": 31,
        "start_time": "2023-03-21T20:38:22.410Z"
      },
      {
        "duration": 18,
        "start_time": "2023-03-21T20:38:39.835Z"
      },
      {
        "duration": 19,
        "start_time": "2023-03-21T20:39:13.909Z"
      },
      {
        "duration": 448,
        "start_time": "2023-03-21T20:39:23.757Z"
      },
      {
        "duration": 13,
        "start_time": "2023-03-21T20:40:29.127Z"
      },
      {
        "duration": 12,
        "start_time": "2023-03-21T20:40:47.482Z"
      },
      {
        "duration": 11,
        "start_time": "2023-03-21T20:41:05.685Z"
      },
      {
        "duration": 16,
        "start_time": "2023-03-21T20:41:26.869Z"
      },
      {
        "duration": 23,
        "start_time": "2023-03-21T20:42:04.185Z"
      },
      {
        "duration": 9,
        "start_time": "2023-03-21T20:42:32.408Z"
      },
      {
        "duration": 9,
        "start_time": "2023-03-21T20:42:36.003Z"
      },
      {
        "duration": 19,
        "start_time": "2023-03-21T20:42:39.547Z"
      },
      {
        "duration": 18,
        "start_time": "2023-03-21T20:44:44.033Z"
      },
      {
        "duration": 47,
        "start_time": "2023-03-21T20:45:33.785Z"
      },
      {
        "duration": 20,
        "start_time": "2023-03-21T20:45:50.500Z"
      },
      {
        "duration": 19,
        "start_time": "2023-03-21T20:45:57.410Z"
      },
      {
        "duration": 20,
        "start_time": "2023-03-21T20:48:27.995Z"
      },
      {
        "duration": 8,
        "start_time": "2023-03-21T20:48:58.843Z"
      },
      {
        "duration": 5,
        "start_time": "2023-03-21T20:51:37.668Z"
      },
      {
        "duration": 59,
        "start_time": "2023-03-21T20:51:49.000Z"
      },
      {
        "duration": 32,
        "start_time": "2023-03-21T20:51:52.443Z"
      },
      {
        "duration": 4,
        "start_time": "2023-03-21T20:51:57.242Z"
      },
      {
        "duration": 21,
        "start_time": "2023-03-21T20:58:07.351Z"
      },
      {
        "duration": 20,
        "start_time": "2023-03-21T20:58:22.090Z"
      },
      {
        "duration": 27,
        "start_time": "2023-03-21T20:58:48.375Z"
      },
      {
        "duration": 22,
        "start_time": "2023-03-21T20:59:56.983Z"
      },
      {
        "duration": 23,
        "start_time": "2023-03-21T21:00:42.444Z"
      },
      {
        "duration": 26,
        "start_time": "2023-03-21T21:01:21.498Z"
      },
      {
        "duration": 24,
        "start_time": "2023-03-21T21:01:39.230Z"
      },
      {
        "duration": 21,
        "start_time": "2023-03-21T21:02:38.596Z"
      },
      {
        "duration": 259,
        "start_time": "2023-03-21T21:04:27.682Z"
      },
      {
        "duration": 258,
        "start_time": "2023-03-21T21:04:43.263Z"
      },
      {
        "duration": 230,
        "start_time": "2023-03-21T21:04:54.342Z"
      },
      {
        "duration": 209,
        "start_time": "2023-03-21T21:05:04.635Z"
      },
      {
        "duration": 40,
        "start_time": "2023-03-21T21:05:51.224Z"
      },
      {
        "duration": 268,
        "start_time": "2023-03-21T21:05:53.354Z"
      },
      {
        "duration": 280,
        "start_time": "2023-03-21T21:05:58.124Z"
      },
      {
        "duration": 25,
        "start_time": "2023-03-21T21:06:14.902Z"
      },
      {
        "duration": 228,
        "start_time": "2023-03-21T21:06:16.935Z"
      },
      {
        "duration": 27,
        "start_time": "2023-03-21T21:06:33.822Z"
      },
      {
        "duration": 19,
        "start_time": "2023-03-21T21:07:16.215Z"
      },
      {
        "duration": 3,
        "start_time": "2023-03-21T21:07:22.174Z"
      },
      {
        "duration": 997,
        "start_time": "2023-03-21T21:07:22.183Z"
      },
      {
        "duration": 14,
        "start_time": "2023-03-21T21:07:23.182Z"
      },
      {
        "duration": 118,
        "start_time": "2023-03-21T21:07:23.198Z"
      },
      {
        "duration": 33,
        "start_time": "2023-03-21T21:07:23.318Z"
      },
      {
        "duration": 27,
        "start_time": "2023-03-21T21:07:23.353Z"
      },
      {
        "duration": 10,
        "start_time": "2023-03-21T21:07:23.382Z"
      },
      {
        "duration": 59,
        "start_time": "2023-03-21T21:07:23.394Z"
      },
      {
        "duration": 494,
        "start_time": "2023-03-21T21:07:23.456Z"
      },
      {
        "duration": 28,
        "start_time": "2023-03-21T21:07:23.951Z"
      },
      {
        "duration": 32,
        "start_time": "2023-03-21T21:07:26.602Z"
      },
      {
        "duration": 4,
        "start_time": "2023-03-21T21:08:13.895Z"
      },
      {
        "duration": 4,
        "start_time": "2023-03-21T21:08:21.470Z"
      },
      {
        "duration": 3,
        "start_time": "2023-03-21T21:08:26.203Z"
      },
      {
        "duration": 953,
        "start_time": "2023-03-21T21:08:26.208Z"
      },
      {
        "duration": 16,
        "start_time": "2023-03-21T21:08:27.163Z"
      },
      {
        "duration": 105,
        "start_time": "2023-03-21T21:08:27.181Z"
      },
      {
        "duration": 23,
        "start_time": "2023-03-21T21:08:27.289Z"
      },
      {
        "duration": 7,
        "start_time": "2023-03-21T21:08:27.314Z"
      },
      {
        "duration": 4,
        "start_time": "2023-03-21T21:08:43.603Z"
      },
      {
        "duration": 23,
        "start_time": "2023-03-21T21:08:56.263Z"
      },
      {
        "duration": 42,
        "start_time": "2023-03-21T21:09:47.462Z"
      },
      {
        "duration": 162,
        "start_time": "2023-03-21T21:10:26.288Z"
      },
      {
        "duration": 331,
        "start_time": "2023-03-21T21:10:30.495Z"
      },
      {
        "duration": 200,
        "start_time": "2023-03-21T21:10:34.524Z"
      },
      {
        "duration": 14,
        "start_time": "2023-03-21T21:10:45.455Z"
      },
      {
        "duration": 24,
        "start_time": "2023-03-21T21:10:59.662Z"
      },
      {
        "duration": 67,
        "start_time": "2023-03-21T21:11:15.739Z"
      },
      {
        "duration": 195,
        "start_time": "2023-03-21T21:12:27.906Z"
      },
      {
        "duration": 214,
        "start_time": "2023-03-21T21:12:48.101Z"
      },
      {
        "duration": 48,
        "start_time": "2023-03-21T21:14:53.275Z"
      },
      {
        "duration": 35,
        "start_time": "2023-03-21T21:17:44.463Z"
      },
      {
        "duration": 2904,
        "start_time": "2023-03-21T21:18:21.944Z"
      },
      {
        "duration": 32,
        "start_time": "2023-03-21T21:18:43.924Z"
      },
      {
        "duration": 24,
        "start_time": "2023-03-21T21:19:48.744Z"
      },
      {
        "duration": 23,
        "start_time": "2023-03-21T21:21:13.026Z"
      },
      {
        "duration": 3,
        "start_time": "2023-03-21T21:33:01.041Z"
      },
      {
        "duration": 1069,
        "start_time": "2023-03-21T21:33:01.049Z"
      },
      {
        "duration": 12,
        "start_time": "2023-03-21T21:33:02.120Z"
      },
      {
        "duration": 136,
        "start_time": "2023-03-21T21:33:02.133Z"
      },
      {
        "duration": 30,
        "start_time": "2023-03-21T21:33:02.270Z"
      },
      {
        "duration": 33,
        "start_time": "2023-03-21T21:33:02.302Z"
      },
      {
        "duration": 33,
        "start_time": "2023-03-21T21:33:02.336Z"
      },
      {
        "duration": 67,
        "start_time": "2023-03-21T21:33:02.372Z"
      },
      {
        "duration": 472,
        "start_time": "2023-03-21T21:33:26.169Z"
      },
      {
        "duration": 23,
        "start_time": "2023-03-21T21:33:33.629Z"
      },
      {
        "duration": 41,
        "start_time": "2023-03-21T21:39:09.049Z"
      },
      {
        "duration": 38,
        "start_time": "2023-03-21T21:39:23.957Z"
      },
      {
        "duration": 32,
        "start_time": "2023-03-21T21:39:35.545Z"
      },
      {
        "duration": 32,
        "start_time": "2023-03-21T21:41:09.008Z"
      },
      {
        "duration": 37,
        "start_time": "2023-03-21T21:41:21.561Z"
      },
      {
        "duration": 32,
        "start_time": "2023-03-21T21:45:51.709Z"
      },
      {
        "duration": 35,
        "start_time": "2023-03-21T21:46:15.321Z"
      },
      {
        "duration": 30,
        "start_time": "2023-03-21T21:49:21.029Z"
      },
      {
        "duration": 35,
        "start_time": "2023-03-21T21:50:35.429Z"
      },
      {
        "duration": 30,
        "start_time": "2023-03-21T21:50:46.969Z"
      },
      {
        "duration": 34,
        "start_time": "2023-03-21T21:51:03.409Z"
      },
      {
        "duration": 32,
        "start_time": "2023-03-21T21:52:07.089Z"
      },
      {
        "duration": 21,
        "start_time": "2023-03-21T21:56:15.201Z"
      },
      {
        "duration": 29,
        "start_time": "2023-03-21T21:56:49.708Z"
      },
      {
        "duration": 25,
        "start_time": "2023-03-21T21:57:30.241Z"
      },
      {
        "duration": 43,
        "start_time": "2023-03-21T21:57:45.102Z"
      },
      {
        "duration": 968,
        "start_time": "2023-03-22T12:47:51.926Z"
      },
      {
        "duration": 3844,
        "start_time": "2023-03-22T12:47:52.896Z"
      },
      {
        "duration": 19,
        "start_time": "2023-03-22T12:47:56.742Z"
      },
      {
        "duration": 133,
        "start_time": "2023-03-22T12:47:56.762Z"
      },
      {
        "duration": 42,
        "start_time": "2023-03-22T12:47:56.897Z"
      },
      {
        "duration": 13,
        "start_time": "2023-03-22T12:47:56.940Z"
      },
      {
        "duration": 4,
        "start_time": "2023-03-22T12:47:56.955Z"
      },
      {
        "duration": 78,
        "start_time": "2023-03-22T12:47:56.964Z"
      },
      {
        "duration": 564,
        "start_time": "2023-03-22T12:47:57.045Z"
      },
      {
        "duration": 37,
        "start_time": "2023-03-22T12:47:57.611Z"
      },
      {
        "duration": 31,
        "start_time": "2023-03-22T12:47:57.650Z"
      },
      {
        "duration": 209,
        "start_time": "2023-03-22T12:47:57.683Z"
      },
      {
        "duration": 395,
        "start_time": "2023-03-22T12:47:57.894Z"
      },
      {
        "duration": 189,
        "start_time": "2023-03-22T12:47:58.293Z"
      },
      {
        "duration": 35,
        "start_time": "2023-03-22T12:47:58.484Z"
      },
      {
        "duration": 28,
        "start_time": "2023-03-22T12:47:58.521Z"
      },
      {
        "duration": 69,
        "start_time": "2023-03-22T12:47:58.551Z"
      },
      {
        "duration": 59,
        "start_time": "2023-03-22T12:47:58.623Z"
      },
      {
        "duration": 46,
        "start_time": "2023-03-22T12:47:58.684Z"
      },
      {
        "duration": 34,
        "start_time": "2023-03-22T12:47:58.736Z"
      },
      {
        "duration": 25,
        "start_time": "2023-03-22T12:48:17.853Z"
      },
      {
        "duration": 26,
        "start_time": "2023-03-22T12:48:24.539Z"
      },
      {
        "duration": 24,
        "start_time": "2023-03-22T12:48:30.946Z"
      },
      {
        "duration": 115,
        "start_time": "2023-03-22T12:50:27.933Z"
      },
      {
        "duration": 36,
        "start_time": "2023-03-22T12:50:32.325Z"
      },
      {
        "duration": 24,
        "start_time": "2023-03-22T12:50:37.944Z"
      },
      {
        "duration": 3,
        "start_time": "2023-03-22T14:22:19.789Z"
      },
      {
        "duration": 1399,
        "start_time": "2023-03-22T14:22:19.838Z"
      },
      {
        "duration": 40,
        "start_time": "2023-03-22T14:22:21.249Z"
      },
      {
        "duration": 147,
        "start_time": "2023-03-22T14:22:21.294Z"
      },
      {
        "duration": 38,
        "start_time": "2023-03-22T14:22:21.443Z"
      },
      {
        "duration": 10,
        "start_time": "2023-03-22T14:22:21.484Z"
      },
      {
        "duration": 34,
        "start_time": "2023-03-22T14:22:21.495Z"
      },
      {
        "duration": 41,
        "start_time": "2023-03-22T14:22:21.542Z"
      },
      {
        "duration": 691,
        "start_time": "2023-03-22T14:22:21.585Z"
      },
      {
        "duration": 39,
        "start_time": "2023-03-22T14:22:22.287Z"
      },
      {
        "duration": 52,
        "start_time": "2023-03-22T14:22:22.327Z"
      },
      {
        "duration": 226,
        "start_time": "2023-03-22T14:22:22.381Z"
      },
      {
        "duration": 449,
        "start_time": "2023-03-22T14:22:22.609Z"
      },
      {
        "duration": 237,
        "start_time": "2023-03-22T14:22:23.060Z"
      },
      {
        "duration": 24,
        "start_time": "2023-03-22T14:22:23.300Z"
      },
      {
        "duration": 31,
        "start_time": "2023-03-22T14:22:23.325Z"
      },
      {
        "duration": 99,
        "start_time": "2023-03-22T14:22:23.358Z"
      },
      {
        "duration": 92,
        "start_time": "2023-03-22T14:22:23.459Z"
      },
      {
        "duration": 35,
        "start_time": "2023-03-22T14:22:40.559Z"
      },
      {
        "duration": 294,
        "start_time": "2023-03-22T14:23:02.990Z"
      },
      {
        "duration": 290,
        "start_time": "2023-03-22T14:23:08.697Z"
      },
      {
        "duration": 7,
        "start_time": "2023-03-22T14:38:15.432Z"
      },
      {
        "duration": 1216,
        "start_time": "2023-03-22T14:38:15.442Z"
      },
      {
        "duration": 15,
        "start_time": "2023-03-22T14:38:16.662Z"
      },
      {
        "duration": 147,
        "start_time": "2023-03-22T14:38:16.679Z"
      },
      {
        "duration": 39,
        "start_time": "2023-03-22T14:38:16.832Z"
      },
      {
        "duration": 9,
        "start_time": "2023-03-22T14:38:16.873Z"
      },
      {
        "duration": 5,
        "start_time": "2023-03-22T14:38:16.884Z"
      },
      {
        "duration": 37,
        "start_time": "2023-03-22T14:38:16.891Z"
      },
      {
        "duration": 663,
        "start_time": "2023-03-22T14:38:16.930Z"
      },
      {
        "duration": 58,
        "start_time": "2023-03-22T14:38:17.595Z"
      },
      {
        "duration": 32,
        "start_time": "2023-03-22T14:38:17.660Z"
      },
      {
        "duration": 198,
        "start_time": "2023-03-22T14:38:17.693Z"
      },
      {
        "duration": 453,
        "start_time": "2023-03-22T14:38:17.892Z"
      },
      {
        "duration": 203,
        "start_time": "2023-03-22T14:38:18.355Z"
      },
      {
        "duration": 12,
        "start_time": "2023-03-22T14:38:18.560Z"
      },
      {
        "duration": 43,
        "start_time": "2023-03-22T14:38:18.574Z"
      },
      {
        "duration": 124,
        "start_time": "2023-03-22T14:38:18.620Z"
      },
      {
        "duration": 74,
        "start_time": "2023-03-22T14:38:18.750Z"
      },
      {
        "duration": 41,
        "start_time": "2023-03-22T14:38:18.830Z"
      },
      {
        "duration": 48,
        "start_time": "2023-03-22T14:38:41.833Z"
      },
      {
        "duration": 23,
        "start_time": "2023-03-22T14:38:46.780Z"
      },
      {
        "duration": 185,
        "start_time": "2023-03-22T14:38:59.335Z"
      },
      {
        "duration": 122,
        "start_time": "2023-03-22T14:39:43.074Z"
      },
      {
        "duration": 99,
        "start_time": "2023-03-22T14:41:43.227Z"
      },
      {
        "duration": 110,
        "start_time": "2023-03-22T14:43:04.362Z"
      },
      {
        "duration": 44,
        "start_time": "2023-03-22T14:43:16.950Z"
      },
      {
        "duration": 38,
        "start_time": "2023-03-22T14:43:41.035Z"
      },
      {
        "duration": 39,
        "start_time": "2023-03-22T14:43:50.798Z"
      },
      {
        "duration": 25,
        "start_time": "2023-03-22T14:43:56.962Z"
      },
      {
        "duration": 1846,
        "start_time": "2023-03-22T14:44:18.746Z"
      },
      {
        "duration": 38,
        "start_time": "2023-03-22T14:44:33.737Z"
      },
      {
        "duration": 287,
        "start_time": "2023-03-22T14:45:50.682Z"
      },
      {
        "duration": 18,
        "start_time": "2023-03-22T14:46:05.471Z"
      },
      {
        "duration": 3,
        "start_time": "2023-03-22T14:46:12.348Z"
      },
      {
        "duration": 1093,
        "start_time": "2023-03-22T14:46:12.353Z"
      },
      {
        "duration": 16,
        "start_time": "2023-03-22T14:46:13.448Z"
      },
      {
        "duration": 114,
        "start_time": "2023-03-22T14:46:13.466Z"
      },
      {
        "duration": 50,
        "start_time": "2023-03-22T14:46:13.583Z"
      },
      {
        "duration": 11,
        "start_time": "2023-03-22T14:46:13.635Z"
      },
      {
        "duration": 7,
        "start_time": "2023-03-22T14:46:13.647Z"
      },
      {
        "duration": 27,
        "start_time": "2023-03-22T14:46:13.655Z"
      },
      {
        "duration": 651,
        "start_time": "2023-03-22T14:46:13.684Z"
      },
      {
        "duration": 29,
        "start_time": "2023-03-22T14:46:14.341Z"
      },
      {
        "duration": 64,
        "start_time": "2023-03-22T14:46:14.372Z"
      },
      {
        "duration": 228,
        "start_time": "2023-03-22T14:46:14.442Z"
      },
      {
        "duration": 375,
        "start_time": "2023-03-22T14:46:14.672Z"
      },
      {
        "duration": 198,
        "start_time": "2023-03-22T14:46:15.050Z"
      },
      {
        "duration": 11,
        "start_time": "2023-03-22T14:46:15.254Z"
      },
      {
        "duration": 61,
        "start_time": "2023-03-22T14:46:15.268Z"
      },
      {
        "duration": 66,
        "start_time": "2023-03-22T14:46:15.331Z"
      },
      {
        "duration": 48,
        "start_time": "2023-03-22T14:46:15.411Z"
      },
      {
        "duration": 36,
        "start_time": "2023-03-22T14:46:25.064Z"
      },
      {
        "duration": 30,
        "start_time": "2023-03-22T14:46:28.242Z"
      },
      {
        "duration": 41,
        "start_time": "2023-03-22T14:46:35.359Z"
      },
      {
        "duration": 4,
        "start_time": "2023-03-22T14:48:46.036Z"
      },
      {
        "duration": 1050,
        "start_time": "2023-03-22T14:48:46.043Z"
      },
      {
        "duration": 40,
        "start_time": "2023-03-22T14:48:47.095Z"
      },
      {
        "duration": 107,
        "start_time": "2023-03-22T14:48:47.137Z"
      },
      {
        "duration": 24,
        "start_time": "2023-03-22T14:48:47.247Z"
      },
      {
        "duration": 62,
        "start_time": "2023-03-22T14:48:47.273Z"
      },
      {
        "duration": 3,
        "start_time": "2023-03-22T14:48:47.337Z"
      },
      {
        "duration": 34,
        "start_time": "2023-03-22T14:48:47.342Z"
      },
      {
        "duration": 530,
        "start_time": "2023-03-22T14:48:47.378Z"
      },
      {
        "duration": 31,
        "start_time": "2023-03-22T14:48:47.910Z"
      },
      {
        "duration": 31,
        "start_time": "2023-03-22T14:48:47.949Z"
      },
      {
        "duration": 249,
        "start_time": "2023-03-22T14:48:47.982Z"
      },
      {
        "duration": 354,
        "start_time": "2023-03-22T14:48:48.240Z"
      },
      {
        "duration": 188,
        "start_time": "2023-03-22T14:48:48.596Z"
      },
      {
        "duration": 24,
        "start_time": "2023-03-22T14:48:48.785Z"
      },
      {
        "duration": 40,
        "start_time": "2023-03-22T14:48:48.811Z"
      },
      {
        "duration": 80,
        "start_time": "2023-03-22T14:48:48.853Z"
      },
      {
        "duration": 42,
        "start_time": "2023-03-22T14:48:48.935Z"
      },
      {
        "duration": 58,
        "start_time": "2023-03-22T14:48:53.881Z"
      },
      {
        "duration": 38,
        "start_time": "2023-03-22T14:48:55.731Z"
      },
      {
        "duration": 332,
        "start_time": "2023-03-22T14:48:58.870Z"
      },
      {
        "duration": 587,
        "start_time": "2023-03-22T14:50:18.442Z"
      },
      {
        "duration": 170,
        "start_time": "2023-03-22T14:51:57.888Z"
      },
      {
        "duration": 11,
        "start_time": "2023-03-22T15:00:16.739Z"
      },
      {
        "duration": 46,
        "start_time": "2023-03-22T15:00:26.833Z"
      },
      {
        "duration": 57,
        "start_time": "2023-03-22T15:01:34.038Z"
      },
      {
        "duration": 2140,
        "start_time": "2023-03-22T15:06:08.656Z"
      },
      {
        "duration": 3173,
        "start_time": "2023-03-22T15:06:51.278Z"
      },
      {
        "duration": 2450,
        "start_time": "2023-03-22T15:07:06.691Z"
      },
      {
        "duration": 2113,
        "start_time": "2023-03-22T15:07:18.237Z"
      },
      {
        "duration": 912,
        "start_time": "2023-03-22T18:16:58.711Z"
      },
      {
        "duration": 1495,
        "start_time": "2023-03-22T18:16:59.625Z"
      },
      {
        "duration": 19,
        "start_time": "2023-03-22T18:17:01.123Z"
      },
      {
        "duration": 159,
        "start_time": "2023-03-22T18:17:01.145Z"
      },
      {
        "duration": 35,
        "start_time": "2023-03-22T18:17:01.307Z"
      },
      {
        "duration": 61,
        "start_time": "2023-03-22T18:17:01.345Z"
      },
      {
        "duration": 57,
        "start_time": "2023-03-22T18:17:01.408Z"
      },
      {
        "duration": 65,
        "start_time": "2023-03-22T18:17:01.467Z"
      },
      {
        "duration": 552,
        "start_time": "2023-03-22T18:17:01.534Z"
      },
      {
        "duration": 31,
        "start_time": "2023-03-22T18:17:02.088Z"
      },
      {
        "duration": 57,
        "start_time": "2023-03-22T18:17:02.121Z"
      },
      {
        "duration": 178,
        "start_time": "2023-03-22T18:17:02.180Z"
      },
      {
        "duration": 383,
        "start_time": "2023-03-22T18:17:02.360Z"
      },
      {
        "duration": 198,
        "start_time": "2023-03-22T18:17:02.745Z"
      },
      {
        "duration": 11,
        "start_time": "2023-03-22T18:17:02.945Z"
      },
      {
        "duration": 60,
        "start_time": "2023-03-22T18:17:02.958Z"
      },
      {
        "duration": 84,
        "start_time": "2023-03-22T18:17:03.020Z"
      },
      {
        "duration": 41,
        "start_time": "2023-03-22T18:17:03.106Z"
      },
      {
        "duration": 51,
        "start_time": "2023-03-22T18:17:03.149Z"
      },
      {
        "duration": 271,
        "start_time": "2023-03-22T18:17:03.202Z"
      },
      {
        "duration": 526,
        "start_time": "2023-03-22T18:17:03.474Z"
      },
      {
        "duration": 49,
        "start_time": "2023-03-22T18:18:11.495Z"
      },
      {
        "duration": 67,
        "start_time": "2023-03-22T18:18:19.570Z"
      },
      {
        "duration": 62,
        "start_time": "2023-03-22T18:18:27.922Z"
      },
      {
        "duration": 73,
        "start_time": "2023-03-22T18:18:41.184Z"
      },
      {
        "duration": 53,
        "start_time": "2023-03-22T18:18:44.234Z"
      },
      {
        "duration": 262,
        "start_time": "2023-03-22T18:19:02.587Z"
      },
      {
        "duration": 432,
        "start_time": "2023-03-22T18:19:32.341Z"
      },
      {
        "duration": 519,
        "start_time": "2023-03-22T18:19:52.357Z"
      },
      {
        "duration": 30,
        "start_time": "2023-03-22T18:21:16.634Z"
      },
      {
        "duration": 248,
        "start_time": "2023-03-22T18:23:49.328Z"
      },
      {
        "duration": 11,
        "start_time": "2023-03-22T18:28:06.258Z"
      },
      {
        "duration": 26,
        "start_time": "2023-03-22T18:28:14.335Z"
      },
      {
        "duration": 34,
        "start_time": "2023-03-22T18:28:36.873Z"
      },
      {
        "duration": 54,
        "start_time": "2023-03-22T18:29:45.115Z"
      },
      {
        "duration": 27,
        "start_time": "2023-03-22T18:30:13.029Z"
      },
      {
        "duration": 80,
        "start_time": "2023-03-22T18:31:59.537Z"
      },
      {
        "duration": 31,
        "start_time": "2023-03-22T18:32:42.530Z"
      },
      {
        "duration": 29,
        "start_time": "2023-03-22T18:33:26.236Z"
      },
      {
        "duration": 27,
        "start_time": "2023-03-22T18:33:38.650Z"
      },
      {
        "duration": 58,
        "start_time": "2023-03-22T18:34:51.964Z"
      },
      {
        "duration": 44,
        "start_time": "2023-03-22T18:39:30.143Z"
      },
      {
        "duration": 51,
        "start_time": "2023-03-22T18:39:49.947Z"
      },
      {
        "duration": 3,
        "start_time": "2023-03-22T18:40:35.056Z"
      },
      {
        "duration": 88,
        "start_time": "2023-03-22T18:41:07.951Z"
      },
      {
        "duration": 8,
        "start_time": "2023-03-22T18:41:48.938Z"
      },
      {
        "duration": 40,
        "start_time": "2023-03-22T18:41:52.127Z"
      },
      {
        "duration": 3,
        "start_time": "2023-03-22T18:41:57.857Z"
      },
      {
        "duration": 1063,
        "start_time": "2023-03-22T18:41:57.862Z"
      },
      {
        "duration": 14,
        "start_time": "2023-03-22T18:41:58.927Z"
      },
      {
        "duration": 125,
        "start_time": "2023-03-22T18:41:58.943Z"
      },
      {
        "duration": 33,
        "start_time": "2023-03-22T18:41:59.070Z"
      },
      {
        "duration": 13,
        "start_time": "2023-03-22T18:41:59.105Z"
      },
      {
        "duration": 7,
        "start_time": "2023-03-22T18:41:59.120Z"
      },
      {
        "duration": 30,
        "start_time": "2023-03-22T18:41:59.128Z"
      },
      {
        "duration": 526,
        "start_time": "2023-03-22T18:41:59.160Z"
      },
      {
        "duration": 34,
        "start_time": "2023-03-22T18:41:59.688Z"
      },
      {
        "duration": 32,
        "start_time": "2023-03-22T18:41:59.724Z"
      },
      {
        "duration": 194,
        "start_time": "2023-03-22T18:41:59.757Z"
      },
      {
        "duration": 365,
        "start_time": "2023-03-22T18:41:59.953Z"
      },
      {
        "duration": 220,
        "start_time": "2023-03-22T18:42:00.321Z"
      },
      {
        "duration": 13,
        "start_time": "2023-03-22T18:42:00.543Z"
      },
      {
        "duration": 47,
        "start_time": "2023-03-22T18:42:00.558Z"
      },
      {
        "duration": 135,
        "start_time": "2023-03-22T18:42:00.608Z"
      },
      {
        "duration": 119,
        "start_time": "2023-03-22T18:42:00.745Z"
      },
      {
        "duration": 39,
        "start_time": "2023-03-22T18:42:00.866Z"
      },
      {
        "duration": 315,
        "start_time": "2023-03-22T18:42:00.908Z"
      },
      {
        "duration": 551,
        "start_time": "2023-03-22T18:42:01.225Z"
      },
      {
        "duration": 53,
        "start_time": "2023-03-22T18:42:11.892Z"
      },
      {
        "duration": 50,
        "start_time": "2023-03-22T18:42:13.788Z"
      },
      {
        "duration": 45,
        "start_time": "2023-03-22T18:42:38.745Z"
      },
      {
        "duration": 3,
        "start_time": "2023-03-22T18:42:43.348Z"
      },
      {
        "duration": 1058,
        "start_time": "2023-03-22T18:42:43.353Z"
      },
      {
        "duration": 14,
        "start_time": "2023-03-22T18:42:44.413Z"
      },
      {
        "duration": 111,
        "start_time": "2023-03-22T18:42:44.429Z"
      },
      {
        "duration": 26,
        "start_time": "2023-03-22T18:42:44.544Z"
      },
      {
        "duration": 27,
        "start_time": "2023-03-22T18:42:44.572Z"
      },
      {
        "duration": 5,
        "start_time": "2023-03-22T18:42:44.606Z"
      },
      {
        "duration": 29,
        "start_time": "2023-03-22T18:42:44.613Z"
      },
      {
        "duration": 496,
        "start_time": "2023-03-22T18:42:44.643Z"
      },
      {
        "duration": 27,
        "start_time": "2023-03-22T18:42:45.141Z"
      },
      {
        "duration": 54,
        "start_time": "2023-03-22T18:42:45.170Z"
      },
      {
        "duration": 198,
        "start_time": "2023-03-22T18:42:45.225Z"
      },
      {
        "duration": 343,
        "start_time": "2023-03-22T18:42:45.424Z"
      },
      {
        "duration": 186,
        "start_time": "2023-03-22T18:42:45.769Z"
      },
      {
        "duration": 11,
        "start_time": "2023-03-22T18:42:45.957Z"
      },
      {
        "duration": 48,
        "start_time": "2023-03-22T18:42:45.969Z"
      },
      {
        "duration": 85,
        "start_time": "2023-03-22T18:42:46.020Z"
      },
      {
        "duration": 36,
        "start_time": "2023-03-22T18:42:46.108Z"
      },
      {
        "duration": 28,
        "start_time": "2023-03-22T18:42:46.145Z"
      },
      {
        "duration": 272,
        "start_time": "2023-03-22T18:42:46.175Z"
      },
      {
        "duration": 557,
        "start_time": "2023-03-22T18:42:46.449Z"
      },
      {
        "duration": 62,
        "start_time": "2023-03-22T18:42:49.563Z"
      },
      {
        "duration": 4,
        "start_time": "2023-03-22T18:43:17.595Z"
      },
      {
        "duration": 1101,
        "start_time": "2023-03-22T18:43:17.602Z"
      },
      {
        "duration": 16,
        "start_time": "2023-03-22T18:43:18.709Z"
      },
      {
        "duration": 107,
        "start_time": "2023-03-22T18:43:18.727Z"
      },
      {
        "duration": 26,
        "start_time": "2023-03-22T18:43:18.837Z"
      },
      {
        "duration": 9,
        "start_time": "2023-03-22T18:43:18.865Z"
      },
      {
        "duration": 6,
        "start_time": "2023-03-22T18:43:18.897Z"
      },
      {
        "duration": 41,
        "start_time": "2023-03-22T18:43:18.906Z"
      },
      {
        "duration": 528,
        "start_time": "2023-03-22T18:43:18.949Z"
      },
      {
        "duration": 34,
        "start_time": "2023-03-22T18:43:19.478Z"
      },
      {
        "duration": 31,
        "start_time": "2023-03-22T18:43:19.515Z"
      },
      {
        "duration": 201,
        "start_time": "2023-03-22T18:43:19.548Z"
      },
      {
        "duration": 359,
        "start_time": "2023-03-22T18:43:19.751Z"
      },
      {
        "duration": 188,
        "start_time": "2023-03-22T18:43:20.114Z"
      },
      {
        "duration": 13,
        "start_time": "2023-03-22T18:43:20.305Z"
      },
      {
        "duration": 25,
        "start_time": "2023-03-22T18:43:20.320Z"
      },
      {
        "duration": 111,
        "start_time": "2023-03-22T18:43:20.347Z"
      },
      {
        "duration": 60,
        "start_time": "2023-03-22T18:43:20.460Z"
      },
      {
        "duration": 37,
        "start_time": "2023-03-22T18:43:20.523Z"
      },
      {
        "duration": 340,
        "start_time": "2023-03-22T18:43:20.562Z"
      },
      {
        "duration": 565,
        "start_time": "2023-03-22T18:43:20.903Z"
      },
      {
        "duration": 58,
        "start_time": "2023-03-22T18:43:28.228Z"
      },
      {
        "duration": 53,
        "start_time": "2023-03-22T18:43:40.840Z"
      },
      {
        "duration": 3,
        "start_time": "2023-03-22T18:45:34.444Z"
      },
      {
        "duration": 1040,
        "start_time": "2023-03-22T18:45:34.449Z"
      },
      {
        "duration": 21,
        "start_time": "2023-03-22T18:45:35.491Z"
      },
      {
        "duration": 114,
        "start_time": "2023-03-22T18:45:35.513Z"
      },
      {
        "duration": 25,
        "start_time": "2023-03-22T18:45:35.629Z"
      },
      {
        "duration": 8,
        "start_time": "2023-03-22T18:45:35.656Z"
      },
      {
        "duration": 4,
        "start_time": "2023-03-22T18:45:35.665Z"
      },
      {
        "duration": 62,
        "start_time": "2023-03-22T18:45:35.671Z"
      },
      {
        "duration": 494,
        "start_time": "2023-03-22T18:45:35.735Z"
      },
      {
        "duration": 22,
        "start_time": "2023-03-22T18:45:36.230Z"
      },
      {
        "duration": 46,
        "start_time": "2023-03-22T18:45:36.254Z"
      },
      {
        "duration": 167,
        "start_time": "2023-03-22T18:45:36.309Z"
      },
      {
        "duration": 359,
        "start_time": "2023-03-22T18:45:36.478Z"
      },
      {
        "duration": 199,
        "start_time": "2023-03-22T18:45:36.840Z"
      },
      {
        "duration": 11,
        "start_time": "2023-03-22T18:45:37.041Z"
      },
      {
        "duration": 45,
        "start_time": "2023-03-22T18:45:37.054Z"
      },
      {
        "duration": 79,
        "start_time": "2023-03-22T18:45:37.100Z"
      },
      {
        "duration": 57,
        "start_time": "2023-03-22T18:45:37.180Z"
      },
      {
        "duration": 32,
        "start_time": "2023-03-22T18:45:37.239Z"
      },
      {
        "duration": 112,
        "start_time": "2023-03-22T18:45:54.136Z"
      },
      {
        "duration": 246,
        "start_time": "2023-03-22T18:46:07.165Z"
      },
      {
        "duration": 112,
        "start_time": "2023-03-22T18:46:20.242Z"
      },
      {
        "duration": 534,
        "start_time": "2023-03-22T18:46:31.643Z"
      },
      {
        "duration": 88,
        "start_time": "2023-03-22T18:46:39.872Z"
      },
      {
        "duration": 65,
        "start_time": "2023-03-22T18:46:42.255Z"
      },
      {
        "duration": 124,
        "start_time": "2023-03-22T18:46:58.961Z"
      },
      {
        "duration": 313,
        "start_time": "2023-03-22T18:47:06.511Z"
      },
      {
        "duration": 4,
        "start_time": "2023-03-22T18:54:32.093Z"
      },
      {
        "duration": 9,
        "start_time": "2023-03-22T18:55:27.773Z"
      },
      {
        "duration": 8,
        "start_time": "2023-03-22T18:56:23.281Z"
      },
      {
        "duration": 338,
        "start_time": "2023-03-22T18:56:36.901Z"
      },
      {
        "duration": 302,
        "start_time": "2023-03-22T18:57:11.029Z"
      },
      {
        "duration": 370,
        "start_time": "2023-03-22T18:57:15.880Z"
      },
      {
        "duration": 4,
        "start_time": "2023-03-22T18:57:38.836Z"
      },
      {
        "duration": 1083,
        "start_time": "2023-03-22T18:57:38.842Z"
      },
      {
        "duration": 21,
        "start_time": "2023-03-22T18:57:39.928Z"
      },
      {
        "duration": 135,
        "start_time": "2023-03-22T18:57:39.951Z"
      },
      {
        "duration": 37,
        "start_time": "2023-03-22T18:57:40.088Z"
      },
      {
        "duration": 9,
        "start_time": "2023-03-22T18:57:40.126Z"
      },
      {
        "duration": 4,
        "start_time": "2023-03-22T18:57:40.137Z"
      },
      {
        "duration": 62,
        "start_time": "2023-03-22T18:57:40.143Z"
      },
      {
        "duration": 614,
        "start_time": "2023-03-22T18:57:40.208Z"
      },
      {
        "duration": 28,
        "start_time": "2023-03-22T18:57:40.824Z"
      },
      {
        "duration": 45,
        "start_time": "2023-03-22T18:57:40.854Z"
      },
      {
        "duration": 15,
        "start_time": "2023-03-22T18:57:40.901Z"
      },
      {
        "duration": 30,
        "start_time": "2023-03-22T18:57:40.918Z"
      },
      {
        "duration": 12,
        "start_time": "2023-03-22T18:59:06.202Z"
      },
      {
        "duration": 3,
        "start_time": "2023-03-22T18:59:18.482Z"
      },
      {
        "duration": 972,
        "start_time": "2023-03-22T18:59:18.488Z"
      },
      {
        "duration": 13,
        "start_time": "2023-03-22T18:59:19.462Z"
      },
      {
        "duration": 117,
        "start_time": "2023-03-22T18:59:19.477Z"
      },
      {
        "duration": 36,
        "start_time": "2023-03-22T18:59:19.599Z"
      },
      {
        "duration": 10,
        "start_time": "2023-03-22T18:59:23.861Z"
      },
      {
        "duration": 38,
        "start_time": "2023-03-22T18:59:44.493Z"
      },
      {
        "duration": 505,
        "start_time": "2023-03-22T18:59:47.961Z"
      },
      {
        "duration": 36,
        "start_time": "2023-03-22T18:59:54.682Z"
      },
      {
        "duration": 38,
        "start_time": "2023-03-22T18:59:57.584Z"
      },
      {
        "duration": 14,
        "start_time": "2023-03-22T19:00:04.564Z"
      },
      {
        "duration": 29,
        "start_time": "2023-03-22T19:00:10.681Z"
      },
      {
        "duration": 353,
        "start_time": "2023-03-22T19:00:23.561Z"
      },
      {
        "duration": 26,
        "start_time": "2023-03-22T19:02:01.774Z"
      },
      {
        "duration": 23,
        "start_time": "2023-03-22T19:02:22.638Z"
      },
      {
        "duration": 178,
        "start_time": "2023-03-22T19:02:47.248Z"
      },
      {
        "duration": 273,
        "start_time": "2023-03-22T19:03:07.474Z"
      },
      {
        "duration": 297,
        "start_time": "2023-03-22T19:03:17.093Z"
      },
      {
        "duration": 1548,
        "start_time": "2023-03-22T19:03:20.772Z"
      },
      {
        "duration": 15206,
        "start_time": "2023-03-22T19:03:34.453Z"
      },
      {
        "duration": 3,
        "start_time": "2023-03-22T19:04:35.539Z"
      },
      {
        "duration": 1009,
        "start_time": "2023-03-22T19:04:35.544Z"
      },
      {
        "duration": 14,
        "start_time": "2023-03-22T19:04:36.554Z"
      },
      {
        "duration": 112,
        "start_time": "2023-03-22T19:04:36.569Z"
      },
      {
        "duration": 40,
        "start_time": "2023-03-22T19:04:36.683Z"
      },
      {
        "duration": 8,
        "start_time": "2023-03-22T19:04:36.725Z"
      },
      {
        "duration": 45,
        "start_time": "2023-03-22T19:04:36.735Z"
      },
      {
        "duration": 519,
        "start_time": "2023-03-22T19:04:36.782Z"
      },
      {
        "duration": 24,
        "start_time": "2023-03-22T19:04:37.304Z"
      },
      {
        "duration": 172,
        "start_time": "2023-03-22T19:04:39.710Z"
      },
      {
        "duration": 329,
        "start_time": "2023-03-22T19:04:52.458Z"
      },
      {
        "duration": 312,
        "start_time": "2023-03-22T19:05:21.534Z"
      },
      {
        "duration": 2156,
        "start_time": "2023-03-22T19:05:28.510Z"
      },
      {
        "duration": 1183,
        "start_time": "2023-03-23T10:15:28.699Z"
      },
      {
        "duration": 2647,
        "start_time": "2023-03-23T10:15:29.900Z"
      },
      {
        "duration": 36,
        "start_time": "2023-03-23T10:15:32.552Z"
      },
      {
        "duration": 212,
        "start_time": "2023-03-23T10:15:32.598Z"
      },
      {
        "duration": 61,
        "start_time": "2023-03-23T10:15:32.817Z"
      },
      {
        "duration": 143,
        "start_time": "2023-03-23T10:15:32.888Z"
      },
      {
        "duration": 59,
        "start_time": "2023-03-23T10:15:33.033Z"
      },
      {
        "duration": 670,
        "start_time": "2023-03-23T10:15:33.094Z"
      },
      {
        "duration": 25,
        "start_time": "2023-03-23T10:15:33.769Z"
      },
      {
        "duration": 1480,
        "start_time": "2023-03-23T10:15:33.799Z"
      },
      {
        "duration": 41,
        "start_time": "2023-03-23T10:15:35.286Z"
      },
      {
        "duration": 88,
        "start_time": "2023-03-23T10:15:35.331Z"
      },
      {
        "duration": 89,
        "start_time": "2023-03-23T10:15:35.422Z"
      },
      {
        "duration": 478,
        "start_time": "2023-03-23T10:15:35.520Z"
      },
      {
        "duration": 41,
        "start_time": "2023-03-23T10:16:42.637Z"
      },
      {
        "duration": 32,
        "start_time": "2023-03-23T10:16:49.836Z"
      },
      {
        "duration": 127,
        "start_time": "2023-03-23T10:17:20.814Z"
      },
      {
        "duration": 17,
        "start_time": "2023-03-23T10:17:39.834Z"
      },
      {
        "duration": 42,
        "start_time": "2023-03-23T10:17:53.053Z"
      },
      {
        "duration": 16,
        "start_time": "2023-03-23T10:18:27.417Z"
      },
      {
        "duration": 18,
        "start_time": "2023-03-23T10:18:58.605Z"
      },
      {
        "duration": 32,
        "start_time": "2023-03-23T10:19:17.385Z"
      },
      {
        "duration": 17,
        "start_time": "2023-03-23T10:20:29.616Z"
      },
      {
        "duration": 43,
        "start_time": "2023-03-23T10:20:46.353Z"
      },
      {
        "duration": 16,
        "start_time": "2023-03-23T10:20:55.414Z"
      },
      {
        "duration": 27,
        "start_time": "2023-03-23T10:20:58.489Z"
      },
      {
        "duration": 41,
        "start_time": "2023-03-23T10:21:10.241Z"
      },
      {
        "duration": 62,
        "start_time": "2023-03-23T10:21:35.435Z"
      },
      {
        "duration": 18,
        "start_time": "2023-03-23T10:22:01.889Z"
      },
      {
        "duration": 46,
        "start_time": "2023-03-23T10:22:55.555Z"
      },
      {
        "duration": 53,
        "start_time": "2023-03-23T10:24:15.045Z"
      },
      {
        "duration": 41,
        "start_time": "2023-03-23T10:24:33.244Z"
      },
      {
        "duration": 29,
        "start_time": "2023-03-23T10:24:40.720Z"
      },
      {
        "duration": 123,
        "start_time": "2023-03-23T10:25:14.388Z"
      },
      {
        "duration": 102,
        "start_time": "2023-03-23T10:26:58.534Z"
      },
      {
        "duration": 27,
        "start_time": "2023-03-23T10:29:14.619Z"
      },
      {
        "duration": 25,
        "start_time": "2023-03-23T10:29:30.815Z"
      },
      {
        "duration": 56,
        "start_time": "2023-03-23T10:32:14.818Z"
      },
      {
        "duration": 14,
        "start_time": "2023-03-23T10:32:22.139Z"
      },
      {
        "duration": 24,
        "start_time": "2023-03-23T10:32:37.095Z"
      },
      {
        "duration": 14,
        "start_time": "2023-03-23T10:33:42.042Z"
      },
      {
        "duration": 27,
        "start_time": "2023-03-23T10:35:04.691Z"
      },
      {
        "duration": 8,
        "start_time": "2023-03-23T10:37:41.702Z"
      },
      {
        "duration": 1030,
        "start_time": "2023-03-23T10:37:41.713Z"
      },
      {
        "duration": 11,
        "start_time": "2023-03-23T10:37:42.745Z"
      },
      {
        "duration": 176,
        "start_time": "2023-03-23T10:37:42.757Z"
      },
      {
        "duration": 22,
        "start_time": "2023-03-23T10:37:42.935Z"
      },
      {
        "duration": 55,
        "start_time": "2023-03-23T10:37:42.959Z"
      },
      {
        "duration": 27,
        "start_time": "2023-03-23T10:37:43.021Z"
      },
      {
        "duration": 495,
        "start_time": "2023-03-23T10:37:43.050Z"
      },
      {
        "duration": 57,
        "start_time": "2023-03-23T10:37:43.547Z"
      },
      {
        "duration": 1343,
        "start_time": "2023-03-23T10:37:43.621Z"
      },
      {
        "duration": 67,
        "start_time": "2023-03-23T10:37:44.968Z"
      },
      {
        "duration": 11,
        "start_time": "2023-03-23T10:37:45.036Z"
      },
      {
        "duration": 96,
        "start_time": "2023-03-23T10:37:45.049Z"
      },
      {
        "duration": 392,
        "start_time": "2023-03-23T10:37:45.146Z"
      },
      {
        "duration": 15,
        "start_time": "2023-03-23T10:37:45.539Z"
      },
      {
        "duration": 51,
        "start_time": "2023-03-23T10:37:45.555Z"
      },
      {
        "duration": 203,
        "start_time": "2023-03-23T10:37:45.619Z"
      },
      {
        "duration": 391,
        "start_time": "2023-03-23T10:37:45.824Z"
      },
      {
        "duration": 115,
        "start_time": "2023-03-23T10:37:46.218Z"
      },
      {
        "duration": 224,
        "start_time": "2023-03-23T10:38:09.214Z"
      },
      {
        "duration": 102,
        "start_time": "2023-03-23T10:38:13.933Z"
      },
      {
        "duration": 3,
        "start_time": "2023-03-23T10:44:57.020Z"
      },
      {
        "duration": 990,
        "start_time": "2023-03-23T10:44:57.041Z"
      },
      {
        "duration": 10,
        "start_time": "2023-03-23T10:44:58.033Z"
      },
      {
        "duration": 212,
        "start_time": "2023-03-23T10:44:58.044Z"
      },
      {
        "duration": 53,
        "start_time": "2023-03-23T10:44:58.257Z"
      },
      {
        "duration": 19,
        "start_time": "2023-03-23T10:44:58.320Z"
      },
      {
        "duration": 26,
        "start_time": "2023-03-23T10:44:58.341Z"
      },
      {
        "duration": 534,
        "start_time": "2023-03-23T10:44:58.368Z"
      },
      {
        "duration": 37,
        "start_time": "2023-03-23T10:44:58.904Z"
      },
      {
        "duration": 9,
        "start_time": "2023-03-23T10:46:04.131Z"
      },
      {
        "duration": 35,
        "start_time": "2023-03-23T10:48:09.402Z"
      },
      {
        "duration": 25,
        "start_time": "2023-03-23T10:48:16.807Z"
      },
      {
        "duration": 99,
        "start_time": "2023-03-23T10:49:20.046Z"
      },
      {
        "duration": 16,
        "start_time": "2023-03-23T10:49:26.192Z"
      },
      {
        "duration": 19,
        "start_time": "2023-03-23T10:49:52.104Z"
      },
      {
        "duration": 10,
        "start_time": "2023-03-23T10:50:09.392Z"
      },
      {
        "duration": 993,
        "start_time": "2023-03-23T10:50:09.404Z"
      },
      {
        "duration": 19,
        "start_time": "2023-03-23T10:50:10.399Z"
      },
      {
        "duration": 120,
        "start_time": "2023-03-23T10:50:10.420Z"
      },
      {
        "duration": 61,
        "start_time": "2023-03-23T10:50:10.543Z"
      },
      {
        "duration": 17,
        "start_time": "2023-03-23T10:50:10.615Z"
      },
      {
        "duration": 72,
        "start_time": "2023-03-23T10:50:10.634Z"
      },
      {
        "duration": 475,
        "start_time": "2023-03-23T10:50:10.708Z"
      },
      {
        "duration": 27,
        "start_time": "2023-03-23T10:50:11.185Z"
      },
      {
        "duration": 26,
        "start_time": "2023-03-23T10:50:11.213Z"
      },
      {
        "duration": 1360,
        "start_time": "2023-03-23T10:50:11.242Z"
      },
      {
        "duration": 34,
        "start_time": "2023-03-23T10:50:12.616Z"
      },
      {
        "duration": 45,
        "start_time": "2023-03-23T10:50:12.653Z"
      },
      {
        "duration": 37,
        "start_time": "2023-03-23T10:50:12.704Z"
      },
      {
        "duration": 377,
        "start_time": "2023-03-23T10:50:12.743Z"
      },
      {
        "duration": 12,
        "start_time": "2023-03-23T10:50:13.122Z"
      },
      {
        "duration": 9,
        "start_time": "2023-03-23T10:50:13.136Z"
      },
      {
        "duration": 60,
        "start_time": "2023-03-23T10:50:18.454Z"
      },
      {
        "duration": 212,
        "start_time": "2023-03-23T10:51:18.046Z"
      },
      {
        "duration": 477,
        "start_time": "2023-03-23T10:51:28.721Z"
      },
      {
        "duration": 4,
        "start_time": "2023-03-23T10:57:30.916Z"
      },
      {
        "duration": 215,
        "start_time": "2023-03-23T10:58:11.395Z"
      },
      {
        "duration": 127,
        "start_time": "2023-03-23T10:58:16.082Z"
      },
      {
        "duration": 55,
        "start_time": "2023-03-23T10:58:30.119Z"
      },
      {
        "duration": 32,
        "start_time": "2023-03-23T10:58:50.011Z"
      },
      {
        "duration": 272,
        "start_time": "2023-03-23T10:58:54.328Z"
      },
      {
        "duration": 540,
        "start_time": "2023-03-23T10:59:01.446Z"
      },
      {
        "duration": 52,
        "start_time": "2023-03-23T11:01:35.988Z"
      },
      {
        "duration": 227,
        "start_time": "2023-03-23T11:03:33.888Z"
      },
      {
        "duration": 513,
        "start_time": "2023-03-23T11:03:35.653Z"
      },
      {
        "duration": 91,
        "start_time": "2023-03-23T11:17:48.927Z"
      },
      {
        "duration": 71,
        "start_time": "2023-03-23T11:19:02.107Z"
      },
      {
        "duration": 95,
        "start_time": "2023-03-23T11:20:34.123Z"
      },
      {
        "duration": 141,
        "start_time": "2023-03-23T11:32:32.984Z"
      },
      {
        "duration": 136,
        "start_time": "2023-03-23T11:32:58.795Z"
      },
      {
        "duration": 1356,
        "start_time": "2023-03-23T11:36:49.130Z"
      },
      {
        "duration": 101,
        "start_time": "2023-03-23T11:36:56.053Z"
      },
      {
        "duration": 186,
        "start_time": "2023-03-23T11:37:15.357Z"
      },
      {
        "duration": 138,
        "start_time": "2023-03-23T11:38:18.296Z"
      },
      {
        "duration": 124,
        "start_time": "2023-03-23T11:39:27.846Z"
      },
      {
        "duration": 28,
        "start_time": "2023-03-23T11:40:13.485Z"
      },
      {
        "duration": 42,
        "start_time": "2023-03-23T11:41:29.586Z"
      },
      {
        "duration": 105,
        "start_time": "2023-03-23T11:42:27.589Z"
      },
      {
        "duration": 16,
        "start_time": "2023-03-23T11:43:56.558Z"
      },
      {
        "duration": 1206,
        "start_time": "2023-03-23T11:43:56.576Z"
      },
      {
        "duration": 34,
        "start_time": "2023-03-23T11:43:57.784Z"
      },
      {
        "duration": 109,
        "start_time": "2023-03-23T11:43:57.823Z"
      },
      {
        "duration": 45,
        "start_time": "2023-03-23T11:43:57.936Z"
      },
      {
        "duration": 9,
        "start_time": "2023-03-23T11:43:57.985Z"
      },
      {
        "duration": 41,
        "start_time": "2023-03-23T11:43:57.998Z"
      },
      {
        "duration": 589,
        "start_time": "2023-03-23T11:43:58.041Z"
      },
      {
        "duration": 21,
        "start_time": "2023-03-23T11:43:58.632Z"
      },
      {
        "duration": 13,
        "start_time": "2023-03-23T11:43:58.665Z"
      },
      {
        "duration": 1431,
        "start_time": "2023-03-23T11:43:58.680Z"
      },
      {
        "duration": 33,
        "start_time": "2023-03-23T11:44:00.113Z"
      },
      {
        "duration": 72,
        "start_time": "2023-03-23T11:44:00.148Z"
      },
      {
        "duration": 76,
        "start_time": "2023-03-23T11:44:00.222Z"
      },
      {
        "duration": 364,
        "start_time": "2023-03-23T11:44:00.299Z"
      },
      {
        "duration": 26,
        "start_time": "2023-03-23T11:44:00.668Z"
      },
      {
        "duration": 69,
        "start_time": "2023-03-23T11:44:00.698Z"
      },
      {
        "duration": 80,
        "start_time": "2023-03-23T11:44:00.771Z"
      },
      {
        "duration": 184,
        "start_time": "2023-03-23T11:44:00.853Z"
      },
      {
        "duration": 301,
        "start_time": "2023-03-23T11:44:01.039Z"
      },
      {
        "duration": 4,
        "start_time": "2023-03-23T11:44:01.342Z"
      },
      {
        "duration": 207,
        "start_time": "2023-03-23T11:44:01.347Z"
      },
      {
        "duration": 76,
        "start_time": "2023-03-23T11:44:01.555Z"
      },
      {
        "duration": 94,
        "start_time": "2023-03-23T11:44:01.632Z"
      },
      {
        "duration": 273,
        "start_time": "2023-03-23T11:44:01.727Z"
      },
      {
        "duration": 714,
        "start_time": "2023-03-23T11:44:02.008Z"
      },
      {
        "duration": 66,
        "start_time": "2023-03-23T11:44:02.724Z"
      },
      {
        "duration": 44,
        "start_time": "2023-03-23T11:44:02.792Z"
      },
      {
        "duration": 254,
        "start_time": "2023-03-23T11:44:02.838Z"
      },
      {
        "duration": 96,
        "start_time": "2023-03-23T11:52:12.139Z"
      },
      {
        "duration": 53,
        "start_time": "2023-03-23T11:52:22.216Z"
      },
      {
        "duration": 5,
        "start_time": "2023-03-23T11:52:26.088Z"
      },
      {
        "duration": 99,
        "start_time": "2023-03-23T12:06:21.155Z"
      },
      {
        "duration": 11,
        "start_time": "2023-03-23T12:07:04.284Z"
      },
      {
        "duration": 9,
        "start_time": "2023-03-23T12:07:15.569Z"
      },
      {
        "duration": 50,
        "start_time": "2023-03-23T12:07:20.501Z"
      },
      {
        "duration": 32,
        "start_time": "2023-03-23T12:29:34.427Z"
      },
      {
        "duration": 402,
        "start_time": "2023-03-23T12:41:36.599Z"
      },
      {
        "duration": 573,
        "start_time": "2023-03-23T12:41:46.685Z"
      },
      {
        "duration": 636,
        "start_time": "2023-03-23T12:42:56.589Z"
      },
      {
        "duration": 451,
        "start_time": "2023-03-23T12:43:13.742Z"
      },
      {
        "duration": 25,
        "start_time": "2023-03-23T13:23:07.618Z"
      },
      {
        "duration": 23,
        "start_time": "2023-03-23T13:23:14.990Z"
      },
      {
        "duration": 34,
        "start_time": "2023-03-23T13:24:32.604Z"
      },
      {
        "duration": 82,
        "start_time": "2023-03-23T13:24:41.632Z"
      },
      {
        "duration": 1573,
        "start_time": "2023-03-23T16:23:10.732Z"
      },
      {
        "duration": 3083,
        "start_time": "2023-03-23T16:23:12.307Z"
      },
      {
        "duration": 17,
        "start_time": "2023-03-23T16:23:15.392Z"
      },
      {
        "duration": 117,
        "start_time": "2023-03-23T16:23:15.411Z"
      },
      {
        "duration": 34,
        "start_time": "2023-03-23T16:23:15.531Z"
      },
      {
        "duration": 19,
        "start_time": "2023-03-23T16:23:15.566Z"
      },
      {
        "duration": 34,
        "start_time": "2023-03-23T16:23:15.586Z"
      },
      {
        "duration": 460,
        "start_time": "2023-03-23T16:23:15.622Z"
      },
      {
        "duration": 22,
        "start_time": "2023-03-23T16:23:16.084Z"
      },
      {
        "duration": 9,
        "start_time": "2023-03-23T16:23:16.108Z"
      },
      {
        "duration": 1476,
        "start_time": "2023-03-23T16:23:16.119Z"
      },
      {
        "duration": 32,
        "start_time": "2023-03-23T16:23:17.597Z"
      },
      {
        "duration": 11,
        "start_time": "2023-03-23T16:23:17.631Z"
      },
      {
        "duration": 45,
        "start_time": "2023-03-23T16:23:17.645Z"
      },
      {
        "duration": 295,
        "start_time": "2023-03-23T16:23:17.692Z"
      },
      {
        "duration": 16,
        "start_time": "2023-03-23T16:23:17.989Z"
      },
      {
        "duration": 9,
        "start_time": "2023-03-23T16:23:18.007Z"
      },
      {
        "duration": 21,
        "start_time": "2023-03-23T16:23:18.018Z"
      },
      {
        "duration": 189,
        "start_time": "2023-03-23T16:23:18.041Z"
      },
      {
        "duration": 290,
        "start_time": "2023-03-23T16:23:18.232Z"
      },
      {
        "duration": 4,
        "start_time": "2023-03-23T16:23:18.524Z"
      },
      {
        "duration": 155,
        "start_time": "2023-03-23T16:23:18.530Z"
      },
      {
        "duration": 59,
        "start_time": "2023-03-23T16:23:18.687Z"
      },
      {
        "duration": 50,
        "start_time": "2023-03-23T16:23:18.748Z"
      },
      {
        "duration": 246,
        "start_time": "2023-03-23T16:23:18.800Z"
      },
      {
        "duration": 463,
        "start_time": "2023-03-23T16:23:19.048Z"
      },
      {
        "duration": 49,
        "start_time": "2023-03-23T16:23:19.513Z"
      },
      {
        "duration": 66,
        "start_time": "2023-03-23T16:23:19.563Z"
      },
      {
        "duration": 270,
        "start_time": "2023-03-23T16:23:19.631Z"
      },
      {
        "duration": 93,
        "start_time": "2023-03-23T16:23:19.903Z"
      },
      {
        "duration": 56,
        "start_time": "2023-03-23T16:23:19.998Z"
      },
      {
        "duration": 19,
        "start_time": "2023-03-23T16:23:20.056Z"
      },
      {
        "duration": 65,
        "start_time": "2023-03-23T16:23:20.077Z"
      },
      {
        "duration": 13,
        "start_time": "2023-03-23T16:23:31.213Z"
      },
      {
        "duration": 32,
        "start_time": "2023-03-23T16:25:43.586Z"
      },
      {
        "duration": 32,
        "start_time": "2023-03-23T16:26:09.515Z"
      },
      {
        "duration": 1090,
        "start_time": "2023-03-23T16:29:48.512Z"
      },
      {
        "duration": 1084,
        "start_time": "2023-03-23T16:30:12.650Z"
      },
      {
        "duration": 1169,
        "start_time": "2023-03-23T16:30:38.625Z"
      },
      {
        "duration": 6,
        "start_time": "2023-03-23T16:33:34.723Z"
      },
      {
        "duration": 106,
        "start_time": "2023-03-23T16:38:49.651Z"
      },
      {
        "duration": 23,
        "start_time": "2023-03-23T16:38:56.732Z"
      },
      {
        "duration": 4,
        "start_time": "2023-03-23T16:39:03.899Z"
      },
      {
        "duration": 3,
        "start_time": "2023-03-23T16:39:16.076Z"
      },
      {
        "duration": 862,
        "start_time": "2023-03-23T16:39:16.082Z"
      },
      {
        "duration": 14,
        "start_time": "2023-03-23T16:39:16.946Z"
      },
      {
        "duration": 106,
        "start_time": "2023-03-23T16:39:16.962Z"
      },
      {
        "duration": 25,
        "start_time": "2023-03-23T16:39:17.075Z"
      },
      {
        "duration": 9,
        "start_time": "2023-03-23T16:39:17.101Z"
      },
      {
        "duration": 28,
        "start_time": "2023-03-23T16:39:17.112Z"
      },
      {
        "duration": 565,
        "start_time": "2023-03-23T16:39:17.142Z"
      },
      {
        "duration": 21,
        "start_time": "2023-03-23T16:39:17.708Z"
      },
      {
        "duration": 8,
        "start_time": "2023-03-23T16:39:17.731Z"
      },
      {
        "duration": 1475,
        "start_time": "2023-03-23T16:39:17.741Z"
      },
      {
        "duration": 32,
        "start_time": "2023-03-23T16:39:19.218Z"
      },
      {
        "duration": 26,
        "start_time": "2023-03-23T16:39:19.252Z"
      },
      {
        "duration": 27,
        "start_time": "2023-03-23T16:39:19.281Z"
      },
      {
        "duration": 297,
        "start_time": "2023-03-23T16:39:19.309Z"
      },
      {
        "duration": 15,
        "start_time": "2023-03-23T16:39:19.608Z"
      },
      {
        "duration": 9,
        "start_time": "2023-03-23T16:39:19.625Z"
      },
      {
        "duration": 48,
        "start_time": "2023-03-23T16:39:19.636Z"
      },
      {
        "duration": 174,
        "start_time": "2023-03-23T16:39:19.685Z"
      },
      {
        "duration": 282,
        "start_time": "2023-03-23T16:39:19.861Z"
      },
      {
        "duration": 4,
        "start_time": "2023-03-23T16:39:20.145Z"
      },
      {
        "duration": 165,
        "start_time": "2023-03-23T16:39:20.151Z"
      },
      {
        "duration": 67,
        "start_time": "2023-03-23T16:39:20.317Z"
      },
      {
        "duration": 36,
        "start_time": "2023-03-23T16:39:20.387Z"
      },
      {
        "duration": 236,
        "start_time": "2023-03-23T16:39:20.425Z"
      },
      {
        "duration": 453,
        "start_time": "2023-03-23T16:39:20.663Z"
      },
      {
        "duration": 46,
        "start_time": "2023-03-23T16:39:21.117Z"
      },
      {
        "duration": 71,
        "start_time": "2023-03-23T16:39:21.164Z"
      },
      {
        "duration": 255,
        "start_time": "2023-03-23T16:39:21.237Z"
      },
      {
        "duration": 65,
        "start_time": "2023-03-23T16:39:21.494Z"
      },
      {
        "duration": 66,
        "start_time": "2023-03-23T16:39:21.560Z"
      },
      {
        "duration": 5,
        "start_time": "2023-03-23T16:39:21.628Z"
      },
      {
        "duration": 77,
        "start_time": "2023-03-23T16:39:21.635Z"
      },
      {
        "duration": 35,
        "start_time": "2023-03-23T16:39:30.063Z"
      },
      {
        "duration": 28,
        "start_time": "2023-03-23T16:39:33.653Z"
      },
      {
        "duration": 1098,
        "start_time": "2023-03-23T16:39:37.382Z"
      },
      {
        "duration": 7,
        "start_time": "2023-03-23T16:51:56.795Z"
      },
      {
        "duration": 987,
        "start_time": "2023-03-23T16:51:56.804Z"
      },
      {
        "duration": 16,
        "start_time": "2023-03-23T16:51:57.792Z"
      },
      {
        "duration": 126,
        "start_time": "2023-03-23T16:51:57.809Z"
      },
      {
        "duration": 50,
        "start_time": "2023-03-23T16:51:57.937Z"
      },
      {
        "duration": 13,
        "start_time": "2023-03-23T16:51:57.990Z"
      },
      {
        "duration": 75,
        "start_time": "2023-03-23T16:51:58.005Z"
      },
      {
        "duration": 487,
        "start_time": "2023-03-23T16:51:58.082Z"
      },
      {
        "duration": 35,
        "start_time": "2023-03-23T16:51:58.570Z"
      },
      {
        "duration": 11,
        "start_time": "2023-03-23T16:51:58.607Z"
      },
      {
        "duration": 1618,
        "start_time": "2023-03-23T16:51:58.620Z"
      },
      {
        "duration": 39,
        "start_time": "2023-03-23T16:52:00.240Z"
      },
      {
        "duration": 18,
        "start_time": "2023-03-23T16:52:00.281Z"
      },
      {
        "duration": 33,
        "start_time": "2023-03-23T16:52:00.302Z"
      },
      {
        "duration": 338,
        "start_time": "2023-03-23T16:52:00.337Z"
      },
      {
        "duration": 22,
        "start_time": "2023-03-23T16:52:00.676Z"
      },
      {
        "duration": 12,
        "start_time": "2023-03-23T16:52:00.700Z"
      },
      {
        "duration": 22,
        "start_time": "2023-03-23T16:52:00.714Z"
      },
      {
        "duration": 203,
        "start_time": "2023-03-23T16:52:00.738Z"
      },
      {
        "duration": 319,
        "start_time": "2023-03-23T16:52:00.945Z"
      },
      {
        "duration": 15,
        "start_time": "2023-03-23T16:52:01.266Z"
      },
      {
        "duration": 158,
        "start_time": "2023-03-23T16:52:01.287Z"
      },
      {
        "duration": 68,
        "start_time": "2023-03-23T16:52:01.447Z"
      },
      {
        "duration": 77,
        "start_time": "2023-03-23T16:52:01.517Z"
      },
      {
        "duration": 231,
        "start_time": "2023-03-23T16:52:01.602Z"
      },
      {
        "duration": 514,
        "start_time": "2023-03-23T16:52:01.835Z"
      },
      {
        "duration": 73,
        "start_time": "2023-03-23T16:52:02.351Z"
      },
      {
        "duration": 70,
        "start_time": "2023-03-23T16:52:02.426Z"
      },
      {
        "duration": 311,
        "start_time": "2023-03-23T16:52:02.497Z"
      },
      {
        "duration": 89,
        "start_time": "2023-03-23T16:52:02.810Z"
      },
      {
        "duration": 55,
        "start_time": "2023-03-23T16:52:02.901Z"
      },
      {
        "duration": 4,
        "start_time": "2023-03-23T16:52:02.958Z"
      },
      {
        "duration": 80,
        "start_time": "2023-03-23T16:52:02.963Z"
      },
      {
        "duration": 50,
        "start_time": "2023-03-23T16:52:03.045Z"
      },
      {
        "duration": 28,
        "start_time": "2023-03-23T16:52:03.096Z"
      },
      {
        "duration": 1130,
        "start_time": "2023-03-23T16:53:03.591Z"
      },
      {
        "duration": 24,
        "start_time": "2023-03-23T16:53:49.491Z"
      },
      {
        "duration": 16,
        "start_time": "2023-03-23T17:15:16.557Z"
      },
      {
        "duration": 5,
        "start_time": "2023-03-23T17:17:20.096Z"
      },
      {
        "duration": 16,
        "start_time": "2023-03-23T17:17:28.437Z"
      },
      {
        "duration": 4,
        "start_time": "2023-03-23T17:18:32.691Z"
      },
      {
        "duration": 14,
        "start_time": "2023-03-23T17:18:49.668Z"
      },
      {
        "duration": 11,
        "start_time": "2023-03-23T17:19:25.764Z"
      },
      {
        "duration": 1599,
        "start_time": "2023-03-23T17:22:43.432Z"
      },
      {
        "duration": 1081,
        "start_time": "2023-03-23T17:22:45.033Z"
      },
      {
        "duration": 22,
        "start_time": "2023-03-23T17:22:46.116Z"
      },
      {
        "duration": 162,
        "start_time": "2023-03-23T17:22:46.140Z"
      },
      {
        "duration": 42,
        "start_time": "2023-03-23T17:22:46.304Z"
      },
      {
        "duration": 17,
        "start_time": "2023-03-23T17:22:46.348Z"
      },
      {
        "duration": 56,
        "start_time": "2023-03-23T17:22:46.366Z"
      },
      {
        "duration": 527,
        "start_time": "2023-03-23T17:22:46.424Z"
      },
      {
        "duration": 37,
        "start_time": "2023-03-23T17:22:46.953Z"
      },
      {
        "duration": 17,
        "start_time": "2023-03-23T17:22:46.992Z"
      },
      {
        "duration": 1587,
        "start_time": "2023-03-23T17:22:47.011Z"
      },
      {
        "duration": 33,
        "start_time": "2023-03-23T17:22:48.599Z"
      },
      {
        "duration": 11,
        "start_time": "2023-03-23T17:22:48.634Z"
      },
      {
        "duration": 49,
        "start_time": "2023-03-23T17:22:48.648Z"
      },
      {
        "duration": 339,
        "start_time": "2023-03-23T17:22:48.702Z"
      },
      {
        "duration": 16,
        "start_time": "2023-03-23T17:22:49.044Z"
      },
      {
        "duration": 28,
        "start_time": "2023-03-23T17:22:49.062Z"
      },
      {
        "duration": 23,
        "start_time": "2023-03-23T17:22:49.096Z"
      },
      {
        "duration": 190,
        "start_time": "2023-03-23T17:22:49.121Z"
      },
      {
        "duration": 308,
        "start_time": "2023-03-23T17:22:49.313Z"
      },
      {
        "duration": 4,
        "start_time": "2023-03-23T17:22:49.624Z"
      },
      {
        "duration": 184,
        "start_time": "2023-03-23T17:22:49.630Z"
      },
      {
        "duration": 64,
        "start_time": "2023-03-23T17:22:49.816Z"
      },
      {
        "duration": 40,
        "start_time": "2023-03-23T17:22:49.882Z"
      },
      {
        "duration": 260,
        "start_time": "2023-03-23T17:22:49.924Z"
      },
      {
        "duration": 523,
        "start_time": "2023-03-23T17:22:50.186Z"
      },
      {
        "duration": 48,
        "start_time": "2023-03-23T17:22:50.710Z"
      },
      {
        "duration": 76,
        "start_time": "2023-03-23T17:22:50.759Z"
      },
      {
        "duration": 298,
        "start_time": "2023-03-23T17:22:50.836Z"
      },
      {
        "duration": 84,
        "start_time": "2023-03-23T17:22:51.136Z"
      },
      {
        "duration": 59,
        "start_time": "2023-03-23T17:22:51.222Z"
      },
      {
        "duration": 5,
        "start_time": "2023-03-23T17:22:51.283Z"
      },
      {
        "duration": 67,
        "start_time": "2023-03-23T17:22:51.290Z"
      },
      {
        "duration": 36,
        "start_time": "2023-03-23T17:22:51.384Z"
      },
      {
        "duration": 29,
        "start_time": "2023-03-23T17:22:51.421Z"
      },
      {
        "duration": 1164,
        "start_time": "2023-03-23T17:22:51.452Z"
      },
      {
        "duration": 4,
        "start_time": "2023-03-23T17:23:21.502Z"
      },
      {
        "duration": 64590,
        "start_time": "2023-03-23T17:23:40.411Z"
      },
      {
        "duration": 64538,
        "start_time": "2023-03-23T17:25:49.440Z"
      },
      {
        "duration": 29448,
        "start_time": "2023-03-23T17:35:23.038Z"
      },
      {
        "duration": 26,
        "start_time": "2023-03-23T17:37:11.962Z"
      },
      {
        "duration": 29688,
        "start_time": "2023-03-23T17:37:44.695Z"
      },
      {
        "duration": 25,
        "start_time": "2023-03-23T17:53:29.598Z"
      },
      {
        "duration": 17,
        "start_time": "2023-03-23T17:58:17.140Z"
      },
      {
        "duration": 1975,
        "start_time": "2023-03-23T17:58:44.889Z"
      },
      {
        "duration": 1975,
        "start_time": "2023-03-23T17:58:55.841Z"
      },
      {
        "duration": 107009,
        "start_time": "2023-03-23T18:03:34.936Z"
      },
      {
        "duration": 1569,
        "start_time": "2023-03-23T18:07:04.838Z"
      },
      {
        "duration": 1057,
        "start_time": "2023-03-23T18:07:06.410Z"
      },
      {
        "duration": 42,
        "start_time": "2023-03-23T18:07:07.469Z"
      },
      {
        "duration": 171,
        "start_time": "2023-03-23T18:07:07.513Z"
      },
      {
        "duration": 45,
        "start_time": "2023-03-23T18:07:07.687Z"
      },
      {
        "duration": 14,
        "start_time": "2023-03-23T18:07:07.734Z"
      },
      {
        "duration": 71,
        "start_time": "2023-03-23T18:07:07.750Z"
      },
      {
        "duration": 610,
        "start_time": "2023-03-23T18:07:07.823Z"
      },
      {
        "duration": 24,
        "start_time": "2023-03-23T18:07:08.436Z"
      },
      {
        "duration": 16,
        "start_time": "2023-03-23T18:07:08.483Z"
      },
      {
        "duration": 1593,
        "start_time": "2023-03-23T18:07:08.503Z"
      },
      {
        "duration": 35,
        "start_time": "2023-03-23T18:07:10.099Z"
      },
      {
        "duration": 15,
        "start_time": "2023-03-23T18:07:10.135Z"
      },
      {
        "duration": 47,
        "start_time": "2023-03-23T18:07:10.176Z"
      },
      {
        "duration": 485,
        "start_time": "2023-03-23T18:07:10.225Z"
      },
      {
        "duration": 17,
        "start_time": "2023-03-23T18:07:10.712Z"
      },
      {
        "duration": 13,
        "start_time": "2023-03-23T18:07:10.731Z"
      },
      {
        "duration": 65,
        "start_time": "2023-03-23T18:07:10.746Z"
      },
      {
        "duration": 194,
        "start_time": "2023-03-23T18:07:10.813Z"
      },
      {
        "duration": 380,
        "start_time": "2023-03-23T18:07:11.010Z"
      },
      {
        "duration": 5,
        "start_time": "2023-03-23T18:07:11.401Z"
      },
      {
        "duration": 187,
        "start_time": "2023-03-23T18:07:11.408Z"
      },
      {
        "duration": 69,
        "start_time": "2023-03-23T18:07:11.597Z"
      },
      {
        "duration": 46,
        "start_time": "2023-03-23T18:07:11.679Z"
      },
      {
        "duration": 326,
        "start_time": "2023-03-23T18:07:11.727Z"
      },
      {
        "duration": 501,
        "start_time": "2023-03-23T18:07:12.055Z"
      },
      {
        "duration": 80,
        "start_time": "2023-03-23T18:07:12.558Z"
      },
      {
        "duration": 70,
        "start_time": "2023-03-23T18:07:12.640Z"
      },
      {
        "duration": 301,
        "start_time": "2023-03-23T18:07:12.712Z"
      },
      {
        "duration": 95,
        "start_time": "2023-03-23T18:07:13.016Z"
      },
      {
        "duration": 74,
        "start_time": "2023-03-23T18:07:13.113Z"
      },
      {
        "duration": 4,
        "start_time": "2023-03-23T18:07:13.196Z"
      },
      {
        "duration": 87,
        "start_time": "2023-03-23T18:07:13.202Z"
      },
      {
        "duration": 35,
        "start_time": "2023-03-23T18:07:13.294Z"
      },
      {
        "duration": 51,
        "start_time": "2023-03-23T18:07:13.331Z"
      },
      {
        "duration": 1200,
        "start_time": "2023-03-23T18:07:36.807Z"
      },
      {
        "duration": 1508,
        "start_time": "2023-03-23T18:09:06.006Z"
      },
      {
        "duration": 1051,
        "start_time": "2023-03-23T18:09:07.517Z"
      },
      {
        "duration": 21,
        "start_time": "2023-03-23T18:09:08.569Z"
      },
      {
        "duration": 123,
        "start_time": "2023-03-23T18:09:08.593Z"
      },
      {
        "duration": 38,
        "start_time": "2023-03-23T18:09:08.718Z"
      },
      {
        "duration": 36,
        "start_time": "2023-03-23T18:09:08.758Z"
      },
      {
        "duration": 38,
        "start_time": "2023-03-23T18:09:08.800Z"
      },
      {
        "duration": 496,
        "start_time": "2023-03-23T18:09:08.840Z"
      },
      {
        "duration": 23,
        "start_time": "2023-03-23T18:09:09.338Z"
      },
      {
        "duration": 19,
        "start_time": "2023-03-23T18:09:09.375Z"
      },
      {
        "duration": 1000,
        "start_time": "2023-03-23T18:09:09.396Z"
      },
      {
        "duration": 42,
        "start_time": "2023-03-23T18:09:10.406Z"
      },
      {
        "duration": 13,
        "start_time": "2023-03-23T18:09:10.450Z"
      },
      {
        "duration": 34,
        "start_time": "2023-03-23T18:09:10.466Z"
      },
      {
        "duration": 321,
        "start_time": "2023-03-23T18:09:10.502Z"
      },
      {
        "duration": 17,
        "start_time": "2023-03-23T18:09:10.825Z"
      },
      {
        "duration": 11,
        "start_time": "2023-03-23T18:09:10.844Z"
      },
      {
        "duration": 30,
        "start_time": "2023-03-23T18:09:10.877Z"
      },
      {
        "duration": 192,
        "start_time": "2023-03-23T18:09:10.909Z"
      },
      {
        "duration": 308,
        "start_time": "2023-03-23T18:09:11.103Z"
      },
      {
        "duration": 5,
        "start_time": "2023-03-23T18:09:11.413Z"
      },
      {
        "duration": 175,
        "start_time": "2023-03-23T18:09:11.420Z"
      },
      {
        "duration": 59,
        "start_time": "2023-03-23T18:09:11.597Z"
      },
      {
        "duration": 51,
        "start_time": "2023-03-23T18:09:11.658Z"
      },
      {
        "duration": 284,
        "start_time": "2023-03-23T18:09:11.711Z"
      },
      {
        "duration": 495,
        "start_time": "2023-03-23T18:09:11.997Z"
      },
      {
        "duration": 49,
        "start_time": "2023-03-23T18:09:12.496Z"
      },
      {
        "duration": 75,
        "start_time": "2023-03-23T18:09:12.547Z"
      },
      {
        "duration": 284,
        "start_time": "2023-03-23T18:09:12.624Z"
      },
      {
        "duration": 86,
        "start_time": "2023-03-23T18:09:12.910Z"
      },
      {
        "duration": 66,
        "start_time": "2023-03-23T18:09:12.998Z"
      },
      {
        "duration": 27,
        "start_time": "2023-03-23T18:09:13.066Z"
      },
      {
        "duration": 59,
        "start_time": "2023-03-23T18:09:13.095Z"
      },
      {
        "duration": 44,
        "start_time": "2023-03-23T18:09:13.156Z"
      },
      {
        "duration": 29,
        "start_time": "2023-03-23T18:09:13.202Z"
      },
      {
        "duration": 1223,
        "start_time": "2023-03-23T18:09:13.232Z"
      },
      {
        "duration": 46244,
        "start_time": "2023-03-23T18:09:14.457Z"
      },
      {
        "duration": 69,
        "start_time": "2023-03-23T18:10:00.705Z"
      },
      {
        "duration": 1300,
        "start_time": "2023-03-23T18:19:31.008Z"
      },
      {
        "duration": 101665,
        "start_time": "2023-03-23T18:19:44.980Z"
      },
      {
        "duration": 96445,
        "start_time": "2023-03-23T18:23:04.156Z"
      },
      {
        "duration": 98269,
        "start_time": "2023-03-23T18:27:38.348Z"
      },
      {
        "duration": 5,
        "start_time": "2023-03-23T19:28:32.114Z"
      },
      {
        "duration": 892,
        "start_time": "2023-03-23T19:28:32.121Z"
      },
      {
        "duration": 14,
        "start_time": "2023-03-23T19:28:33.015Z"
      },
      {
        "duration": 102,
        "start_time": "2023-03-23T19:28:33.031Z"
      },
      {
        "duration": 25,
        "start_time": "2023-03-23T19:28:33.136Z"
      },
      {
        "duration": 9,
        "start_time": "2023-03-23T19:28:33.174Z"
      },
      {
        "duration": 31,
        "start_time": "2023-03-23T19:28:33.184Z"
      },
      {
        "duration": 610,
        "start_time": "2023-03-23T19:28:33.216Z"
      },
      {
        "duration": 24,
        "start_time": "2023-03-23T19:28:33.828Z"
      },
      {
        "duration": 25,
        "start_time": "2023-03-23T19:28:33.853Z"
      },
      {
        "duration": 1685,
        "start_time": "2023-03-23T19:28:33.880Z"
      },
      {
        "duration": 37,
        "start_time": "2023-03-23T19:28:35.567Z"
      },
      {
        "duration": 15,
        "start_time": "2023-03-23T19:28:35.606Z"
      },
      {
        "duration": 52,
        "start_time": "2023-03-23T19:28:35.625Z"
      },
      {
        "duration": 298,
        "start_time": "2023-03-23T19:28:35.679Z"
      },
      {
        "duration": 17,
        "start_time": "2023-03-23T19:28:35.979Z"
      },
      {
        "duration": 11,
        "start_time": "2023-03-23T19:28:35.999Z"
      },
      {
        "duration": 24,
        "start_time": "2023-03-23T19:28:36.012Z"
      },
      {
        "duration": 198,
        "start_time": "2023-03-23T19:28:36.038Z"
      },
      {
        "duration": 274,
        "start_time": "2023-03-23T19:28:36.238Z"
      },
      {
        "duration": 5,
        "start_time": "2023-03-23T19:28:36.514Z"
      },
      {
        "duration": 148,
        "start_time": "2023-03-23T19:28:36.521Z"
      },
      {
        "duration": 59,
        "start_time": "2023-03-23T19:28:36.674Z"
      },
      {
        "duration": 48,
        "start_time": "2023-03-23T19:28:36.734Z"
      },
      {
        "duration": 224,
        "start_time": "2023-03-23T19:28:36.784Z"
      },
      {
        "duration": 465,
        "start_time": "2023-03-23T19:28:37.010Z"
      },
      {
        "duration": 51,
        "start_time": "2023-03-23T19:28:37.477Z"
      },
      {
        "duration": 85,
        "start_time": "2023-03-23T19:28:37.530Z"
      },
      {
        "duration": 259,
        "start_time": "2023-03-23T19:28:37.617Z"
      },
      {
        "duration": 68,
        "start_time": "2023-03-23T19:28:37.878Z"
      },
      {
        "duration": 59,
        "start_time": "2023-03-23T19:28:37.948Z"
      },
      {
        "duration": 4,
        "start_time": "2023-03-23T19:28:38.008Z"
      },
      {
        "duration": 74,
        "start_time": "2023-03-23T19:28:38.014Z"
      },
      {
        "duration": 30,
        "start_time": "2023-03-23T19:28:38.090Z"
      },
      {
        "duration": 28,
        "start_time": "2023-03-23T19:28:49.558Z"
      },
      {
        "duration": 22,
        "start_time": "2023-03-23T19:29:13.260Z"
      },
      {
        "duration": 1048,
        "start_time": "2023-03-23T19:30:18.618Z"
      },
      {
        "duration": 18447,
        "start_time": "2023-03-23T19:30:23.538Z"
      },
      {
        "duration": 191837,
        "start_time": "2023-03-23T19:42:34.593Z"
      },
      {
        "duration": 331267,
        "start_time": "2023-03-23T19:49:04.450Z"
      },
      {
        "duration": 6,
        "start_time": "2023-03-23T23:17:48.499Z"
      },
      {
        "duration": 807,
        "start_time": "2023-03-23T23:17:48.508Z"
      },
      {
        "duration": 15,
        "start_time": "2023-03-23T23:17:49.316Z"
      },
      {
        "duration": 97,
        "start_time": "2023-03-23T23:17:49.332Z"
      },
      {
        "duration": 23,
        "start_time": "2023-03-23T23:17:49.431Z"
      },
      {
        "duration": 64,
        "start_time": "2023-03-23T23:17:49.456Z"
      },
      {
        "duration": 33,
        "start_time": "2023-03-23T23:17:49.521Z"
      },
      {
        "duration": 402,
        "start_time": "2023-03-23T23:17:49.555Z"
      },
      {
        "duration": 34,
        "start_time": "2023-03-23T23:17:49.958Z"
      },
      {
        "duration": 9,
        "start_time": "2023-03-23T23:17:49.993Z"
      },
      {
        "duration": 1383,
        "start_time": "2023-03-23T23:17:50.003Z"
      },
      {
        "duration": 32,
        "start_time": "2023-03-23T23:17:51.388Z"
      },
      {
        "duration": 11,
        "start_time": "2023-03-23T23:17:51.421Z"
      },
      {
        "duration": 44,
        "start_time": "2023-03-23T23:17:51.435Z"
      },
      {
        "duration": 252,
        "start_time": "2023-03-23T23:17:51.481Z"
      },
      {
        "duration": 15,
        "start_time": "2023-03-23T23:17:51.735Z"
      },
      {
        "duration": 25,
        "start_time": "2023-03-23T23:17:51.752Z"
      },
      {
        "duration": 20,
        "start_time": "2023-03-23T23:17:51.778Z"
      },
      {
        "duration": 141,
        "start_time": "2023-03-23T23:17:51.799Z"
      },
      {
        "duration": 253,
        "start_time": "2023-03-23T23:17:51.941Z"
      },
      {
        "duration": 3,
        "start_time": "2023-03-23T23:17:52.196Z"
      },
      {
        "duration": 140,
        "start_time": "2023-03-23T23:17:52.201Z"
      },
      {
        "duration": 66,
        "start_time": "2023-03-23T23:17:52.343Z"
      },
      {
        "duration": 31,
        "start_time": "2023-03-23T23:17:52.411Z"
      },
      {
        "duration": 205,
        "start_time": "2023-03-23T23:17:52.443Z"
      },
      {
        "duration": 399,
        "start_time": "2023-03-23T23:17:52.649Z"
      },
      {
        "duration": 50,
        "start_time": "2023-03-23T23:17:53.049Z"
      },
      {
        "duration": 50,
        "start_time": "2023-03-23T23:17:53.101Z"
      },
      {
        "duration": 229,
        "start_time": "2023-03-23T23:17:53.152Z"
      },
      {
        "duration": 63,
        "start_time": "2023-03-23T23:17:53.383Z"
      },
      {
        "duration": 62,
        "start_time": "2023-03-23T23:17:53.448Z"
      },
      {
        "duration": 3,
        "start_time": "2023-03-23T23:17:53.512Z"
      },
      {
        "duration": 68,
        "start_time": "2023-03-23T23:17:53.517Z"
      },
      {
        "duration": 29,
        "start_time": "2023-03-23T23:17:53.587Z"
      },
      {
        "duration": 24,
        "start_time": "2023-03-23T23:17:53.617Z"
      },
      {
        "duration": 26,
        "start_time": "2023-03-23T23:18:41.987Z"
      },
      {
        "duration": 74,
        "start_time": "2023-03-23T23:18:48.463Z"
      },
      {
        "duration": 2513,
        "start_time": "2023-03-23T23:19:04.604Z"
      },
      {
        "duration": 2478,
        "start_time": "2023-03-23T23:23:18.536Z"
      },
      {
        "duration": 2640,
        "start_time": "2023-03-23T23:23:50.383Z"
      },
      {
        "duration": 2565,
        "start_time": "2023-03-23T23:24:01.852Z"
      },
      {
        "duration": 2463,
        "start_time": "2023-03-23T23:24:10.780Z"
      },
      {
        "duration": 2985,
        "start_time": "2023-03-23T23:26:24.875Z"
      },
      {
        "duration": 3096,
        "start_time": "2023-03-23T23:28:41.436Z"
      },
      {
        "duration": 3050,
        "start_time": "2023-03-23T23:28:53.016Z"
      },
      {
        "duration": 3015,
        "start_time": "2023-03-23T23:29:08.516Z"
      },
      {
        "duration": 3085,
        "start_time": "2023-03-23T23:29:18.875Z"
      },
      {
        "duration": 3200,
        "start_time": "2023-03-23T23:31:33.875Z"
      },
      {
        "duration": 3199,
        "start_time": "2023-03-23T23:31:45.296Z"
      },
      {
        "duration": 3169,
        "start_time": "2023-03-23T23:43:38.700Z"
      },
      {
        "duration": 10,
        "start_time": "2023-03-23T23:44:44.756Z"
      },
      {
        "duration": 17,
        "start_time": "2023-03-23T23:45:10.516Z"
      },
      {
        "duration": 8,
        "start_time": "2023-03-23T23:45:39.700Z"
      },
      {
        "duration": 3,
        "start_time": "2023-03-23T23:45:49.860Z"
      },
      {
        "duration": 3303,
        "start_time": "2023-03-23T23:46:01.673Z"
      },
      {
        "duration": 82659,
        "start_time": "2023-03-23T23:47:21.421Z"
      },
      {
        "duration": 150,
        "start_time": "2023-03-23T23:50:12.481Z"
      },
      {
        "duration": 18054,
        "start_time": "2023-03-23T23:52:57.021Z"
      },
      {
        "duration": 16404,
        "start_time": "2023-03-23T23:53:22.973Z"
      },
      {
        "duration": 16,
        "start_time": "2023-03-23T23:56:19.960Z"
      },
      {
        "duration": 33954,
        "start_time": "2023-03-23T23:56:33.921Z"
      },
      {
        "duration": 32590,
        "start_time": "2023-03-24T00:04:29.089Z"
      },
      {
        "duration": 54,
        "start_time": "2023-03-24T00:09:51.521Z"
      },
      {
        "duration": 4,
        "start_time": "2023-03-24T00:12:34.700Z"
      },
      {
        "duration": 16854,
        "start_time": "2023-03-24T00:15:08.922Z"
      },
      {
        "duration": 78,
        "start_time": "2023-03-24T00:17:08.762Z"
      },
      {
        "duration": 75,
        "start_time": "2023-03-24T00:17:34.641Z"
      },
      {
        "duration": 16993,
        "start_time": "2023-03-24T00:18:12.782Z"
      },
      {
        "duration": 16715,
        "start_time": "2023-03-24T00:18:38.361Z"
      },
      {
        "duration": 23,
        "start_time": "2023-03-24T00:22:32.501Z"
      },
      {
        "duration": 4,
        "start_time": "2023-03-24T00:35:05.931Z"
      },
      {
        "duration": 864,
        "start_time": "2023-03-24T00:35:05.937Z"
      },
      {
        "duration": 13,
        "start_time": "2023-03-24T00:35:06.802Z"
      },
      {
        "duration": 98,
        "start_time": "2023-03-24T00:35:06.817Z"
      },
      {
        "duration": 24,
        "start_time": "2023-03-24T00:35:06.917Z"
      },
      {
        "duration": 7,
        "start_time": "2023-03-24T00:35:06.943Z"
      },
      {
        "duration": 50,
        "start_time": "2023-03-24T00:35:06.952Z"
      },
      {
        "duration": 373,
        "start_time": "2023-03-24T00:35:07.004Z"
      },
      {
        "duration": 21,
        "start_time": "2023-03-24T00:35:07.378Z"
      },
      {
        "duration": 9,
        "start_time": "2023-03-24T00:35:07.400Z"
      },
      {
        "duration": 1323,
        "start_time": "2023-03-24T00:35:07.410Z"
      },
      {
        "duration": 30,
        "start_time": "2023-03-24T00:35:08.735Z"
      },
      {
        "duration": 11,
        "start_time": "2023-03-24T00:35:08.774Z"
      },
      {
        "duration": 24,
        "start_time": "2023-03-24T00:35:08.788Z"
      },
      {
        "duration": 262,
        "start_time": "2023-03-24T00:35:08.814Z"
      },
      {
        "duration": 17,
        "start_time": "2023-03-24T00:35:09.078Z"
      },
      {
        "duration": 12,
        "start_time": "2023-03-24T00:35:09.097Z"
      },
      {
        "duration": 21,
        "start_time": "2023-03-24T00:35:09.110Z"
      },
      {
        "duration": 157,
        "start_time": "2023-03-24T00:35:09.133Z"
      },
      {
        "duration": 248,
        "start_time": "2023-03-24T00:35:09.292Z"
      },
      {
        "duration": 5,
        "start_time": "2023-03-24T00:35:09.542Z"
      },
      {
        "duration": 142,
        "start_time": "2023-03-24T00:35:09.549Z"
      },
      {
        "duration": 50,
        "start_time": "2023-03-24T00:35:09.693Z"
      },
      {
        "duration": 45,
        "start_time": "2023-03-24T00:35:09.744Z"
      },
      {
        "duration": 193,
        "start_time": "2023-03-24T00:35:09.791Z"
      },
      {
        "duration": 409,
        "start_time": "2023-03-24T00:35:09.986Z"
      },
      {
        "duration": 47,
        "start_time": "2023-03-24T00:35:10.397Z"
      },
      {
        "duration": 61,
        "start_time": "2023-03-24T00:35:10.446Z"
      },
      {
        "duration": 231,
        "start_time": "2023-03-24T00:35:10.509Z"
      },
      {
        "duration": 69,
        "start_time": "2023-03-24T00:35:10.741Z"
      },
      {
        "duration": 48,
        "start_time": "2023-03-24T00:35:10.812Z"
      },
      {
        "duration": 15,
        "start_time": "2023-03-24T00:35:10.861Z"
      },
      {
        "duration": 63,
        "start_time": "2023-03-24T00:35:10.878Z"
      },
      {
        "duration": 33,
        "start_time": "2023-03-24T00:35:10.942Z"
      },
      {
        "duration": 24,
        "start_time": "2023-03-24T00:35:10.977Z"
      },
      {
        "duration": 3128,
        "start_time": "2023-03-24T00:35:22.486Z"
      },
      {
        "duration": 11,
        "start_time": "2023-03-24T00:40:09.339Z"
      },
      {
        "duration": 83995,
        "start_time": "2023-03-24T00:40:22.588Z"
      },
      {
        "duration": 14770,
        "start_time": "2023-03-24T00:48:44.188Z"
      },
      {
        "duration": 15253,
        "start_time": "2023-03-24T00:50:45.907Z"
      },
      {
        "duration": 17084,
        "start_time": "2023-03-24T00:52:26.792Z"
      },
      {
        "duration": 14816,
        "start_time": "2023-03-24T00:54:00.583Z"
      },
      {
        "duration": 319411,
        "start_time": "2023-03-24T00:54:23.776Z"
      },
      {
        "duration": 24,
        "start_time": "2023-03-24T01:03:31.384Z"
      },
      {
        "duration": 11,
        "start_time": "2023-03-24T01:05:42.696Z"
      },
      {
        "duration": 1063,
        "start_time": "2023-03-24T01:06:58.656Z"
      },
      {
        "duration": 5,
        "start_time": "2023-03-24T01:14:30.605Z"
      },
      {
        "duration": 11,
        "start_time": "2023-03-24T01:18:00.497Z"
      },
      {
        "duration": 533,
        "start_time": "2023-03-24T01:18:34.836Z"
      },
      {
        "duration": 5,
        "start_time": "2023-03-24T01:21:36.844Z"
      },
      {
        "duration": 1572,
        "start_time": "2023-03-26T05:12:51.941Z"
      },
      {
        "duration": 996,
        "start_time": "2023-03-26T05:12:54.351Z"
      },
      {
        "duration": 18,
        "start_time": "2023-03-26T05:12:55.957Z"
      },
      {
        "duration": 92,
        "start_time": "2023-03-26T05:12:56.992Z"
      },
      {
        "duration": 11,
        "start_time": "2023-03-26T05:14:16.014Z"
      },
      {
        "duration": 50,
        "start_time": "2023-03-26T05:14:27.473Z"
      },
      {
        "duration": 488,
        "start_time": "2023-03-26T05:14:41.770Z"
      },
      {
        "duration": 397,
        "start_time": "2023-03-26T05:15:04.495Z"
      },
      {
        "duration": 29,
        "start_time": "2023-03-26T05:15:39.382Z"
      },
      {
        "duration": 12,
        "start_time": "2023-03-26T05:15:45.469Z"
      },
      {
        "duration": 1375,
        "start_time": "2023-03-26T05:15:46.548Z"
      },
      {
        "duration": 1414,
        "start_time": "2023-03-26T05:15:54.595Z"
      },
      {
        "duration": 54,
        "start_time": "2023-03-26T05:16:00.518Z"
      },
      {
        "duration": 17,
        "start_time": "2023-03-26T05:16:35.885Z"
      },
      {
        "duration": 48,
        "start_time": "2023-03-26T05:16:51.615Z"
      },
      {
        "duration": 313,
        "start_time": "2023-03-26T05:16:57.012Z"
      },
      {
        "duration": 25,
        "start_time": "2023-03-26T05:17:47.279Z"
      },
      {
        "duration": 14,
        "start_time": "2023-03-26T05:17:58.183Z"
      },
      {
        "duration": 44,
        "start_time": "2023-03-26T05:18:20.893Z"
      },
      {
        "duration": 393,
        "start_time": "2023-03-26T05:18:56.212Z"
      },
      {
        "duration": 385,
        "start_time": "2023-03-26T05:19:11.559Z"
      },
      {
        "duration": 874,
        "start_time": "2023-03-26T05:19:14.571Z"
      },
      {
        "duration": 4,
        "start_time": "2023-03-26T05:19:25.735Z"
      },
      {
        "duration": 175,
        "start_time": "2023-03-26T05:19:35.552Z"
      },
      {
        "duration": 132,
        "start_time": "2023-03-26T05:19:42.317Z"
      },
      {
        "duration": 59,
        "start_time": "2023-03-26T05:20:35.334Z"
      },
      {
        "duration": 253,
        "start_time": "2023-03-26T05:21:40.283Z"
      },
      {
        "duration": 7,
        "start_time": "2023-03-26T05:21:42.449Z"
      },
      {
        "duration": 763,
        "start_time": "2023-03-26T05:22:12.235Z"
      },
      {
        "duration": 63,
        "start_time": "2023-03-26T05:22:43.768Z"
      },
      {
        "duration": 88,
        "start_time": "2023-03-26T05:23:25.152Z"
      },
      {
        "duration": 337,
        "start_time": "2023-03-26T05:23:36.611Z"
      },
      {
        "duration": 605,
        "start_time": "2023-03-26T05:25:04.315Z"
      },
      {
        "duration": 73,
        "start_time": "2023-03-26T05:25:06.253Z"
      },
      {
        "duration": 10,
        "start_time": "2023-03-26T05:25:51.423Z"
      },
      {
        "duration": 129,
        "start_time": "2023-03-26T05:25:54.723Z"
      },
      {
        "duration": 5,
        "start_time": "2023-03-26T05:25:58.527Z"
      },
      {
        "duration": 5,
        "start_time": "2023-03-26T05:26:03.727Z"
      },
      {
        "duration": 900,
        "start_time": "2023-03-26T05:26:03.735Z"
      },
      {
        "duration": 23,
        "start_time": "2023-03-26T05:26:04.637Z"
      },
      {
        "duration": 116,
        "start_time": "2023-03-26T05:26:04.662Z"
      },
      {
        "duration": 24,
        "start_time": "2023-03-26T05:26:04.780Z"
      },
      {
        "duration": 12,
        "start_time": "2023-03-26T05:26:04.817Z"
      },
      {
        "duration": 33,
        "start_time": "2023-03-26T05:26:04.831Z"
      },
      {
        "duration": 533,
        "start_time": "2023-03-26T05:26:04.866Z"
      },
      {
        "duration": 44,
        "start_time": "2023-03-26T05:26:05.402Z"
      },
      {
        "duration": 12,
        "start_time": "2023-03-26T05:26:05.448Z"
      },
      {
        "duration": 1541,
        "start_time": "2023-03-26T05:26:05.463Z"
      },
      {
        "duration": 37,
        "start_time": "2023-03-26T05:26:07.006Z"
      },
      {
        "duration": 12,
        "start_time": "2023-03-26T05:26:07.045Z"
      },
      {
        "duration": 27,
        "start_time": "2023-03-26T05:26:07.060Z"
      },
      {
        "duration": 368,
        "start_time": "2023-03-26T05:26:07.089Z"
      },
      {
        "duration": 19,
        "start_time": "2023-03-26T05:26:07.460Z"
      },
      {
        "duration": 10,
        "start_time": "2023-03-26T05:26:07.481Z"
      },
      {
        "duration": 44,
        "start_time": "2023-03-26T05:26:07.493Z"
      },
      {
        "duration": 177,
        "start_time": "2023-03-26T05:26:07.539Z"
      },
      {
        "duration": 305,
        "start_time": "2023-03-26T05:26:07.718Z"
      },
      {
        "duration": 4,
        "start_time": "2023-03-26T05:26:08.025Z"
      },
      {
        "duration": 157,
        "start_time": "2023-03-26T05:26:08.031Z"
      },
      {
        "duration": 71,
        "start_time": "2023-03-26T05:26:08.189Z"
      },
      {
        "duration": 52,
        "start_time": "2023-03-26T05:26:08.262Z"
      },
      {
        "duration": 197,
        "start_time": "2023-03-26T05:26:08.316Z"
      },
      {
        "duration": 454,
        "start_time": "2023-03-26T05:26:08.518Z"
      },
      {
        "duration": 55,
        "start_time": "2023-03-26T05:26:08.974Z"
      },
      {
        "duration": 50,
        "start_time": "2023-03-26T05:26:09.031Z"
      },
      {
        "duration": 260,
        "start_time": "2023-03-26T05:26:09.083Z"
      },
      {
        "duration": 73,
        "start_time": "2023-03-26T05:26:09.345Z"
      },
      {
        "duration": 61,
        "start_time": "2023-03-26T05:26:09.420Z"
      },
      {
        "duration": 4,
        "start_time": "2023-03-26T05:26:09.483Z"
      },
      {
        "duration": 4,
        "start_time": "2023-03-26T05:26:12.522Z"
      },
      {
        "duration": 64,
        "start_time": "2023-03-26T05:26:15.735Z"
      },
      {
        "duration": 29,
        "start_time": "2023-03-26T05:26:36.108Z"
      },
      {
        "duration": 25,
        "start_time": "2023-03-26T05:26:40.326Z"
      },
      {
        "duration": 6,
        "start_time": "2023-03-26T05:35:02.308Z"
      },
      {
        "duration": 1106,
        "start_time": "2023-03-26T05:35:02.317Z"
      },
      {
        "duration": 14,
        "start_time": "2023-03-26T05:35:03.425Z"
      },
      {
        "duration": 115,
        "start_time": "2023-03-26T05:35:03.442Z"
      },
      {
        "duration": 30,
        "start_time": "2023-03-26T05:35:03.559Z"
      },
      {
        "duration": 28,
        "start_time": "2023-03-26T05:35:03.591Z"
      },
      {
        "duration": 33,
        "start_time": "2023-03-26T05:35:03.621Z"
      },
      {
        "duration": 473,
        "start_time": "2023-03-26T05:35:03.655Z"
      },
      {
        "duration": 21,
        "start_time": "2023-03-26T05:35:04.129Z"
      },
      {
        "duration": 8,
        "start_time": "2023-03-26T05:35:04.153Z"
      },
      {
        "duration": 1486,
        "start_time": "2023-03-26T05:35:04.163Z"
      },
      {
        "duration": 31,
        "start_time": "2023-03-26T05:35:05.651Z"
      },
      {
        "duration": 11,
        "start_time": "2023-03-26T05:35:05.683Z"
      },
      {
        "duration": 47,
        "start_time": "2023-03-26T05:35:05.696Z"
      },
      {
        "duration": 342,
        "start_time": "2023-03-26T05:35:05.745Z"
      },
      {
        "duration": 17,
        "start_time": "2023-03-26T05:35:06.089Z"
      },
      {
        "duration": 11,
        "start_time": "2023-03-26T05:35:06.117Z"
      },
      {
        "duration": 37,
        "start_time": "2023-03-26T05:35:06.130Z"
      },
      {
        "duration": 200,
        "start_time": "2023-03-26T05:35:06.169Z"
      },
      {
        "duration": 323,
        "start_time": "2023-03-26T05:35:06.371Z"
      },
      {
        "duration": 4,
        "start_time": "2023-03-26T05:35:06.696Z"
      },
      {
        "duration": 192,
        "start_time": "2023-03-26T05:35:06.701Z"
      },
      {
        "duration": 79,
        "start_time": "2023-03-26T05:35:06.895Z"
      },
      {
        "duration": 47,
        "start_time": "2023-03-26T05:35:06.976Z"
      },
      {
        "duration": 246,
        "start_time": "2023-03-26T05:35:07.025Z"
      },
      {
        "duration": 461,
        "start_time": "2023-03-26T05:35:07.273Z"
      },
      {
        "duration": 52,
        "start_time": "2023-03-26T05:35:07.736Z"
      },
      {
        "duration": 79,
        "start_time": "2023-03-26T05:35:07.792Z"
      },
      {
        "duration": 292,
        "start_time": "2023-03-26T05:35:07.873Z"
      },
      {
        "duration": 633,
        "start_time": "2023-03-26T05:35:29.156Z"
      },
      {
        "duration": 41,
        "start_time": "2023-03-26T05:35:37.225Z"
      },
      {
        "duration": 5,
        "start_time": "2023-03-26T05:36:08.129Z"
      },
      {
        "duration": 70,
        "start_time": "2023-03-26T05:36:09.898Z"
      },
      {
        "duration": 65,
        "start_time": "2023-03-26T05:36:10.668Z"
      },
      {
        "duration": 3,
        "start_time": "2023-03-26T05:36:13.437Z"
      },
      {
        "duration": 68,
        "start_time": "2023-03-26T05:36:15.237Z"
      },
      {
        "duration": 30,
        "start_time": "2023-03-26T05:36:18.609Z"
      },
      {
        "duration": 34,
        "start_time": "2023-03-26T05:36:20.443Z"
      },
      {
        "duration": 122,
        "start_time": "2023-03-26T05:37:42.728Z"
      },
      {
        "duration": 21,
        "start_time": "2023-03-26T05:37:49.654Z"
      },
      {
        "duration": 3776,
        "start_time": "2023-03-26T05:39:30.244Z"
      },
      {
        "duration": 5,
        "start_time": "2023-03-26T05:39:44.960Z"
      },
      {
        "duration": 4,
        "start_time": "2023-03-26T05:39:56.782Z"
      },
      {
        "duration": 6,
        "start_time": "2023-03-26T05:40:00.613Z"
      },
      {
        "duration": 5,
        "start_time": "2023-03-26T05:40:04.260Z"
      },
      {
        "duration": 2301,
        "start_time": "2023-03-26T11:26:06.889Z"
      },
      {
        "duration": 3602,
        "start_time": "2023-03-26T11:26:09.192Z"
      },
      {
        "duration": 18,
        "start_time": "2023-03-26T11:26:12.796Z"
      },
      {
        "duration": 103,
        "start_time": "2023-03-26T11:26:12.816Z"
      },
      {
        "duration": 47,
        "start_time": "2023-03-26T11:26:12.922Z"
      },
      {
        "duration": 60,
        "start_time": "2023-03-26T11:26:12.971Z"
      },
      {
        "duration": 39,
        "start_time": "2023-03-26T11:26:13.032Z"
      },
      {
        "duration": 542,
        "start_time": "2023-03-26T11:26:13.074Z"
      },
      {
        "duration": 21,
        "start_time": "2023-03-26T11:26:13.617Z"
      },
      {
        "duration": 14,
        "start_time": "2023-03-26T11:26:13.639Z"
      },
      {
        "duration": 1556,
        "start_time": "2023-03-26T11:26:13.662Z"
      },
      {
        "duration": 32,
        "start_time": "2023-03-26T11:26:15.219Z"
      },
      {
        "duration": 24,
        "start_time": "2023-03-26T11:26:15.262Z"
      },
      {
        "duration": 24,
        "start_time": "2023-03-26T11:26:15.291Z"
      },
      {
        "duration": 357,
        "start_time": "2023-03-26T11:26:15.316Z"
      },
      {
        "duration": 19,
        "start_time": "2023-03-26T11:26:15.675Z"
      },
      {
        "duration": 9,
        "start_time": "2023-03-26T11:26:15.695Z"
      },
      {
        "duration": 20,
        "start_time": "2023-03-26T11:26:15.706Z"
      },
      {
        "duration": 217,
        "start_time": "2023-03-26T11:26:15.727Z"
      },
      {
        "duration": 346,
        "start_time": "2023-03-26T11:26:15.946Z"
      },
      {
        "duration": 3,
        "start_time": "2023-03-26T11:26:16.295Z"
      },
      {
        "duration": 173,
        "start_time": "2023-03-26T11:26:16.300Z"
      },
      {
        "duration": 70,
        "start_time": "2023-03-26T11:26:16.478Z"
      },
      {
        "duration": 59,
        "start_time": "2023-03-26T11:26:16.550Z"
      },
      {
        "duration": 240,
        "start_time": "2023-03-26T11:26:16.611Z"
      },
      {
        "duration": 662,
        "start_time": "2023-03-26T11:26:16.853Z"
      },
      {
        "duration": 55,
        "start_time": "2023-03-26T11:26:17.517Z"
      },
      {
        "duration": 61,
        "start_time": "2023-03-26T11:26:17.574Z"
      },
      {
        "duration": 293,
        "start_time": "2023-03-26T11:26:17.636Z"
      },
      {
        "duration": 79,
        "start_time": "2023-03-26T11:26:17.931Z"
      },
      {
        "duration": 88,
        "start_time": "2023-03-26T11:26:18.012Z"
      },
      {
        "duration": 4,
        "start_time": "2023-03-26T11:26:18.101Z"
      },
      {
        "duration": 89,
        "start_time": "2023-03-26T11:26:18.106Z"
      },
      {
        "duration": 31,
        "start_time": "2023-03-26T11:26:18.197Z"
      },
      {
        "duration": 39,
        "start_time": "2023-03-26T11:26:18.229Z"
      },
      {
        "duration": 4240,
        "start_time": "2023-03-26T11:26:18.274Z"
      },
      {
        "duration": 90,
        "start_time": "2023-03-26T11:26:32.459Z"
      },
      {
        "duration": 148944,
        "start_time": "2023-03-26T11:29:04.043Z"
      },
      {
        "duration": 145936,
        "start_time": "2023-03-26T11:33:14.529Z"
      },
      {
        "duration": 143473,
        "start_time": "2023-03-26T11:50:44.509Z"
      },
      {
        "duration": 84377,
        "start_time": "2023-03-26T11:59:27.407Z"
      },
      {
        "duration": 86004,
        "start_time": "2023-03-26T12:07:14.362Z"
      },
      {
        "duration": 92,
        "start_time": "2023-03-26T12:18:29.150Z"
      },
      {
        "duration": 9791,
        "start_time": "2023-03-26T12:19:35.097Z"
      },
      {
        "duration": 10519,
        "start_time": "2023-03-26T12:29:20.903Z"
      },
      {
        "duration": 9535,
        "start_time": "2023-03-26T12:30:23.814Z"
      },
      {
        "duration": 9813,
        "start_time": "2023-03-26T12:31:11.011Z"
      },
      {
        "duration": 102,
        "start_time": "2023-03-26T12:36:09.310Z"
      },
      {
        "duration": 1592,
        "start_time": "2023-03-26T12:46:38.303Z"
      },
      {
        "duration": 1144,
        "start_time": "2023-03-26T12:46:39.898Z"
      },
      {
        "duration": 33,
        "start_time": "2023-03-26T12:46:41.044Z"
      },
      {
        "duration": 155,
        "start_time": "2023-03-26T12:46:41.083Z"
      },
      {
        "duration": 48,
        "start_time": "2023-03-26T12:46:41.241Z"
      },
      {
        "duration": 12,
        "start_time": "2023-03-26T12:46:41.291Z"
      },
      {
        "duration": 35,
        "start_time": "2023-03-26T12:46:41.304Z"
      },
      {
        "duration": 564,
        "start_time": "2023-03-26T12:46:41.341Z"
      },
      {
        "duration": 25,
        "start_time": "2023-03-26T12:46:41.906Z"
      },
      {
        "duration": 8,
        "start_time": "2023-03-26T12:46:41.932Z"
      },
      {
        "duration": 1560,
        "start_time": "2023-03-26T12:46:41.942Z"
      },
      {
        "duration": 35,
        "start_time": "2023-03-26T12:46:43.504Z"
      },
      {
        "duration": 34,
        "start_time": "2023-03-26T12:46:43.540Z"
      },
      {
        "duration": 40,
        "start_time": "2023-03-26T12:46:43.582Z"
      },
      {
        "duration": 386,
        "start_time": "2023-03-26T12:46:43.624Z"
      },
      {
        "duration": 20,
        "start_time": "2023-03-26T12:46:44.012Z"
      },
      {
        "duration": 30,
        "start_time": "2023-03-26T12:46:44.034Z"
      },
      {
        "duration": 36,
        "start_time": "2023-03-26T12:46:44.071Z"
      },
      {
        "duration": 239,
        "start_time": "2023-03-26T12:46:44.110Z"
      },
      {
        "duration": 394,
        "start_time": "2023-03-26T12:46:44.351Z"
      },
      {
        "duration": 5,
        "start_time": "2023-03-26T12:46:44.747Z"
      },
      {
        "duration": 190,
        "start_time": "2023-03-26T12:46:44.764Z"
      },
      {
        "duration": 91,
        "start_time": "2023-03-26T12:46:44.956Z"
      },
      {
        "duration": 69,
        "start_time": "2023-03-26T12:46:45.049Z"
      },
      {
        "duration": 264,
        "start_time": "2023-03-26T12:46:45.120Z"
      },
      {
        "duration": 562,
        "start_time": "2023-03-26T12:46:45.389Z"
      },
      {
        "duration": 70,
        "start_time": "2023-03-26T12:46:45.953Z"
      },
      {
        "duration": 73,
        "start_time": "2023-03-26T12:46:46.024Z"
      },
      {
        "duration": 504,
        "start_time": "2023-03-26T12:46:46.099Z"
      },
      {
        "duration": 84,
        "start_time": "2023-03-26T12:46:46.605Z"
      },
      {
        "duration": 65,
        "start_time": "2023-03-26T12:46:46.690Z"
      },
      {
        "duration": 12,
        "start_time": "2023-03-26T12:46:46.765Z"
      },
      {
        "duration": 82,
        "start_time": "2023-03-26T12:46:46.783Z"
      },
      {
        "duration": 38,
        "start_time": "2023-03-26T12:46:46.869Z"
      },
      {
        "duration": 26,
        "start_time": "2023-03-26T12:46:46.909Z"
      },
      {
        "duration": 3889,
        "start_time": "2023-03-26T12:46:46.937Z"
      },
      {
        "duration": 108088,
        "start_time": "2023-03-26T12:47:03.679Z"
      },
      {
        "duration": 89618,
        "start_time": "2023-03-26T12:49:21.867Z"
      },
      {
        "duration": 10740,
        "start_time": "2023-03-26T12:52:14.801Z"
      },
      {
        "duration": 1639,
        "start_time": "2023-03-26T13:47:37.596Z"
      },
      {
        "duration": 1262,
        "start_time": "2023-03-26T13:47:39.238Z"
      },
      {
        "duration": 27,
        "start_time": "2023-03-26T13:47:40.502Z"
      },
      {
        "duration": 187,
        "start_time": "2023-03-26T13:47:40.531Z"
      },
      {
        "duration": 32,
        "start_time": "2023-03-26T13:47:40.720Z"
      },
      {
        "duration": 21,
        "start_time": "2023-03-26T13:47:40.766Z"
      },
      {
        "duration": 39,
        "start_time": "2023-03-26T13:47:40.788Z"
      },
      {
        "duration": 569,
        "start_time": "2023-03-26T13:47:40.829Z"
      },
      {
        "duration": 27,
        "start_time": "2023-03-26T13:47:41.400Z"
      },
      {
        "duration": 39,
        "start_time": "2023-03-26T13:47:41.429Z"
      },
      {
        "duration": 1522,
        "start_time": "2023-03-26T13:47:41.480Z"
      },
      {
        "duration": 33,
        "start_time": "2023-03-26T13:47:43.004Z"
      },
      {
        "duration": 11,
        "start_time": "2023-03-26T13:47:43.038Z"
      },
      {
        "duration": 46,
        "start_time": "2023-03-26T13:47:43.061Z"
      },
      {
        "duration": 368,
        "start_time": "2023-03-26T13:47:43.109Z"
      },
      {
        "duration": 23,
        "start_time": "2023-03-26T13:47:43.478Z"
      },
      {
        "duration": 12,
        "start_time": "2023-03-26T13:47:43.502Z"
      },
      {
        "duration": 28,
        "start_time": "2023-03-26T13:47:43.516Z"
      },
      {
        "duration": 240,
        "start_time": "2023-03-26T13:47:43.545Z"
      },
      {
        "duration": 435,
        "start_time": "2023-03-26T13:47:43.790Z"
      },
      {
        "duration": 4,
        "start_time": "2023-03-26T13:47:44.227Z"
      },
      {
        "duration": 215,
        "start_time": "2023-03-26T13:47:44.233Z"
      },
      {
        "duration": 97,
        "start_time": "2023-03-26T13:47:44.449Z"
      },
      {
        "duration": 58,
        "start_time": "2023-03-26T13:47:44.548Z"
      },
      {
        "duration": 289,
        "start_time": "2023-03-26T13:47:44.609Z"
      },
      {
        "duration": 536,
        "start_time": "2023-03-26T13:47:44.900Z"
      },
      {
        "duration": 71,
        "start_time": "2023-03-26T13:47:45.438Z"
      },
      {
        "duration": 81,
        "start_time": "2023-03-26T13:47:45.511Z"
      },
      {
        "duration": 462,
        "start_time": "2023-03-26T13:47:45.596Z"
      },
      {
        "duration": 84,
        "start_time": "2023-03-26T13:47:46.060Z"
      },
      {
        "duration": 95,
        "start_time": "2023-03-26T13:47:46.146Z"
      },
      {
        "duration": 27,
        "start_time": "2023-03-26T13:47:46.244Z"
      },
      {
        "duration": 83,
        "start_time": "2023-03-26T13:47:46.272Z"
      },
      {
        "duration": 38,
        "start_time": "2023-03-26T13:47:46.357Z"
      },
      {
        "duration": 26,
        "start_time": "2023-03-26T13:47:46.397Z"
      },
      {
        "duration": 3792,
        "start_time": "2023-03-26T13:47:46.426Z"
      },
      {
        "duration": 150067,
        "start_time": "2023-03-26T13:47:50.220Z"
      },
      {
        "duration": 12017,
        "start_time": "2023-03-26T13:50:20.290Z"
      },
      {
        "duration": 160,
        "start_time": "2023-03-26T13:50:57.346Z"
      },
      {
        "duration": 12,
        "start_time": "2023-03-26T13:51:37.056Z"
      },
      {
        "duration": 737,
        "start_time": "2023-03-26T13:51:55.982Z"
      },
      {
        "duration": 14,
        "start_time": "2023-03-26T13:52:00.886Z"
      },
      {
        "duration": 74,
        "start_time": "2023-03-26T15:34:33.137Z"
      },
      {
        "duration": 130,
        "start_time": "2023-03-26T15:36:09.627Z"
      },
      {
        "duration": 95,
        "start_time": "2023-03-26T15:36:45.814Z"
      },
      {
        "duration": 17,
        "start_time": "2023-03-26T15:37:59.262Z"
      },
      {
        "duration": 20,
        "start_time": "2023-03-26T15:38:20.883Z"
      },
      {
        "duration": 5,
        "start_time": "2023-03-26T15:38:38.630Z"
      },
      {
        "duration": 1089,
        "start_time": "2023-03-26T15:38:38.637Z"
      },
      {
        "duration": 13,
        "start_time": "2023-03-26T15:38:39.728Z"
      },
      {
        "duration": 115,
        "start_time": "2023-03-26T15:38:39.743Z"
      },
      {
        "duration": 39,
        "start_time": "2023-03-26T15:38:39.864Z"
      },
      {
        "duration": 10,
        "start_time": "2023-03-26T15:38:39.905Z"
      },
      {
        "duration": 66,
        "start_time": "2023-03-26T15:38:39.917Z"
      },
      {
        "duration": 517,
        "start_time": "2023-03-26T15:38:39.993Z"
      },
      {
        "duration": 20,
        "start_time": "2023-03-26T15:38:40.512Z"
      },
      {
        "duration": 8,
        "start_time": "2023-03-26T15:38:40.534Z"
      },
      {
        "duration": 1577,
        "start_time": "2023-03-26T15:38:40.543Z"
      },
      {
        "duration": 32,
        "start_time": "2023-03-26T15:38:42.122Z"
      },
      {
        "duration": 25,
        "start_time": "2023-03-26T15:38:42.166Z"
      },
      {
        "duration": 26,
        "start_time": "2023-03-26T15:38:42.197Z"
      },
      {
        "duration": 417,
        "start_time": "2023-03-26T15:38:42.225Z"
      },
      {
        "duration": 28,
        "start_time": "2023-03-26T15:38:42.644Z"
      },
      {
        "duration": 22,
        "start_time": "2023-03-26T15:38:42.674Z"
      },
      {
        "duration": 25,
        "start_time": "2023-03-26T15:38:42.698Z"
      },
      {
        "duration": 228,
        "start_time": "2023-03-26T15:38:42.725Z"
      },
      {
        "duration": 355,
        "start_time": "2023-03-26T15:38:42.955Z"
      },
      {
        "duration": 3,
        "start_time": "2023-03-26T15:38:43.312Z"
      },
      {
        "duration": 210,
        "start_time": "2023-03-26T15:38:43.317Z"
      },
      {
        "duration": 89,
        "start_time": "2023-03-26T15:38:43.529Z"
      },
      {
        "duration": 44,
        "start_time": "2023-03-26T15:38:43.620Z"
      },
      {
        "duration": 258,
        "start_time": "2023-03-26T15:38:43.666Z"
      },
      {
        "duration": 594,
        "start_time": "2023-03-26T15:38:43.926Z"
      },
      {
        "duration": 68,
        "start_time": "2023-03-26T15:38:44.522Z"
      },
      {
        "duration": 60,
        "start_time": "2023-03-26T15:38:44.596Z"
      },
      {
        "duration": 313,
        "start_time": "2023-03-26T15:38:44.658Z"
      },
      {
        "duration": 80,
        "start_time": "2023-03-26T15:38:44.977Z"
      },
      {
        "duration": 83,
        "start_time": "2023-03-26T15:38:45.059Z"
      },
      {
        "duration": 4,
        "start_time": "2023-03-26T15:38:45.144Z"
      },
      {
        "duration": 83,
        "start_time": "2023-03-26T15:38:45.162Z"
      },
      {
        "duration": 49,
        "start_time": "2023-03-26T15:38:45.247Z"
      },
      {
        "duration": 24,
        "start_time": "2023-03-26T15:38:45.298Z"
      },
      {
        "duration": 3654,
        "start_time": "2023-03-26T15:38:45.324Z"
      },
      {
        "duration": 90976,
        "start_time": "2023-03-26T15:39:55.889Z"
      },
      {
        "duration": 9938,
        "start_time": "2023-03-26T15:42:20.252Z"
      },
      {
        "duration": 13,
        "start_time": "2023-03-26T15:42:48.026Z"
      },
      {
        "duration": 1637,
        "start_time": "2023-03-26T15:55:49.851Z"
      },
      {
        "duration": 1202,
        "start_time": "2023-03-26T15:55:51.494Z"
      },
      {
        "duration": 20,
        "start_time": "2023-03-26T15:55:52.697Z"
      },
      {
        "duration": 114,
        "start_time": "2023-03-26T15:55:52.719Z"
      },
      {
        "duration": 47,
        "start_time": "2023-03-26T15:55:52.835Z"
      },
      {
        "duration": 15,
        "start_time": "2023-03-26T15:55:52.884Z"
      },
      {
        "duration": 44,
        "start_time": "2023-03-26T15:55:52.901Z"
      },
      {
        "duration": 582,
        "start_time": "2023-03-26T15:55:52.946Z"
      },
      {
        "duration": 24,
        "start_time": "2023-03-26T15:55:53.529Z"
      },
      {
        "duration": 23,
        "start_time": "2023-03-26T15:55:53.565Z"
      },
      {
        "duration": 1715,
        "start_time": "2023-03-26T15:55:53.590Z"
      },
      {
        "duration": 34,
        "start_time": "2023-03-26T15:55:55.307Z"
      },
      {
        "duration": 23,
        "start_time": "2023-03-26T15:55:55.343Z"
      },
      {
        "duration": 34,
        "start_time": "2023-03-26T15:55:55.369Z"
      },
      {
        "duration": 435,
        "start_time": "2023-03-26T15:55:55.406Z"
      },
      {
        "duration": 29,
        "start_time": "2023-03-26T15:55:55.843Z"
      },
      {
        "duration": 16,
        "start_time": "2023-03-26T15:55:55.875Z"
      },
      {
        "duration": 23,
        "start_time": "2023-03-26T15:55:55.895Z"
      },
      {
        "duration": 238,
        "start_time": "2023-03-26T15:55:55.920Z"
      },
      {
        "duration": 366,
        "start_time": "2023-03-26T15:55:56.161Z"
      },
      {
        "duration": 4,
        "start_time": "2023-03-26T15:55:56.529Z"
      },
      {
        "duration": 199,
        "start_time": "2023-03-26T15:55:56.536Z"
      },
      {
        "duration": 93,
        "start_time": "2023-03-26T15:55:56.737Z"
      },
      {
        "duration": 49,
        "start_time": "2023-03-26T15:55:56.831Z"
      },
      {
        "duration": 278,
        "start_time": "2023-03-26T15:55:56.884Z"
      },
      {
        "duration": 578,
        "start_time": "2023-03-26T15:55:57.176Z"
      },
      {
        "duration": 73,
        "start_time": "2023-03-26T15:55:57.756Z"
      },
      {
        "duration": 87,
        "start_time": "2023-03-26T15:55:57.831Z"
      },
      {
        "duration": 468,
        "start_time": "2023-03-26T15:55:57.920Z"
      },
      {
        "duration": 71,
        "start_time": "2023-03-26T15:55:58.389Z"
      },
      {
        "duration": 80,
        "start_time": "2023-03-26T15:55:58.465Z"
      },
      {
        "duration": 5,
        "start_time": "2023-03-26T15:55:58.547Z"
      },
      {
        "duration": 98,
        "start_time": "2023-03-26T15:55:58.564Z"
      },
      {
        "duration": 39,
        "start_time": "2023-03-26T15:55:58.664Z"
      },
      {
        "duration": 31,
        "start_time": "2023-03-26T15:55:58.705Z"
      },
      {
        "duration": 3854,
        "start_time": "2023-03-26T15:55:58.737Z"
      },
      {
        "duration": 1434,
        "start_time": "2023-03-26T16:45:41.011Z"
      },
      {
        "duration": 1055,
        "start_time": "2023-03-26T16:45:42.447Z"
      },
      {
        "duration": 24,
        "start_time": "2023-03-26T16:45:43.505Z"
      },
      {
        "duration": 123,
        "start_time": "2023-03-26T16:45:43.531Z"
      },
      {
        "duration": 36,
        "start_time": "2023-03-26T16:45:43.656Z"
      },
      {
        "duration": 17,
        "start_time": "2023-03-26T16:45:43.694Z"
      },
      {
        "duration": 60,
        "start_time": "2023-03-26T16:45:43.713Z"
      },
      {
        "duration": 575,
        "start_time": "2023-03-26T16:45:43.775Z"
      },
      {
        "duration": 28,
        "start_time": "2023-03-26T16:45:44.352Z"
      },
      {
        "duration": 9,
        "start_time": "2023-03-26T16:45:44.382Z"
      },
      {
        "duration": 1398,
        "start_time": "2023-03-26T16:45:44.393Z"
      },
      {
        "duration": 33,
        "start_time": "2023-03-26T16:45:45.792Z"
      },
      {
        "duration": 12,
        "start_time": "2023-03-26T16:45:45.827Z"
      },
      {
        "duration": 26,
        "start_time": "2023-03-26T16:45:45.861Z"
      },
      {
        "duration": 305,
        "start_time": "2023-03-26T16:45:45.889Z"
      },
      {
        "duration": 17,
        "start_time": "2023-03-26T16:45:46.196Z"
      },
      {
        "duration": 10,
        "start_time": "2023-03-26T16:45:46.214Z"
      },
      {
        "duration": 42,
        "start_time": "2023-03-26T16:45:46.226Z"
      },
      {
        "duration": 178,
        "start_time": "2023-03-26T16:45:46.269Z"
      },
      {
        "duration": 297,
        "start_time": "2023-03-26T16:45:46.449Z"
      },
      {
        "duration": 4,
        "start_time": "2023-03-26T16:45:46.748Z"
      },
      {
        "duration": 177,
        "start_time": "2023-03-26T16:45:46.762Z"
      },
      {
        "duration": 70,
        "start_time": "2023-03-26T16:45:46.941Z"
      },
      {
        "duration": 57,
        "start_time": "2023-03-26T16:45:47.013Z"
      },
      {
        "duration": 258,
        "start_time": "2023-03-26T16:45:47.072Z"
      },
      {
        "duration": 474,
        "start_time": "2023-03-26T16:45:47.331Z"
      },
      {
        "duration": 61,
        "start_time": "2023-03-26T16:45:47.806Z"
      },
      {
        "duration": 58,
        "start_time": "2023-03-26T16:45:47.868Z"
      },
      {
        "duration": 389,
        "start_time": "2023-03-26T16:45:47.928Z"
      },
      {
        "duration": 80,
        "start_time": "2023-03-26T16:45:48.319Z"
      },
      {
        "duration": 69,
        "start_time": "2023-03-26T16:45:48.401Z"
      },
      {
        "duration": 3,
        "start_time": "2023-03-26T16:45:48.472Z"
      },
      {
        "duration": 85,
        "start_time": "2023-03-26T16:45:48.477Z"
      },
      {
        "duration": 33,
        "start_time": "2023-03-26T16:45:48.564Z"
      },
      {
        "duration": 27,
        "start_time": "2023-03-26T16:45:48.599Z"
      },
      {
        "duration": 3463,
        "start_time": "2023-03-26T16:45:48.628Z"
      },
      {
        "duration": 55647,
        "start_time": "2023-03-26T16:46:12.616Z"
      },
      {
        "duration": 8476,
        "start_time": "2023-03-26T16:47:13.844Z"
      },
      {
        "duration": 5,
        "start_time": "2023-03-26T16:47:35.857Z"
      },
      {
        "duration": 10,
        "start_time": "2023-03-26T16:47:48.014Z"
      },
      {
        "duration": 57,
        "start_time": "2023-03-27T10:39:11.570Z"
      },
      {
        "duration": 2019,
        "start_time": "2023-03-27T10:39:16.631Z"
      },
      {
        "duration": 3059,
        "start_time": "2023-03-27T10:39:18.653Z"
      },
      {
        "duration": 19,
        "start_time": "2023-03-27T10:39:21.714Z"
      },
      {
        "duration": 102,
        "start_time": "2023-03-27T10:39:21.740Z"
      },
      {
        "duration": 36,
        "start_time": "2023-03-27T10:39:21.846Z"
      },
      {
        "duration": 11,
        "start_time": "2023-03-27T10:39:21.884Z"
      },
      {
        "duration": 62,
        "start_time": "2023-03-27T10:39:21.896Z"
      },
      {
        "duration": 491,
        "start_time": "2023-03-27T10:39:21.961Z"
      },
      {
        "duration": 25,
        "start_time": "2023-03-27T10:39:22.454Z"
      },
      {
        "duration": 10,
        "start_time": "2023-03-27T10:39:22.480Z"
      },
      {
        "duration": 1451,
        "start_time": "2023-03-27T10:39:22.492Z"
      },
      {
        "duration": 33,
        "start_time": "2023-03-27T10:39:23.945Z"
      },
      {
        "duration": 12,
        "start_time": "2023-03-27T10:39:23.981Z"
      },
      {
        "duration": 45,
        "start_time": "2023-03-27T10:39:23.997Z"
      },
      {
        "duration": 320,
        "start_time": "2023-03-27T10:39:24.044Z"
      },
      {
        "duration": 18,
        "start_time": "2023-03-27T10:39:24.366Z"
      },
      {
        "duration": 11,
        "start_time": "2023-03-27T10:39:24.386Z"
      },
      {
        "duration": 46,
        "start_time": "2023-03-27T10:39:24.399Z"
      },
      {
        "duration": 185,
        "start_time": "2023-03-27T10:39:24.446Z"
      },
      {
        "duration": 369,
        "start_time": "2023-03-27T10:39:24.632Z"
      },
      {
        "duration": 5,
        "start_time": "2023-03-27T10:39:25.003Z"
      },
      {
        "duration": 170,
        "start_time": "2023-03-27T10:39:25.010Z"
      },
      {
        "duration": 76,
        "start_time": "2023-03-27T10:39:25.182Z"
      },
      {
        "duration": 32,
        "start_time": "2023-03-27T10:39:25.260Z"
      },
      {
        "duration": 247,
        "start_time": "2023-03-27T10:39:25.294Z"
      },
      {
        "duration": 464,
        "start_time": "2023-03-27T10:39:25.543Z"
      },
      {
        "duration": 62,
        "start_time": "2023-03-27T10:39:26.009Z"
      },
      {
        "duration": 55,
        "start_time": "2023-03-27T10:39:26.073Z"
      },
      {
        "duration": 400,
        "start_time": "2023-03-27T10:39:26.130Z"
      },
      {
        "duration": 73,
        "start_time": "2023-03-27T10:39:26.532Z"
      },
      {
        "duration": 73,
        "start_time": "2023-03-27T10:39:26.607Z"
      },
      {
        "duration": 4,
        "start_time": "2023-03-27T10:39:26.681Z"
      },
      {
        "duration": 86,
        "start_time": "2023-03-27T10:39:26.686Z"
      },
      {
        "duration": 32,
        "start_time": "2023-03-27T10:39:26.773Z"
      },
      {
        "duration": 43,
        "start_time": "2023-03-27T10:39:26.806Z"
      },
      {
        "duration": 3481,
        "start_time": "2023-03-27T10:39:26.851Z"
      },
      {
        "duration": 35253,
        "start_time": "2023-03-27T10:39:37.690Z"
      },
      {
        "duration": 9122,
        "start_time": "2023-03-27T10:41:00.778Z"
      },
      {
        "duration": 116,
        "start_time": "2023-03-27T10:41:30.195Z"
      },
      {
        "duration": 90,
        "start_time": "2023-03-27T10:42:06.514Z"
      },
      {
        "duration": 23328,
        "start_time": "2023-03-27T10:42:20.219Z"
      },
      {
        "duration": 25333,
        "start_time": "2023-03-27T10:46:17.528Z"
      },
      {
        "duration": 27019,
        "start_time": "2023-03-27T10:49:45.147Z"
      },
      {
        "duration": 24142,
        "start_time": "2023-03-27T10:51:59.721Z"
      },
      {
        "duration": 24433,
        "start_time": "2023-03-27T10:52:26.922Z"
      },
      {
        "duration": 97,
        "start_time": "2023-03-27T10:54:21.353Z"
      },
      {
        "duration": 26562,
        "start_time": "2023-03-27T10:54:39.100Z"
      },
      {
        "duration": 17,
        "start_time": "2023-03-27T10:59:32.189Z"
      },
      {
        "duration": 93,
        "start_time": "2023-03-27T11:00:16.799Z"
      },
      {
        "duration": 125,
        "start_time": "2023-03-27T11:00:28.210Z"
      },
      {
        "duration": 25198,
        "start_time": "2023-03-27T11:01:07.263Z"
      },
      {
        "duration": 150,
        "start_time": "2023-03-27T11:06:05.400Z"
      },
      {
        "duration": 27256,
        "start_time": "2023-03-27T11:06:25.700Z"
      },
      {
        "duration": 11,
        "start_time": "2023-03-27T11:08:56.458Z"
      },
      {
        "duration": 420,
        "start_time": "2023-03-27T11:10:23.742Z"
      },
      {
        "duration": 363,
        "start_time": "2023-03-27T11:10:50.906Z"
      },
      {
        "duration": 418,
        "start_time": "2023-03-27T11:11:22.146Z"
      },
      {
        "duration": 38225,
        "start_time": "2023-03-27T11:16:46.621Z"
      }
    ],
    "kernelspec": {
      "display_name": "Python 3 (ipykernel)",
      "language": "python",
      "name": "python3"
    },
    "language_info": {
      "codemirror_mode": {
        "name": "ipython",
        "version": 3
      },
      "file_extension": ".py",
      "mimetype": "text/x-python",
      "name": "python",
      "nbconvert_exporter": "python",
      "pygments_lexer": "ipython3",
      "version": "3.9.5"
    },
    "toc": {
      "base_numbering": 1,
      "nav_menu": {},
      "number_sections": true,
      "sideBar": true,
      "skip_h1_title": true,
      "title_cell": "Table of Contents",
      "title_sidebar": "Contents",
      "toc_cell": false,
      "toc_position": {},
      "toc_section_display": true,
      "toc_window_display": true
    },
    "colab": {
      "provenance": []
    }
  },
  "nbformat": 4,
  "nbformat_minor": 0
}